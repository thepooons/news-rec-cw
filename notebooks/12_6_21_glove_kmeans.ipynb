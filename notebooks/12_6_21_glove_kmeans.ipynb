{
 "metadata": {
  "language_info": {
   "codemirror_mode": {
    "name": "ipython",
    "version": 3
   },
   "file_extension": ".py",
   "mimetype": "text/x-python",
   "name": "python",
   "nbconvert_exporter": "python",
   "pygments_lexer": "ipython3",
   "version": "3.9.5"
  },
  "orig_nbformat": 4,
  "kernelspec": {
   "name": "python3",
   "display_name": "Python 3.9.5 64-bit ('news_env': conda)"
  },
  "interpreter": {
   "hash": "dbaa56355543e5e694c750fbaa3f1bda27eea84b84693d9eb9d2f61641d8d05a"
  }
 },
 "nbformat": 4,
 "nbformat_minor": 2,
 "cells": [
  {
   "source": [
    "# motive: create document vectors using glove vectors and apply kmeans elbow method"
   ],
   "cell_type": "markdown",
   "metadata": {}
  },
  {
   "cell_type": "code",
   "execution_count": 6,
   "metadata": {},
   "outputs": [],
   "source": [
    "import pandas as pd \n",
    "import numpy as np \n",
    "from  sklearn.cluster import KMeans\n",
    "from sklearn import metrics\n",
    "from scipy.spatial.distance import cdist\n",
    "from sklearn.model_selection import train_test_split\n",
    "from tqdm import tqdm\n",
    "import matplotlib.pyplot as plt \n",
    "import seaborn as sns\n",
    "import re\n",
    "import unicodedata\n",
    "plt.style.use(\"fivethirtyeight\")"
   ]
  },
  {
   "cell_type": "code",
   "execution_count": 7,
   "metadata": {},
   "outputs": [],
   "source": [
    "def loadGloveModel(File):\n",
    "    print(\"Loading Glove Model\")\n",
    "    f = open(File,'r', encoding='utf-8')\n",
    "    gloveModel = {}\n",
    "    for line in f:\n",
    "        splitLines = line.split()\n",
    "        word = splitLines[0]\n",
    "        wordEmbedding = np.array([float(value) for value in splitLines[1:]])\n",
    "        gloveModel[word] = wordEmbedding\n",
    "    print(len(gloveModel),\" words loaded!\")\n",
    "    return gloveModel"
   ]
  },
  {
   "cell_type": "code",
   "execution_count": 8,
   "metadata": {},
   "outputs": [
    {
     "output_type": "stream",
     "name": "stdout",
     "text": [
      "Loading Glove Model\n",
      "97560  words loaded!\n"
     ]
    },
    {
     "output_type": "execute_result",
     "data": {
      "text/plain": [
       "array([ 0.563438,  0.52277 , -0.433918,  0.537428,  0.192701, -0.459339,\n",
       "        0.069168,  2.806205,  0.481013,  0.217027, -0.115527, -0.662062,\n",
       "        1.101435,  0.094228,  0.425501,  1.727088, -0.208481, -0.255216,\n",
       "       -0.891137, -1.413951, -1.089308,  0.053546,  0.870738,  0.29064 ,\n",
       "       -0.095718,  0.148959,  0.271302,  1.000774,  0.687156, -1.300904,\n",
       "       -1.033333, -0.055956, -0.415387,  0.617472,  0.626294, -0.07473 ,\n",
       "       -1.157495,  0.070156,  0.439022, -0.451402,  0.89465 , -0.457658,\n",
       "        0.058881,  0.896188,  0.401561, -0.209764, -1.244779, -0.211447,\n",
       "        0.737068, -0.273008])"
      ]
     },
     "metadata": {},
     "execution_count": 8
    }
   ],
   "source": [
    "glove_vectors = loadGloveModel(\"../data/GloVe/vectors.txt\")\n",
    "glove_vectors[\"covid19\"]"
   ]
  },
  {
   "cell_type": "code",
   "execution_count": 9,
   "metadata": {},
   "outputs": [
    {
     "output_type": "execute_result",
     "data": {
      "text/plain": [
       "                                                heading  \\\n",
       "0     domestic abuse: swansea man jailed for murderi...   \n",
       "1     covid-19: how india failed to prevent a deadly...   \n",
       "2     northampton blaze 'cruel blow', say firm's owners   \n",
       "3     einstein handwritten letter with equation fetc...   \n",
       "4     florida high school alters 80 'immodest' yearb...   \n",
       "...                                                 ...   \n",
       "7895  after long wait, max group sells 13% stake in ...   \n",
       "7896  high court allows china's bytedance to operate...   \n",
       "7897  ajay tyagi: separation of cmd roles not aimed ...   \n",
       "7898  linkedin job titles:  now, you can call yourse...   \n",
       "7899  maharashtra covid guidelines:  maharashtra cur...   \n",
       "\n",
       "                                                content  \n",
       "0     a man has been jailed for life for battering h...  \n",
       "1     in early march, india's health minister harsh ...  \n",
       "2     two friends who spent 10 years building up the...  \n",
       "3     a letter written by albert einstein containing...  \n",
       "4     a florida high school is facing a backlash for...  \n",
       "...                                                 ...  \n",
       "7895  new delhi/mumbai: diversified max group has so...  \n",
       "7896  mumbai: the bombay high court on tuesday permi...  \n",
       "7897  new delhi: capital markets regulator sebi chie...  \n",
       "7898  bengaluru: linkedin has introduced new job tit...  \n",
       "7899  new delhi: the fresh covid lockdown in maharas...  \n",
       "\n",
       "[7900 rows x 2 columns]"
      ],
      "text/html": "<div>\n<style scoped>\n    .dataframe tbody tr th:only-of-type {\n        vertical-align: middle;\n    }\n\n    .dataframe tbody tr th {\n        vertical-align: top;\n    }\n\n    .dataframe thead th {\n        text-align: right;\n    }\n</style>\n<table border=\"1\" class=\"dataframe\">\n  <thead>\n    <tr style=\"text-align: right;\">\n      <th></th>\n      <th>heading</th>\n      <th>content</th>\n    </tr>\n  </thead>\n  <tbody>\n    <tr>\n      <th>0</th>\n      <td>domestic abuse: swansea man jailed for murderi...</td>\n      <td>a man has been jailed for life for battering h...</td>\n    </tr>\n    <tr>\n      <th>1</th>\n      <td>covid-19: how india failed to prevent a deadly...</td>\n      <td>in early march, india's health minister harsh ...</td>\n    </tr>\n    <tr>\n      <th>2</th>\n      <td>northampton blaze 'cruel blow', say firm's owners</td>\n      <td>two friends who spent 10 years building up the...</td>\n    </tr>\n    <tr>\n      <th>3</th>\n      <td>einstein handwritten letter with equation fetc...</td>\n      <td>a letter written by albert einstein containing...</td>\n    </tr>\n    <tr>\n      <th>4</th>\n      <td>florida high school alters 80 'immodest' yearb...</td>\n      <td>a florida high school is facing a backlash for...</td>\n    </tr>\n    <tr>\n      <th>...</th>\n      <td>...</td>\n      <td>...</td>\n    </tr>\n    <tr>\n      <th>7895</th>\n      <td>after long wait, max group sells 13% stake in ...</td>\n      <td>new delhi/mumbai: diversified max group has so...</td>\n    </tr>\n    <tr>\n      <th>7896</th>\n      <td>high court allows china's bytedance to operate...</td>\n      <td>mumbai: the bombay high court on tuesday permi...</td>\n    </tr>\n    <tr>\n      <th>7897</th>\n      <td>ajay tyagi: separation of cmd roles not aimed ...</td>\n      <td>new delhi: capital markets regulator sebi chie...</td>\n    </tr>\n    <tr>\n      <th>7898</th>\n      <td>linkedin job titles:  now, you can call yourse...</td>\n      <td>bengaluru: linkedin has introduced new job tit...</td>\n    </tr>\n    <tr>\n      <th>7899</th>\n      <td>maharashtra covid guidelines:  maharashtra cur...</td>\n      <td>new delhi: the fresh covid lockdown in maharas...</td>\n    </tr>\n  </tbody>\n</table>\n<p>7900 rows × 2 columns</p>\n</div>"
     },
     "metadata": {},
     "execution_count": 9
    }
   ],
   "source": [
    "data = pd.read_csv(\"../data/bbc_toi_yahoo_stats_feats.csv\")\n",
    "data = data.loc[:, [\"heading\", \"content\"]]\n",
    "data"
   ]
  },
  {
   "source": [
    "## create document vectors form GloVe"
   ],
   "cell_type": "markdown",
   "metadata": {}
  },
  {
   "cell_type": "code",
   "execution_count": 10,
   "metadata": {},
   "outputs": [
    {
     "output_type": "execute_result",
     "data": {
      "text/plain": [
       "(7900, 50)"
      ]
     },
     "metadata": {},
     "execution_count": 10
    }
   ],
   "source": [
    "headings_cleaned = []\n",
    "for heading in data.loc[:, \"heading\"]:\n",
    "    heading = str(unicodedata.normalize(\"NFKD\", heading).encode(\"ascii\", \"ignore\").decode(\"ascii\")).lower()\n",
    "    heading_cleaned = []\n",
    "    tokens = [re.sub(\"\"\"[!,*)@#+=~`%(&‘_\\-:?.👏🏼“^”\"'’\\]\\[]\"\"\",'', word.strip()) for word in heading.split(\" \")]\n",
    "    for token in tokens:\n",
    "        if token in glove_vectors.keys():\n",
    "            heading_cleaned.append(glove_vectors[token])\n",
    "    headings_cleaned.append(np.mean(np.array(heading_cleaned), axis=0))\n",
    "\n",
    "np.array(headings_cleaned).shape"
   ]
  },
  {
   "cell_type": "code",
   "execution_count": 11,
   "metadata": {},
   "outputs": [
    {
     "output_type": "execute_result",
     "data": {
      "text/plain": [
       "(7900, 50)"
      ]
     },
     "metadata": {},
     "execution_count": 11
    }
   ],
   "source": [
    "contents_cleaned = []\n",
    "for content in data.loc[:, \"content\"]:\n",
    "    content = str(unicodedata.normalize(\"NFKD\", content).encode(\"ascii\", \"ignore\").decode(\"ascii\")).lower()\n",
    "    content_cleaned = []\n",
    "    tokens = [re.sub(\"\"\"[!,*)@#+=~`%(&‘_\\-:?.👏🏼“^”\"'’\\]\\[]\"\"\",'', word.strip()) for word in content.split(\" \")]\n",
    "    for token in tokens:\n",
    "        if token in glove_vectors.keys():\n",
    "            content_cleaned.append(glove_vectors[token])\n",
    "    contents_cleaned.append(np.mean(np.array(heading_cleaned), axis=0))\n",
    "\n",
    "np.array(contents_cleaned).shape"
   ]
  },
  {
   "cell_type": "code",
   "execution_count": 12,
   "metadata": {},
   "outputs": [
    {
     "output_type": "execute_result",
     "data": {
      "text/plain": [
       "7900"
      ]
     },
     "metadata": {},
     "execution_count": 12
    }
   ],
   "source": [
    "heading_vectors = pd.DataFrame(\n",
    "    data=np.array(headings_cleaned), \n",
    "    columns=[f\"heading_{i}\" for i in range(50)],\n",
    ")\n",
    "content_vectors = pd.DataFrame(\n",
    "    data=np.array(contents_cleaned), \n",
    "    columns=[f\"content_{i}\" for i in range(50)],\n",
    ")\n",
    "\n",
    "len(content_vectors)"
   ]
  },
  {
   "cell_type": "code",
   "execution_count": 13,
   "metadata": {},
   "outputs": [
    {
     "output_type": "execute_result",
     "data": {
      "text/plain": [
       "(7900, 100)"
      ]
     },
     "metadata": {},
     "execution_count": 13
    }
   ],
   "source": [
    "vector_data = pd.concat(objs=[heading_vectors, content_vectors], axis=1)\n",
    "vector_data.shape"
   ]
  },
  {
   "cell_type": "code",
   "execution_count": 14,
   "metadata": {},
   "outputs": [
    {
     "output_type": "stream",
     "name": "stderr",
     "text": [
      "100%|██████████| 10/10 [00:10<00:00,  1.08s/it]\n"
     ]
    }
   ],
   "source": [
    "train_data = vector_data\n",
    "distortions = []\n",
    "inertias = []\n",
    "mapping1 = {}\n",
    "mapping2 = {}\n",
    "K = range(1, 11)\n",
    "for k in tqdm(K):\n",
    "    # Building and fitting the model\n",
    "    kmeanModel = KMeans(\n",
    "        n_clusters=k,\n",
    "        init='k-means++',\n",
    "        n_init=10,\n",
    "        max_iter=300,\n",
    "        tol=0.0001,\n",
    "        precompute_distances='deprecated',\n",
    "        verbose=0,\n",
    "        random_state=None,\n",
    "        copy_x=True,\n",
    "        n_jobs='deprecated',\n",
    "        algorithm='auto'\n",
    "    )\n",
    "    kmeanModel.fit(train_data)\n",
    "\n",
    "    distortions.append(sum(np.min(cdist(train_data, kmeanModel.cluster_centers_,\n",
    "                                        'euclidean'), axis=1)) / train_data.shape[0])\n",
    "    inertias.append(kmeanModel.inertia_)\n",
    "\n",
    "    mapping1[k] = sum(np.min(cdist(train_data, kmeanModel.cluster_centers_,\n",
    "                                    'euclidean'), axis=1)) / train_data.shape[0]\n",
    "    mapping2[k] = kmeanModel.inertia_"
   ]
  },
  {
   "cell_type": "code",
   "execution_count": 15,
   "metadata": {},
   "outputs": [
    {
     "output_type": "execute_result",
     "data": {
      "text/plain": [
       "<AxesSubplot:>"
      ]
     },
     "metadata": {},
     "execution_count": 15
    },
    {
     "output_type": "display_data",
     "data": {
      "text/plain": "<Figure size 432x288 with 1 Axes>",
      "image/svg+xml": "<?xml version=\"1.0\" encoding=\"utf-8\" standalone=\"no\"?>\r\n<!DOCTYPE svg PUBLIC \"-//W3C//DTD SVG 1.1//EN\"\r\n  \"http://www.w3.org/Graphics/SVG/1.1/DTD/svg11.dtd\">\r\n<!-- Created with matplotlib (https://matplotlib.org/) -->\r\n<svg height=\"264.729375pt\" version=\"1.1\" viewBox=\"0 0 438.2775 264.729375\" width=\"438.2775pt\" xmlns=\"http://www.w3.org/2000/svg\" xmlns:xlink=\"http://www.w3.org/1999/xlink\">\r\n <metadata>\r\n  <rdf:RDF xmlns:cc=\"http://creativecommons.org/ns#\" xmlns:dc=\"http://purl.org/dc/elements/1.1/\" xmlns:rdf=\"http://www.w3.org/1999/02/22-rdf-syntax-ns#\">\r\n   <cc:Work>\r\n    <dc:type rdf:resource=\"http://purl.org/dc/dcmitype/StillImage\"/>\r\n    <dc:date>2021-06-13T20:47:38.431159</dc:date>\r\n    <dc:format>image/svg+xml</dc:format>\r\n    <dc:creator>\r\n     <cc:Agent>\r\n      <dc:title>Matplotlib v3.3.4, https://matplotlib.org/</dc:title>\r\n     </cc:Agent>\r\n    </dc:creator>\r\n   </cc:Work>\r\n  </rdf:RDF>\r\n </metadata>\r\n <defs>\r\n  <style type=\"text/css\">*{stroke-linecap:butt;stroke-linejoin:round;}</style>\r\n </defs>\r\n <g id=\"figure_1\">\r\n  <g id=\"patch_1\">\r\n   <path d=\"M 0 264.729375 \r\nL 438.2775 264.729375 \r\nL 438.2775 0 \r\nL 0 0 \r\nz\r\n\" style=\"fill:#f0f0f0;\"/>\r\n  </g>\r\n  <g id=\"axes_1\">\r\n   <g id=\"patch_2\">\r\n    <path d=\"M 55.2375 240.48 \r\nL 431.0775 240.48 \r\nL 431.0775 7.2 \r\nL 55.2375 7.2 \r\nz\r\n\" style=\"fill:#f0f0f0;\"/>\r\n   </g>\r\n   <g id=\"matplotlib.axis_1\">\r\n    <g id=\"xtick_1\">\r\n     <g id=\"line2d_1\">\r\n      <path clip-path=\"url(#pd832f1809f)\" d=\"M 110.284773 240.48 \r\nL 110.284773 7.2 \r\n\" style=\"fill:none;stroke:#cbcbcb;\"/>\r\n     </g>\r\n     <g id=\"line2d_2\"/>\r\n     <g id=\"text_1\">\r\n      <!-- 2 -->\r\n      <g transform=\"translate(105.831023 254.617813)scale(0.14 -0.14)\">\r\n       <defs>\r\n        <path d=\"M 19.1875 8.296875 \r\nL 53.609375 8.296875 \r\nL 53.609375 0 \r\nL 7.328125 0 \r\nL 7.328125 8.296875 \r\nQ 12.9375 14.109375 22.625 23.890625 \r\nQ 32.328125 33.6875 34.8125 36.53125 \r\nQ 39.546875 41.84375 41.421875 45.53125 \r\nQ 43.3125 49.21875 43.3125 52.78125 \r\nQ 43.3125 58.59375 39.234375 62.25 \r\nQ 35.15625 65.921875 28.609375 65.921875 \r\nQ 23.96875 65.921875 18.8125 64.3125 \r\nQ 13.671875 62.703125 7.8125 59.421875 \r\nL 7.8125 69.390625 \r\nQ 13.765625 71.78125 18.9375 73 \r\nQ 24.125 74.21875 28.421875 74.21875 \r\nQ 39.75 74.21875 46.484375 68.546875 \r\nQ 53.21875 62.890625 53.21875 53.421875 \r\nQ 53.21875 48.921875 51.53125 44.890625 \r\nQ 49.859375 40.875 45.40625 35.40625 \r\nQ 44.1875 33.984375 37.640625 27.21875 \r\nQ 31.109375 20.453125 19.1875 8.296875 \r\nz\r\n\" id=\"DejaVuSans-50\"/>\r\n       </defs>\r\n       <use xlink:href=\"#DejaVuSans-50\"/>\r\n      </g>\r\n     </g>\r\n    </g>\r\n    <g id=\"xtick_2\">\r\n     <g id=\"line2d_3\">\r\n      <path clip-path=\"url(#pd832f1809f)\" d=\"M 186.212045 240.48 \r\nL 186.212045 7.2 \r\n\" style=\"fill:none;stroke:#cbcbcb;\"/>\r\n     </g>\r\n     <g id=\"line2d_4\"/>\r\n     <g id=\"text_2\">\r\n      <!-- 4 -->\r\n      <g transform=\"translate(181.758295 254.617813)scale(0.14 -0.14)\">\r\n       <defs>\r\n        <path d=\"M 37.796875 64.3125 \r\nL 12.890625 25.390625 \r\nL 37.796875 25.390625 \r\nz\r\nM 35.203125 72.90625 \r\nL 47.609375 72.90625 \r\nL 47.609375 25.390625 \r\nL 58.015625 25.390625 \r\nL 58.015625 17.1875 \r\nL 47.609375 17.1875 \r\nL 47.609375 0 \r\nL 37.796875 0 \r\nL 37.796875 17.1875 \r\nL 4.890625 17.1875 \r\nL 4.890625 26.703125 \r\nz\r\n\" id=\"DejaVuSans-52\"/>\r\n       </defs>\r\n       <use xlink:href=\"#DejaVuSans-52\"/>\r\n      </g>\r\n     </g>\r\n    </g>\r\n    <g id=\"xtick_3\">\r\n     <g id=\"line2d_5\">\r\n      <path clip-path=\"url(#pd832f1809f)\" d=\"M 262.139318 240.48 \r\nL 262.139318 7.2 \r\n\" style=\"fill:none;stroke:#cbcbcb;\"/>\r\n     </g>\r\n     <g id=\"line2d_6\"/>\r\n     <g id=\"text_3\">\r\n      <!-- 6 -->\r\n      <g transform=\"translate(257.685568 254.617813)scale(0.14 -0.14)\">\r\n       <defs>\r\n        <path d=\"M 33.015625 40.375 \r\nQ 26.375 40.375 22.484375 35.828125 \r\nQ 18.609375 31.296875 18.609375 23.390625 \r\nQ 18.609375 15.53125 22.484375 10.953125 \r\nQ 26.375 6.390625 33.015625 6.390625 \r\nQ 39.65625 6.390625 43.53125 10.953125 \r\nQ 47.40625 15.53125 47.40625 23.390625 \r\nQ 47.40625 31.296875 43.53125 35.828125 \r\nQ 39.65625 40.375 33.015625 40.375 \r\nz\r\nM 52.59375 71.296875 \r\nL 52.59375 62.3125 \r\nQ 48.875 64.0625 45.09375 64.984375 \r\nQ 41.3125 65.921875 37.59375 65.921875 \r\nQ 27.828125 65.921875 22.671875 59.328125 \r\nQ 17.53125 52.734375 16.796875 39.40625 \r\nQ 19.671875 43.65625 24.015625 45.921875 \r\nQ 28.375 48.1875 33.59375 48.1875 \r\nQ 44.578125 48.1875 50.953125 41.515625 \r\nQ 57.328125 34.859375 57.328125 23.390625 \r\nQ 57.328125 12.15625 50.6875 5.359375 \r\nQ 44.046875 -1.421875 33.015625 -1.421875 \r\nQ 20.359375 -1.421875 13.671875 8.265625 \r\nQ 6.984375 17.96875 6.984375 36.375 \r\nQ 6.984375 53.65625 15.1875 63.9375 \r\nQ 23.390625 74.21875 37.203125 74.21875 \r\nQ 40.921875 74.21875 44.703125 73.484375 \r\nQ 48.484375 72.75 52.59375 71.296875 \r\nz\r\n\" id=\"DejaVuSans-54\"/>\r\n       </defs>\r\n       <use xlink:href=\"#DejaVuSans-54\"/>\r\n      </g>\r\n     </g>\r\n    </g>\r\n    <g id=\"xtick_4\">\r\n     <g id=\"line2d_7\">\r\n      <path clip-path=\"url(#pd832f1809f)\" d=\"M 338.066591 240.48 \r\nL 338.066591 7.2 \r\n\" style=\"fill:none;stroke:#cbcbcb;\"/>\r\n     </g>\r\n     <g id=\"line2d_8\"/>\r\n     <g id=\"text_4\">\r\n      <!-- 8 -->\r\n      <g transform=\"translate(333.612841 254.617813)scale(0.14 -0.14)\">\r\n       <defs>\r\n        <path d=\"M 31.78125 34.625 \r\nQ 24.75 34.625 20.71875 30.859375 \r\nQ 16.703125 27.09375 16.703125 20.515625 \r\nQ 16.703125 13.921875 20.71875 10.15625 \r\nQ 24.75 6.390625 31.78125 6.390625 \r\nQ 38.8125 6.390625 42.859375 10.171875 \r\nQ 46.921875 13.96875 46.921875 20.515625 \r\nQ 46.921875 27.09375 42.890625 30.859375 \r\nQ 38.875 34.625 31.78125 34.625 \r\nz\r\nM 21.921875 38.8125 \r\nQ 15.578125 40.375 12.03125 44.71875 \r\nQ 8.5 49.078125 8.5 55.328125 \r\nQ 8.5 64.0625 14.71875 69.140625 \r\nQ 20.953125 74.21875 31.78125 74.21875 \r\nQ 42.671875 74.21875 48.875 69.140625 \r\nQ 55.078125 64.0625 55.078125 55.328125 \r\nQ 55.078125 49.078125 51.53125 44.71875 \r\nQ 48 40.375 41.703125 38.8125 \r\nQ 48.828125 37.15625 52.796875 32.3125 \r\nQ 56.78125 27.484375 56.78125 20.515625 \r\nQ 56.78125 9.90625 50.3125 4.234375 \r\nQ 43.84375 -1.421875 31.78125 -1.421875 \r\nQ 19.734375 -1.421875 13.25 4.234375 \r\nQ 6.78125 9.90625 6.78125 20.515625 \r\nQ 6.78125 27.484375 10.78125 32.3125 \r\nQ 14.796875 37.15625 21.921875 38.8125 \r\nz\r\nM 18.3125 54.390625 \r\nQ 18.3125 48.734375 21.84375 45.5625 \r\nQ 25.390625 42.390625 31.78125 42.390625 \r\nQ 38.140625 42.390625 41.71875 45.5625 \r\nQ 45.3125 48.734375 45.3125 54.390625 \r\nQ 45.3125 60.0625 41.71875 63.234375 \r\nQ 38.140625 66.40625 31.78125 66.40625 \r\nQ 25.390625 66.40625 21.84375 63.234375 \r\nQ 18.3125 60.0625 18.3125 54.390625 \r\nz\r\n\" id=\"DejaVuSans-56\"/>\r\n       </defs>\r\n       <use xlink:href=\"#DejaVuSans-56\"/>\r\n      </g>\r\n     </g>\r\n    </g>\r\n    <g id=\"xtick_5\">\r\n     <g id=\"line2d_9\">\r\n      <path clip-path=\"url(#pd832f1809f)\" d=\"M 413.993864 240.48 \r\nL 413.993864 7.2 \r\n\" style=\"fill:none;stroke:#cbcbcb;\"/>\r\n     </g>\r\n     <g id=\"line2d_10\"/>\r\n     <g id=\"text_5\">\r\n      <!-- 10 -->\r\n      <g transform=\"translate(405.086364 254.617813)scale(0.14 -0.14)\">\r\n       <defs>\r\n        <path d=\"M 12.40625 8.296875 \r\nL 28.515625 8.296875 \r\nL 28.515625 63.921875 \r\nL 10.984375 60.40625 \r\nL 10.984375 69.390625 \r\nL 28.421875 72.90625 \r\nL 38.28125 72.90625 \r\nL 38.28125 8.296875 \r\nL 54.390625 8.296875 \r\nL 54.390625 0 \r\nL 12.40625 0 \r\nz\r\n\" id=\"DejaVuSans-49\"/>\r\n        <path d=\"M 31.78125 66.40625 \r\nQ 24.171875 66.40625 20.328125 58.90625 \r\nQ 16.5 51.421875 16.5 36.375 \r\nQ 16.5 21.390625 20.328125 13.890625 \r\nQ 24.171875 6.390625 31.78125 6.390625 \r\nQ 39.453125 6.390625 43.28125 13.890625 \r\nQ 47.125 21.390625 47.125 36.375 \r\nQ 47.125 51.421875 43.28125 58.90625 \r\nQ 39.453125 66.40625 31.78125 66.40625 \r\nz\r\nM 31.78125 74.21875 \r\nQ 44.046875 74.21875 50.515625 64.515625 \r\nQ 56.984375 54.828125 56.984375 36.375 \r\nQ 56.984375 17.96875 50.515625 8.265625 \r\nQ 44.046875 -1.421875 31.78125 -1.421875 \r\nQ 19.53125 -1.421875 13.0625 8.265625 \r\nQ 6.59375 17.96875 6.59375 36.375 \r\nQ 6.59375 54.828125 13.0625 64.515625 \r\nQ 19.53125 74.21875 31.78125 74.21875 \r\nz\r\n\" id=\"DejaVuSans-48\"/>\r\n       </defs>\r\n       <use xlink:href=\"#DejaVuSans-49\"/>\r\n       <use x=\"63.623047\" xlink:href=\"#DejaVuSans-48\"/>\r\n      </g>\r\n     </g>\r\n    </g>\r\n   </g>\r\n   <g id=\"matplotlib.axis_2\">\r\n    <g id=\"ytick_1\">\r\n     <g id=\"line2d_11\">\r\n      <path clip-path=\"url(#pd832f1809f)\" d=\"M 55.2375 219.838801 \r\nL 431.0775 219.838801 \r\n\" style=\"fill:none;stroke:#cbcbcb;\"/>\r\n     </g>\r\n     <g id=\"line2d_12\"/>\r\n     <g id=\"text_6\">\r\n      <!-- 22000 -->\r\n      <g transform=\"translate(7.2 225.157708)scale(0.14 -0.14)\">\r\n       <use xlink:href=\"#DejaVuSans-50\"/>\r\n       <use x=\"63.623047\" xlink:href=\"#DejaVuSans-50\"/>\r\n       <use x=\"127.246094\" xlink:href=\"#DejaVuSans-48\"/>\r\n       <use x=\"190.869141\" xlink:href=\"#DejaVuSans-48\"/>\r\n       <use x=\"254.492188\" xlink:href=\"#DejaVuSans-48\"/>\r\n      </g>\r\n     </g>\r\n    </g>\r\n    <g id=\"ytick_2\">\r\n     <g id=\"line2d_13\">\r\n      <path clip-path=\"url(#pd832f1809f)\" d=\"M 55.2375 171.474691 \r\nL 431.0775 171.474691 \r\n\" style=\"fill:none;stroke:#cbcbcb;\"/>\r\n     </g>\r\n     <g id=\"line2d_14\"/>\r\n     <g id=\"text_7\">\r\n      <!-- 24000 -->\r\n      <g transform=\"translate(7.2 176.793597)scale(0.14 -0.14)\">\r\n       <use xlink:href=\"#DejaVuSans-50\"/>\r\n       <use x=\"63.623047\" xlink:href=\"#DejaVuSans-52\"/>\r\n       <use x=\"127.246094\" xlink:href=\"#DejaVuSans-48\"/>\r\n       <use x=\"190.869141\" xlink:href=\"#DejaVuSans-48\"/>\r\n       <use x=\"254.492188\" xlink:href=\"#DejaVuSans-48\"/>\r\n      </g>\r\n     </g>\r\n    </g>\r\n    <g id=\"ytick_3\">\r\n     <g id=\"line2d_15\">\r\n      <path clip-path=\"url(#pd832f1809f)\" d=\"M 55.2375 123.11058 \r\nL 431.0775 123.11058 \r\n\" style=\"fill:none;stroke:#cbcbcb;\"/>\r\n     </g>\r\n     <g id=\"line2d_16\"/>\r\n     <g id=\"text_8\">\r\n      <!-- 26000 -->\r\n      <g transform=\"translate(7.2 128.429487)scale(0.14 -0.14)\">\r\n       <use xlink:href=\"#DejaVuSans-50\"/>\r\n       <use x=\"63.623047\" xlink:href=\"#DejaVuSans-54\"/>\r\n       <use x=\"127.246094\" xlink:href=\"#DejaVuSans-48\"/>\r\n       <use x=\"190.869141\" xlink:href=\"#DejaVuSans-48\"/>\r\n       <use x=\"254.492188\" xlink:href=\"#DejaVuSans-48\"/>\r\n      </g>\r\n     </g>\r\n    </g>\r\n    <g id=\"ytick_4\">\r\n     <g id=\"line2d_17\">\r\n      <path clip-path=\"url(#pd832f1809f)\" d=\"M 55.2375 74.74647 \r\nL 431.0775 74.74647 \r\n\" style=\"fill:none;stroke:#cbcbcb;\"/>\r\n     </g>\r\n     <g id=\"line2d_18\"/>\r\n     <g id=\"text_9\">\r\n      <!-- 28000 -->\r\n      <g transform=\"translate(7.2 80.065376)scale(0.14 -0.14)\">\r\n       <use xlink:href=\"#DejaVuSans-50\"/>\r\n       <use x=\"63.623047\" xlink:href=\"#DejaVuSans-56\"/>\r\n       <use x=\"127.246094\" xlink:href=\"#DejaVuSans-48\"/>\r\n       <use x=\"190.869141\" xlink:href=\"#DejaVuSans-48\"/>\r\n       <use x=\"254.492188\" xlink:href=\"#DejaVuSans-48\"/>\r\n      </g>\r\n     </g>\r\n    </g>\r\n    <g id=\"ytick_5\">\r\n     <g id=\"line2d_19\">\r\n      <path clip-path=\"url(#pd832f1809f)\" d=\"M 55.2375 26.382359 \r\nL 431.0775 26.382359 \r\n\" style=\"fill:none;stroke:#cbcbcb;\"/>\r\n     </g>\r\n     <g id=\"line2d_20\"/>\r\n     <g id=\"text_10\">\r\n      <!-- 30000 -->\r\n      <g transform=\"translate(7.2 31.701265)scale(0.14 -0.14)\">\r\n       <defs>\r\n        <path d=\"M 40.578125 39.3125 \r\nQ 47.65625 37.796875 51.625 33 \r\nQ 55.609375 28.21875 55.609375 21.1875 \r\nQ 55.609375 10.40625 48.1875 4.484375 \r\nQ 40.765625 -1.421875 27.09375 -1.421875 \r\nQ 22.515625 -1.421875 17.65625 -0.515625 \r\nQ 12.796875 0.390625 7.625 2.203125 \r\nL 7.625 11.71875 \r\nQ 11.71875 9.328125 16.59375 8.109375 \r\nQ 21.484375 6.890625 26.8125 6.890625 \r\nQ 36.078125 6.890625 40.9375 10.546875 \r\nQ 45.796875 14.203125 45.796875 21.1875 \r\nQ 45.796875 27.640625 41.28125 31.265625 \r\nQ 36.765625 34.90625 28.71875 34.90625 \r\nL 20.21875 34.90625 \r\nL 20.21875 43.015625 \r\nL 29.109375 43.015625 \r\nQ 36.375 43.015625 40.234375 45.921875 \r\nQ 44.09375 48.828125 44.09375 54.296875 \r\nQ 44.09375 59.90625 40.109375 62.90625 \r\nQ 36.140625 65.921875 28.71875 65.921875 \r\nQ 24.65625 65.921875 20.015625 65.03125 \r\nQ 15.375 64.15625 9.8125 62.3125 \r\nL 9.8125 71.09375 \r\nQ 15.4375 72.65625 20.34375 73.4375 \r\nQ 25.25 74.21875 29.59375 74.21875 \r\nQ 40.828125 74.21875 47.359375 69.109375 \r\nQ 53.90625 64.015625 53.90625 55.328125 \r\nQ 53.90625 49.265625 50.4375 45.09375 \r\nQ 46.96875 40.921875 40.578125 39.3125 \r\nz\r\n\" id=\"DejaVuSans-51\"/>\r\n       </defs>\r\n       <use xlink:href=\"#DejaVuSans-51\"/>\r\n       <use x=\"63.623047\" xlink:href=\"#DejaVuSans-48\"/>\r\n       <use x=\"127.246094\" xlink:href=\"#DejaVuSans-48\"/>\r\n       <use x=\"190.869141\" xlink:href=\"#DejaVuSans-48\"/>\r\n       <use x=\"254.492188\" xlink:href=\"#DejaVuSans-48\"/>\r\n      </g>\r\n     </g>\r\n    </g>\r\n   </g>\r\n   <g id=\"line2d_21\">\r\n    <path clip-path=\"url(#pd832f1809f)\" d=\"M 72.321136 17.803636 \r\nL 110.284773 114.40786 \r\nL 148.248409 155.445978 \r\nL 186.212045 173.280707 \r\nL 224.175682 186.354601 \r\nL 262.139318 198.516784 \r\nL 300.102955 208.255866 \r\nL 338.066591 216.527151 \r\nL 376.030227 223.647873 \r\nL 413.993864 229.876364 \r\n\" style=\"fill:none;stroke:#008fd5;stroke-width:4;\"/>\r\n   </g>\r\n   <g id=\"patch_3\">\r\n    <path d=\"M 55.2375 240.48 \r\nL 55.2375 7.2 \r\n\" style=\"fill:none;stroke:#f0f0f0;stroke-linecap:square;stroke-linejoin:miter;stroke-width:3;\"/>\r\n   </g>\r\n   <g id=\"patch_4\">\r\n    <path d=\"M 431.0775 240.48 \r\nL 431.0775 7.2 \r\n\" style=\"fill:none;stroke:#f0f0f0;stroke-linecap:square;stroke-linejoin:miter;stroke-width:3;\"/>\r\n   </g>\r\n   <g id=\"patch_5\">\r\n    <path d=\"M 55.2375 240.48 \r\nL 431.0775 240.48 \r\n\" style=\"fill:none;stroke:#f0f0f0;stroke-linecap:square;stroke-linejoin:miter;stroke-width:3;\"/>\r\n   </g>\r\n   <g id=\"patch_6\">\r\n    <path d=\"M 55.2375 7.2 \r\nL 431.0775 7.2 \r\n\" style=\"fill:none;stroke:#f0f0f0;stroke-linecap:square;stroke-linejoin:miter;stroke-width:3;\"/>\r\n   </g>\r\n  </g>\r\n </g>\r\n <defs>\r\n  <clipPath id=\"pd832f1809f\">\r\n   <rect height=\"233.28\" width=\"375.84\" x=\"55.2375\" y=\"7.2\"/>\r\n  </clipPath>\r\n </defs>\r\n</svg>\r\n",
      "image/png": "[encoded data removed]"
     },
     "metadata": {}
    }
   ],
   "source": [
    "sns.lineplot(x=mapping2.keys(), y=mapping2.values())"
   ]
  },
  {
   "cell_type": "code",
   "execution_count": 16,
   "metadata": {},
   "outputs": [
    {
     "output_type": "execute_result",
     "data": {
      "text/plain": [
       "array([1, 0, 1, ..., 2, 4, 3])"
      ]
     },
     "metadata": {},
     "execution_count": 16
    }
   ],
   "source": [
    "kmeanModel = KMeans(\n",
    "    n_clusters=5,\n",
    "    init='k-means++',\n",
    "    n_init=10,\n",
    "    max_iter=300,\n",
    "    tol=0.0001,\n",
    "    precompute_distances='deprecated',\n",
    "    verbose=0,\n",
    "    random_state=None,\n",
    "    copy_x=True,\n",
    "    n_jobs='deprecated',\n",
    "    algorithm='auto'\n",
    ")\n",
    "kmeanModel.fit(vector_data)\n",
    "\n",
    "kmeanModel.labels_"
   ]
  },
  {
   "cell_type": "code",
   "execution_count": 19,
   "metadata": {},
   "outputs": [],
   "source": [
    "data = pd.read_csv(\"../data/bbc_toi_yahoo_stats_feats.csv\")\n",
    "data.loc[:, \"id\"] = range(0, len(data))\n",
    "data.loc[:, \"cluster_id\"] = kmeanModel.labels_\n",
    "data.loc[:, [f\"heading_{i}\" for i in range(50)]] = vector_data.loc[:, [f\"heading_{i}\" for i in range(50)]]\n",
    "data.loc[:, [f\"content_{i}\" for i in range(50)]] = vector_data.loc[:, [f\"content_{i}\" for i in range(50)]]\n",
    "data.loc[:, \"article_id\"] = range(0, len(data))"
   ]
  },
  {
   "cell_type": "code",
   "execution_count": 20,
   "metadata": {},
   "outputs": [],
   "source": [
    "data.to_csv(\"../data/common/bbc_toi_yahoo_news_clustered_vectored.csv\", index=False)"
   ]
  }
 ]
}