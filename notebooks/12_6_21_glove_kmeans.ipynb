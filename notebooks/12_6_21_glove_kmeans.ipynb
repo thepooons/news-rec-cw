{
 "metadata": {
  "language_info": {
   "codemirror_mode": {
    "name": "ipython",
    "version": 3
   },
   "file_extension": ".py",
   "mimetype": "text/x-python",
   "name": "python",
   "nbconvert_exporter": "python",
   "pygments_lexer": "ipython3",
   "version": "3.9.5"
  },
  "orig_nbformat": 4,
  "kernelspec": {
   "name": "python3",
   "display_name": "Python 3.9.5 64-bit ('news_env': conda)"
  },
  "interpreter": {
   "hash": "dbaa56355543e5e694c750fbaa3f1bda27eea84b84693d9eb9d2f61641d8d05a"
  }
 },
 "nbformat": 4,
 "nbformat_minor": 2,
 "cells": [
  {
   "source": [
    "# motive: create document vectors using glove vectors and apply kmeans elbow method"
   ],
   "cell_type": "markdown",
   "metadata": {}
  },
  {
   "cell_type": "code",
   "execution_count": 25,
   "metadata": {},
   "outputs": [],
   "source": [
    "import pandas as pd \n",
    "import numpy as np \n",
    "from  sklearn.cluster import KMeans\n",
    "from sklearn import metrics\n",
    "from scipy.spatial.distance import cdist\n",
    "from sklearn.model_selection import train_test_split\n",
    "from tqdm import tqdm\n",
    "import matplotlib.pyplot as plt \n",
    "import seaborn as sns\n",
    "import re\n",
    "plt.style.use(\"fivethirtyeight\")"
   ]
  },
  {
   "cell_type": "code",
   "execution_count": 2,
   "metadata": {},
   "outputs": [],
   "source": [
    "def loadGloveModel(File):\n",
    "    print(\"Loading Glove Model\")\n",
    "    f = open(File,'r', encoding='utf-8')\n",
    "    gloveModel = {}\n",
    "    for line in f:\n",
    "        splitLines = line.split()\n",
    "        word = splitLines[0]\n",
    "        wordEmbedding = np.array([float(value) for value in splitLines[1:]])\n",
    "        gloveModel[word] = wordEmbedding\n",
    "    print(len(gloveModel),\" words loaded!\")\n",
    "    return gloveModel"
   ]
  },
  {
   "cell_type": "code",
   "execution_count": 3,
   "metadata": {},
   "outputs": [
    {
     "output_type": "stream",
     "name": "stdout",
     "text": [
      "Loading Glove Model\n",
      "28704  words loaded!\n"
     ]
    },
    {
     "output_type": "execute_result",
     "data": {
      "text/plain": [
       "array([ 0.39456 , -0.402685, -0.484987, -0.735917,  2.142848, -1.094912,\n",
       "        1.121425,  0.741852,  0.355968, -0.394099,  0.342987,  0.598717,\n",
       "       -1.080016, -1.038038, -0.710382,  0.966173, -0.554905, -0.120793,\n",
       "        1.035304, -0.524753, -0.646999,  0.764189, -0.37255 ,  0.134055,\n",
       "       -1.759473,  0.205418,  0.132801, -0.604197, -0.222995,  1.043059,\n",
       "        0.294879, -0.549645, -0.274023, -0.504667, -0.138191,  0.976385,\n",
       "       -0.509519,  0.839242, -0.853391, -0.169954,  0.124499, -0.340437,\n",
       "        0.808791,  0.379731, -0.421217, -0.05845 ,  0.32843 , -0.098347,\n",
       "        0.871915,  0.396767])"
      ]
     },
     "metadata": {},
     "execution_count": 3
    }
   ],
   "source": [
    "glove_vectors = loadGloveModel(\"../data/GloVe/vectors.txt\")\n",
    "glove_vectors[\"covid19\"]"
   ]
  },
  {
   "cell_type": "code",
   "execution_count": 4,
   "metadata": {},
   "outputs": [
    {
     "output_type": "execute_result",
     "data": {
      "text/plain": [
       "                                                heading  \\\n",
       "0     domestic abuse: swansea man jailed for murderi...   \n",
       "1     covid-19: how india failed to prevent a deadly...   \n",
       "2     northampton blaze 'cruel blow', say firm's owners   \n",
       "3     einstein handwritten letter with equation fetc...   \n",
       "4     florida high school alters 80 'immodest' yearb...   \n",
       "...                                                 ...   \n",
       "7895  after long wait, max group sells 13% stake in ...   \n",
       "7896  high court allows china's bytedance to operate...   \n",
       "7897  ajay tyagi: separation of cmd roles not aimed ...   \n",
       "7898  linkedin job titles:  now, you can call yourse...   \n",
       "7899  maharashtra covid guidelines:  maharashtra cur...   \n",
       "\n",
       "                                                content  \n",
       "0     a man has been jailed for life for battering h...  \n",
       "1     in early march, india's health minister harsh ...  \n",
       "2     two friends who spent 10 years building up the...  \n",
       "3     a letter written by albert einstein containing...  \n",
       "4     a florida high school is facing a backlash for...  \n",
       "...                                                 ...  \n",
       "7895  new delhi/mumbai: diversified max group has so...  \n",
       "7896  mumbai: the bombay high court on tuesday permi...  \n",
       "7897  new delhi: capital markets regulator sebi chie...  \n",
       "7898  bengaluru: linkedin has introduced new job tit...  \n",
       "7899  new delhi: the fresh covid lockdown in maharas...  \n",
       "\n",
       "[7900 rows x 2 columns]"
      ],
      "text/html": "<div>\n<style scoped>\n    .dataframe tbody tr th:only-of-type {\n        vertical-align: middle;\n    }\n\n    .dataframe tbody tr th {\n        vertical-align: top;\n    }\n\n    .dataframe thead th {\n        text-align: right;\n    }\n</style>\n<table border=\"1\" class=\"dataframe\">\n  <thead>\n    <tr style=\"text-align: right;\">\n      <th></th>\n      <th>heading</th>\n      <th>content</th>\n    </tr>\n  </thead>\n  <tbody>\n    <tr>\n      <th>0</th>\n      <td>domestic abuse: swansea man jailed for murderi...</td>\n      <td>a man has been jailed for life for battering h...</td>\n    </tr>\n    <tr>\n      <th>1</th>\n      <td>covid-19: how india failed to prevent a deadly...</td>\n      <td>in early march, india's health minister harsh ...</td>\n    </tr>\n    <tr>\n      <th>2</th>\n      <td>northampton blaze 'cruel blow', say firm's owners</td>\n      <td>two friends who spent 10 years building up the...</td>\n    </tr>\n    <tr>\n      <th>3</th>\n      <td>einstein handwritten letter with equation fetc...</td>\n      <td>a letter written by albert einstein containing...</td>\n    </tr>\n    <tr>\n      <th>4</th>\n      <td>florida high school alters 80 'immodest' yearb...</td>\n      <td>a florida high school is facing a backlash for...</td>\n    </tr>\n    <tr>\n      <th>...</th>\n      <td>...</td>\n      <td>...</td>\n    </tr>\n    <tr>\n      <th>7895</th>\n      <td>after long wait, max group sells 13% stake in ...</td>\n      <td>new delhi/mumbai: diversified max group has so...</td>\n    </tr>\n    <tr>\n      <th>7896</th>\n      <td>high court allows china's bytedance to operate...</td>\n      <td>mumbai: the bombay high court on tuesday permi...</td>\n    </tr>\n    <tr>\n      <th>7897</th>\n      <td>ajay tyagi: separation of cmd roles not aimed ...</td>\n      <td>new delhi: capital markets regulator sebi chie...</td>\n    </tr>\n    <tr>\n      <th>7898</th>\n      <td>linkedin job titles:  now, you can call yourse...</td>\n      <td>bengaluru: linkedin has introduced new job tit...</td>\n    </tr>\n    <tr>\n      <th>7899</th>\n      <td>maharashtra covid guidelines:  maharashtra cur...</td>\n      <td>new delhi: the fresh covid lockdown in maharas...</td>\n    </tr>\n  </tbody>\n</table>\n<p>7900 rows × 2 columns</p>\n</div>"
     },
     "metadata": {},
     "execution_count": 4
    }
   ],
   "source": [
    "data = pd.read_csv(\"../data/bbc_toi_yahoo_stats_feats.csv\")\n",
    "data = data.loc[:, [\"heading\", \"content\"]]\n",
    "data"
   ]
  },
  {
   "source": [
    "## create document vectors form GloVe"
   ],
   "cell_type": "markdown",
   "metadata": {}
  },
  {
   "cell_type": "code",
   "execution_count": 5,
   "metadata": {},
   "outputs": [
    {
     "output_type": "execute_result",
     "data": {
      "text/plain": [
       "(7900, 50)"
      ]
     },
     "metadata": {},
     "execution_count": 5
    }
   ],
   "source": [
    "headings_cleaned = []\n",
    "for heading in data.loc[:, \"heading\"]:\n",
    "    heading_cleaned = []\n",
    "    tokens = [re.sub(\"\"\"[!,*)@#+=~`%(&‘_\\-:?.👏🏼“^”\"'’\\]\\[]\"\"\",'', word.strip()) for word in heading.split(\" \")]\n",
    "    for token in tokens:\n",
    "        if token in glove_vectors.keys():\n",
    "            heading_cleaned.append(glove_vectors[token])\n",
    "    headings_cleaned.append(np.mean(np.array(heading_cleaned), axis=0))\n",
    "\n",
    "np.array(headings_cleaned).shape"
   ]
  },
  {
   "cell_type": "code",
   "execution_count": 7,
   "metadata": {},
   "outputs": [
    {
     "output_type": "execute_result",
     "data": {
      "text/plain": [
       "(7900, 50)"
      ]
     },
     "metadata": {},
     "execution_count": 7
    }
   ],
   "source": [
    "contents_cleaned = []\n",
    "for content in data.loc[:, \"content\"]:\n",
    "    content_cleaned = []\n",
    "    tokens = [re.sub(\"\"\"[!,*)@#+=~`%(&‘_\\-:?.👏🏼“^”\"'’\\]\\[]\"\"\",'', word.strip()) for word in content.split(\" \")]\n",
    "    for token in tokens:\n",
    "        if token in glove_vectors.keys():\n",
    "            content_cleaned.append(glove_vectors[token])\n",
    "    contents_cleaned.append(np.mean(np.array(heading_cleaned), axis=0))\n",
    "\n",
    "np.array(contents_cleaned).shape"
   ]
  },
  {
   "cell_type": "code",
   "execution_count": 8,
   "metadata": {},
   "outputs": [
    {
     "output_type": "execute_result",
     "data": {
      "text/plain": [
       "7900"
      ]
     },
     "metadata": {},
     "execution_count": 8
    }
   ],
   "source": [
    "heading_vectors = pd.DataFrame(\n",
    "    data=np.array(headings_cleaned), \n",
    "    columns=[f\"heading_{i}\" for i in range(50)],\n",
    ")\n",
    "content_vectors = pd.DataFrame(\n",
    "    data=np.array(contents_cleaned), \n",
    "    columns=[f\"content_{i}\" for i in range(50)],\n",
    ")\n",
    "\n",
    "len(content_vectors)"
   ]
  },
  {
   "cell_type": "code",
   "execution_count": 9,
   "metadata": {},
   "outputs": [
    {
     "output_type": "execute_result",
     "data": {
      "text/plain": [
       "(7900, 100)"
      ]
     },
     "metadata": {},
     "execution_count": 9
    }
   ],
   "source": [
    "vector_data = pd.concat(objs=[heading_vectors, content_vectors], axis=1)\n",
    "vector_data.shape"
   ]
  },
  {
   "cell_type": "code",
   "execution_count": 17,
   "metadata": {},
   "outputs": [
    {
     "output_type": "stream",
     "name": "stderr",
     "text": [
      "100%|██████████| 10/10 [00:15<00:00,  1.59s/it]\n"
     ]
    }
   ],
   "source": [
    "train_data = vector_data\n",
    "distortions = []\n",
    "inertias = []\n",
    "mapping1 = {}\n",
    "mapping2 = {}\n",
    "K = range(1, 11)\n",
    "for k in tqdm(K):\n",
    "    # Building and fitting the model\n",
    "    kmeanModel = KMeans(\n",
    "        n_clusters=k,\n",
    "        init='k-means++',\n",
    "        n_init=10,\n",
    "        max_iter=300,\n",
    "        tol=0.0001,\n",
    "        precompute_distances='deprecated',\n",
    "        verbose=0,\n",
    "        random_state=None,\n",
    "        copy_x=True,\n",
    "        n_jobs='deprecated',\n",
    "        algorithm='auto'\n",
    "    )\n",
    "    kmeanModel.fit(train_data)\n",
    "\n",
    "    distortions.append(sum(np.min(cdist(train_data, kmeanModel.cluster_centers_,\n",
    "                                        'euclidean'), axis=1)) / train_data.shape[0])\n",
    "    inertias.append(kmeanModel.inertia_)\n",
    "\n",
    "    mapping1[k] = sum(np.min(cdist(train_data, kmeanModel.cluster_centers_,\n",
    "                                    'euclidean'), axis=1)) / train_data.shape[0]\n",
    "    mapping2[k] = kmeanModel.inertia_"
   ]
  },
  {
   "cell_type": "code",
   "execution_count": 18,
   "metadata": {},
   "outputs": [
    {
     "output_type": "execute_result",
     "data": {
      "text/plain": [
       "<AxesSubplot:>"
      ]
     },
     "metadata": {},
     "execution_count": 18
    },
    {
     "output_type": "display_data",
     "data": {
      "text/plain": "<Figure size 432x288 with 1 Axes>",
      "image/svg+xml": "<?xml version=\"1.0\" encoding=\"utf-8\" standalone=\"no\"?>\r\n<!DOCTYPE svg PUBLIC \"-//W3C//DTD SVG 1.1//EN\"\r\n  \"http://www.w3.org/Graphics/SVG/1.1/DTD/svg11.dtd\">\r\n<!-- Created with matplotlib (https://matplotlib.org/) -->\r\n<svg height=\"264.729375pt\" version=\"1.1\" viewBox=\"0 0 438.2775 264.729375\" width=\"438.2775pt\" xmlns=\"http://www.w3.org/2000/svg\" xmlns:xlink=\"http://www.w3.org/1999/xlink\">\r\n <metadata>\r\n  <rdf:RDF xmlns:cc=\"http://creativecommons.org/ns#\" xmlns:dc=\"http://purl.org/dc/elements/1.1/\" xmlns:rdf=\"http://www.w3.org/1999/02/22-rdf-syntax-ns#\">\r\n   <cc:Work>\r\n    <dc:type rdf:resource=\"http://purl.org/dc/dcmitype/StillImage\"/>\r\n    <dc:date>2021-06-12T22:25:27.598145</dc:date>\r\n    <dc:format>image/svg+xml</dc:format>\r\n    <dc:creator>\r\n     <cc:Agent>\r\n      <dc:title>Matplotlib v3.3.4, https://matplotlib.org/</dc:title>\r\n     </cc:Agent>\r\n    </dc:creator>\r\n   </cc:Work>\r\n  </rdf:RDF>\r\n </metadata>\r\n <defs>\r\n  <style type=\"text/css\">*{stroke-linecap:butt;stroke-linejoin:round;}</style>\r\n </defs>\r\n <g id=\"figure_1\">\r\n  <g id=\"patch_1\">\r\n   <path d=\"M 0 264.729375 \r\nL 438.2775 264.729375 \r\nL 438.2775 0 \r\nL 0 0 \r\nz\r\n\" style=\"fill:#f0f0f0;\"/>\r\n  </g>\r\n  <g id=\"axes_1\">\r\n   <g id=\"patch_2\">\r\n    <path d=\"M 55.2375 240.48 \r\nL 431.0775 240.48 \r\nL 431.0775 7.2 \r\nL 55.2375 7.2 \r\nz\r\n\" style=\"fill:#f0f0f0;\"/>\r\n   </g>\r\n   <g id=\"matplotlib.axis_1\">\r\n    <g id=\"xtick_1\">\r\n     <g id=\"line2d_1\">\r\n      <path clip-path=\"url(#p37fbde4c74)\" d=\"M 110.284773 240.48 \r\nL 110.284773 7.2 \r\n\" style=\"fill:none;stroke:#cbcbcb;\"/>\r\n     </g>\r\n     <g id=\"line2d_2\"/>\r\n     <g id=\"text_1\">\r\n      <!-- 2 -->\r\n      <g transform=\"translate(105.831023 254.617813)scale(0.14 -0.14)\">\r\n       <defs>\r\n        <path d=\"M 19.1875 8.296875 \r\nL 53.609375 8.296875 \r\nL 53.609375 0 \r\nL 7.328125 0 \r\nL 7.328125 8.296875 \r\nQ 12.9375 14.109375 22.625 23.890625 \r\nQ 32.328125 33.6875 34.8125 36.53125 \r\nQ 39.546875 41.84375 41.421875 45.53125 \r\nQ 43.3125 49.21875 43.3125 52.78125 \r\nQ 43.3125 58.59375 39.234375 62.25 \r\nQ 35.15625 65.921875 28.609375 65.921875 \r\nQ 23.96875 65.921875 18.8125 64.3125 \r\nQ 13.671875 62.703125 7.8125 59.421875 \r\nL 7.8125 69.390625 \r\nQ 13.765625 71.78125 18.9375 73 \r\nQ 24.125 74.21875 28.421875 74.21875 \r\nQ 39.75 74.21875 46.484375 68.546875 \r\nQ 53.21875 62.890625 53.21875 53.421875 \r\nQ 53.21875 48.921875 51.53125 44.890625 \r\nQ 49.859375 40.875 45.40625 35.40625 \r\nQ 44.1875 33.984375 37.640625 27.21875 \r\nQ 31.109375 20.453125 19.1875 8.296875 \r\nz\r\n\" id=\"DejaVuSans-50\"/>\r\n       </defs>\r\n       <use xlink:href=\"#DejaVuSans-50\"/>\r\n      </g>\r\n     </g>\r\n    </g>\r\n    <g id=\"xtick_2\">\r\n     <g id=\"line2d_3\">\r\n      <path clip-path=\"url(#p37fbde4c74)\" d=\"M 186.212045 240.48 \r\nL 186.212045 7.2 \r\n\" style=\"fill:none;stroke:#cbcbcb;\"/>\r\n     </g>\r\n     <g id=\"line2d_4\"/>\r\n     <g id=\"text_2\">\r\n      <!-- 4 -->\r\n      <g transform=\"translate(181.758295 254.617813)scale(0.14 -0.14)\">\r\n       <defs>\r\n        <path d=\"M 37.796875 64.3125 \r\nL 12.890625 25.390625 \r\nL 37.796875 25.390625 \r\nz\r\nM 35.203125 72.90625 \r\nL 47.609375 72.90625 \r\nL 47.609375 25.390625 \r\nL 58.015625 25.390625 \r\nL 58.015625 17.1875 \r\nL 47.609375 17.1875 \r\nL 47.609375 0 \r\nL 37.796875 0 \r\nL 37.796875 17.1875 \r\nL 4.890625 17.1875 \r\nL 4.890625 26.703125 \r\nz\r\n\" id=\"DejaVuSans-52\"/>\r\n       </defs>\r\n       <use xlink:href=\"#DejaVuSans-52\"/>\r\n      </g>\r\n     </g>\r\n    </g>\r\n    <g id=\"xtick_3\">\r\n     <g id=\"line2d_5\">\r\n      <path clip-path=\"url(#p37fbde4c74)\" d=\"M 262.139318 240.48 \r\nL 262.139318 7.2 \r\n\" style=\"fill:none;stroke:#cbcbcb;\"/>\r\n     </g>\r\n     <g id=\"line2d_6\"/>\r\n     <g id=\"text_3\">\r\n      <!-- 6 -->\r\n      <g transform=\"translate(257.685568 254.617813)scale(0.14 -0.14)\">\r\n       <defs>\r\n        <path d=\"M 33.015625 40.375 \r\nQ 26.375 40.375 22.484375 35.828125 \r\nQ 18.609375 31.296875 18.609375 23.390625 \r\nQ 18.609375 15.53125 22.484375 10.953125 \r\nQ 26.375 6.390625 33.015625 6.390625 \r\nQ 39.65625 6.390625 43.53125 10.953125 \r\nQ 47.40625 15.53125 47.40625 23.390625 \r\nQ 47.40625 31.296875 43.53125 35.828125 \r\nQ 39.65625 40.375 33.015625 40.375 \r\nz\r\nM 52.59375 71.296875 \r\nL 52.59375 62.3125 \r\nQ 48.875 64.0625 45.09375 64.984375 \r\nQ 41.3125 65.921875 37.59375 65.921875 \r\nQ 27.828125 65.921875 22.671875 59.328125 \r\nQ 17.53125 52.734375 16.796875 39.40625 \r\nQ 19.671875 43.65625 24.015625 45.921875 \r\nQ 28.375 48.1875 33.59375 48.1875 \r\nQ 44.578125 48.1875 50.953125 41.515625 \r\nQ 57.328125 34.859375 57.328125 23.390625 \r\nQ 57.328125 12.15625 50.6875 5.359375 \r\nQ 44.046875 -1.421875 33.015625 -1.421875 \r\nQ 20.359375 -1.421875 13.671875 8.265625 \r\nQ 6.984375 17.96875 6.984375 36.375 \r\nQ 6.984375 53.65625 15.1875 63.9375 \r\nQ 23.390625 74.21875 37.203125 74.21875 \r\nQ 40.921875 74.21875 44.703125 73.484375 \r\nQ 48.484375 72.75 52.59375 71.296875 \r\nz\r\n\" id=\"DejaVuSans-54\"/>\r\n       </defs>\r\n       <use xlink:href=\"#DejaVuSans-54\"/>\r\n      </g>\r\n     </g>\r\n    </g>\r\n    <g id=\"xtick_4\">\r\n     <g id=\"line2d_7\">\r\n      <path clip-path=\"url(#p37fbde4c74)\" d=\"M 338.066591 240.48 \r\nL 338.066591 7.2 \r\n\" style=\"fill:none;stroke:#cbcbcb;\"/>\r\n     </g>\r\n     <g id=\"line2d_8\"/>\r\n     <g id=\"text_4\">\r\n      <!-- 8 -->\r\n      <g transform=\"translate(333.612841 254.617813)scale(0.14 -0.14)\">\r\n       <defs>\r\n        <path d=\"M 31.78125 34.625 \r\nQ 24.75 34.625 20.71875 30.859375 \r\nQ 16.703125 27.09375 16.703125 20.515625 \r\nQ 16.703125 13.921875 20.71875 10.15625 \r\nQ 24.75 6.390625 31.78125 6.390625 \r\nQ 38.8125 6.390625 42.859375 10.171875 \r\nQ 46.921875 13.96875 46.921875 20.515625 \r\nQ 46.921875 27.09375 42.890625 30.859375 \r\nQ 38.875 34.625 31.78125 34.625 \r\nz\r\nM 21.921875 38.8125 \r\nQ 15.578125 40.375 12.03125 44.71875 \r\nQ 8.5 49.078125 8.5 55.328125 \r\nQ 8.5 64.0625 14.71875 69.140625 \r\nQ 20.953125 74.21875 31.78125 74.21875 \r\nQ 42.671875 74.21875 48.875 69.140625 \r\nQ 55.078125 64.0625 55.078125 55.328125 \r\nQ 55.078125 49.078125 51.53125 44.71875 \r\nQ 48 40.375 41.703125 38.8125 \r\nQ 48.828125 37.15625 52.796875 32.3125 \r\nQ 56.78125 27.484375 56.78125 20.515625 \r\nQ 56.78125 9.90625 50.3125 4.234375 \r\nQ 43.84375 -1.421875 31.78125 -1.421875 \r\nQ 19.734375 -1.421875 13.25 4.234375 \r\nQ 6.78125 9.90625 6.78125 20.515625 \r\nQ 6.78125 27.484375 10.78125 32.3125 \r\nQ 14.796875 37.15625 21.921875 38.8125 \r\nz\r\nM 18.3125 54.390625 \r\nQ 18.3125 48.734375 21.84375 45.5625 \r\nQ 25.390625 42.390625 31.78125 42.390625 \r\nQ 38.140625 42.390625 41.71875 45.5625 \r\nQ 45.3125 48.734375 45.3125 54.390625 \r\nQ 45.3125 60.0625 41.71875 63.234375 \r\nQ 38.140625 66.40625 31.78125 66.40625 \r\nQ 25.390625 66.40625 21.84375 63.234375 \r\nQ 18.3125 60.0625 18.3125 54.390625 \r\nz\r\n\" id=\"DejaVuSans-56\"/>\r\n       </defs>\r\n       <use xlink:href=\"#DejaVuSans-56\"/>\r\n      </g>\r\n     </g>\r\n    </g>\r\n    <g id=\"xtick_5\">\r\n     <g id=\"line2d_9\">\r\n      <path clip-path=\"url(#p37fbde4c74)\" d=\"M 413.993864 240.48 \r\nL 413.993864 7.2 \r\n\" style=\"fill:none;stroke:#cbcbcb;\"/>\r\n     </g>\r\n     <g id=\"line2d_10\"/>\r\n     <g id=\"text_5\">\r\n      <!-- 10 -->\r\n      <g transform=\"translate(405.086364 254.617813)scale(0.14 -0.14)\">\r\n       <defs>\r\n        <path d=\"M 12.40625 8.296875 \r\nL 28.515625 8.296875 \r\nL 28.515625 63.921875 \r\nL 10.984375 60.40625 \r\nL 10.984375 69.390625 \r\nL 28.421875 72.90625 \r\nL 38.28125 72.90625 \r\nL 38.28125 8.296875 \r\nL 54.390625 8.296875 \r\nL 54.390625 0 \r\nL 12.40625 0 \r\nz\r\n\" id=\"DejaVuSans-49\"/>\r\n        <path d=\"M 31.78125 66.40625 \r\nQ 24.171875 66.40625 20.328125 58.90625 \r\nQ 16.5 51.421875 16.5 36.375 \r\nQ 16.5 21.390625 20.328125 13.890625 \r\nQ 24.171875 6.390625 31.78125 6.390625 \r\nQ 39.453125 6.390625 43.28125 13.890625 \r\nQ 47.125 21.390625 47.125 36.375 \r\nQ 47.125 51.421875 43.28125 58.90625 \r\nQ 39.453125 66.40625 31.78125 66.40625 \r\nz\r\nM 31.78125 74.21875 \r\nQ 44.046875 74.21875 50.515625 64.515625 \r\nQ 56.984375 54.828125 56.984375 36.375 \r\nQ 56.984375 17.96875 50.515625 8.265625 \r\nQ 44.046875 -1.421875 31.78125 -1.421875 \r\nQ 19.53125 -1.421875 13.0625 8.265625 \r\nQ 6.59375 17.96875 6.59375 36.375 \r\nQ 6.59375 54.828125 13.0625 64.515625 \r\nQ 19.53125 74.21875 31.78125 74.21875 \r\nz\r\n\" id=\"DejaVuSans-48\"/>\r\n       </defs>\r\n       <use xlink:href=\"#DejaVuSans-49\"/>\r\n       <use x=\"63.623047\" xlink:href=\"#DejaVuSans-48\"/>\r\n      </g>\r\n     </g>\r\n    </g>\r\n   </g>\r\n   <g id=\"matplotlib.axis_2\">\r\n    <g id=\"ytick_1\">\r\n     <g id=\"line2d_11\">\r\n      <path clip-path=\"url(#p37fbde4c74)\" d=\"M 55.2375 237.219706 \r\nL 431.0775 237.219706 \r\n\" style=\"fill:none;stroke:#cbcbcb;\"/>\r\n     </g>\r\n     <g id=\"line2d_12\"/>\r\n     <g id=\"text_6\">\r\n      <!-- 18000 -->\r\n      <g transform=\"translate(7.2 242.538612)scale(0.14 -0.14)\">\r\n       <use xlink:href=\"#DejaVuSans-49\"/>\r\n       <use x=\"63.623047\" xlink:href=\"#DejaVuSans-56\"/>\r\n       <use x=\"127.246094\" xlink:href=\"#DejaVuSans-48\"/>\r\n       <use x=\"190.869141\" xlink:href=\"#DejaVuSans-48\"/>\r\n       <use x=\"254.492188\" xlink:href=\"#DejaVuSans-48\"/>\r\n      </g>\r\n     </g>\r\n    </g>\r\n    <g id=\"ytick_2\">\r\n     <g id=\"line2d_13\">\r\n      <path clip-path=\"url(#p37fbde4c74)\" d=\"M 55.2375 181.173036 \r\nL 431.0775 181.173036 \r\n\" style=\"fill:none;stroke:#cbcbcb;\"/>\r\n     </g>\r\n     <g id=\"line2d_14\"/>\r\n     <g id=\"text_7\">\r\n      <!-- 20000 -->\r\n      <g transform=\"translate(7.2 186.491942)scale(0.14 -0.14)\">\r\n       <use xlink:href=\"#DejaVuSans-50\"/>\r\n       <use x=\"63.623047\" xlink:href=\"#DejaVuSans-48\"/>\r\n       <use x=\"127.246094\" xlink:href=\"#DejaVuSans-48\"/>\r\n       <use x=\"190.869141\" xlink:href=\"#DejaVuSans-48\"/>\r\n       <use x=\"254.492188\" xlink:href=\"#DejaVuSans-48\"/>\r\n      </g>\r\n     </g>\r\n    </g>\r\n    <g id=\"ytick_3\">\r\n     <g id=\"line2d_15\">\r\n      <path clip-path=\"url(#p37fbde4c74)\" d=\"M 55.2375 125.126366 \r\nL 431.0775 125.126366 \r\n\" style=\"fill:none;stroke:#cbcbcb;\"/>\r\n     </g>\r\n     <g id=\"line2d_16\"/>\r\n     <g id=\"text_8\">\r\n      <!-- 22000 -->\r\n      <g transform=\"translate(7.2 130.445272)scale(0.14 -0.14)\">\r\n       <use xlink:href=\"#DejaVuSans-50\"/>\r\n       <use x=\"63.623047\" xlink:href=\"#DejaVuSans-50\"/>\r\n       <use x=\"127.246094\" xlink:href=\"#DejaVuSans-48\"/>\r\n       <use x=\"190.869141\" xlink:href=\"#DejaVuSans-48\"/>\r\n       <use x=\"254.492188\" xlink:href=\"#DejaVuSans-48\"/>\r\n      </g>\r\n     </g>\r\n    </g>\r\n    <g id=\"ytick_4\">\r\n     <g id=\"line2d_17\">\r\n      <path clip-path=\"url(#p37fbde4c74)\" d=\"M 55.2375 69.079696 \r\nL 431.0775 69.079696 \r\n\" style=\"fill:none;stroke:#cbcbcb;\"/>\r\n     </g>\r\n     <g id=\"line2d_18\"/>\r\n     <g id=\"text_9\">\r\n      <!-- 24000 -->\r\n      <g transform=\"translate(7.2 74.398602)scale(0.14 -0.14)\">\r\n       <use xlink:href=\"#DejaVuSans-50\"/>\r\n       <use x=\"63.623047\" xlink:href=\"#DejaVuSans-52\"/>\r\n       <use x=\"127.246094\" xlink:href=\"#DejaVuSans-48\"/>\r\n       <use x=\"190.869141\" xlink:href=\"#DejaVuSans-48\"/>\r\n       <use x=\"254.492188\" xlink:href=\"#DejaVuSans-48\"/>\r\n      </g>\r\n     </g>\r\n    </g>\r\n    <g id=\"ytick_5\">\r\n     <g id=\"line2d_19\">\r\n      <path clip-path=\"url(#p37fbde4c74)\" d=\"M 55.2375 13.033026 \r\nL 431.0775 13.033026 \r\n\" style=\"fill:none;stroke:#cbcbcb;\"/>\r\n     </g>\r\n     <g id=\"line2d_20\"/>\r\n     <g id=\"text_10\">\r\n      <!-- 26000 -->\r\n      <g transform=\"translate(7.2 18.351933)scale(0.14 -0.14)\">\r\n       <use xlink:href=\"#DejaVuSans-50\"/>\r\n       <use x=\"63.623047\" xlink:href=\"#DejaVuSans-54\"/>\r\n       <use x=\"127.246094\" xlink:href=\"#DejaVuSans-48\"/>\r\n       <use x=\"190.869141\" xlink:href=\"#DejaVuSans-48\"/>\r\n       <use x=\"254.492188\" xlink:href=\"#DejaVuSans-48\"/>\r\n      </g>\r\n     </g>\r\n    </g>\r\n   </g>\r\n   <g id=\"line2d_21\">\r\n    <path clip-path=\"url(#p37fbde4c74)\" d=\"M 72.321136 17.803636 \r\nL 110.284773 113.898061 \r\nL 148.248409 155.739115 \r\nL 186.212045 175.226583 \r\nL 224.175682 187.909172 \r\nL 262.139318 199.708972 \r\nL 300.102955 209.343419 \r\nL 338.066591 217.358778 \r\nL 376.030227 224.026969 \r\nL 413.993864 229.876364 \r\n\" style=\"fill:none;stroke:#008fd5;stroke-width:4;\"/>\r\n   </g>\r\n   <g id=\"patch_3\">\r\n    <path d=\"M 55.2375 240.48 \r\nL 55.2375 7.2 \r\n\" style=\"fill:none;stroke:#f0f0f0;stroke-linecap:square;stroke-linejoin:miter;stroke-width:3;\"/>\r\n   </g>\r\n   <g id=\"patch_4\">\r\n    <path d=\"M 431.0775 240.48 \r\nL 431.0775 7.2 \r\n\" style=\"fill:none;stroke:#f0f0f0;stroke-linecap:square;stroke-linejoin:miter;stroke-width:3;\"/>\r\n   </g>\r\n   <g id=\"patch_5\">\r\n    <path d=\"M 55.2375 240.48 \r\nL 431.0775 240.48 \r\n\" style=\"fill:none;stroke:#f0f0f0;stroke-linecap:square;stroke-linejoin:miter;stroke-width:3;\"/>\r\n   </g>\r\n   <g id=\"patch_6\">\r\n    <path d=\"M 55.2375 7.2 \r\nL 431.0775 7.2 \r\n\" style=\"fill:none;stroke:#f0f0f0;stroke-linecap:square;stroke-linejoin:miter;stroke-width:3;\"/>\r\n   </g>\r\n  </g>\r\n </g>\r\n <defs>\r\n  <clipPath id=\"p37fbde4c74\">\r\n   <rect height=\"233.28\" width=\"375.84\" x=\"55.2375\" y=\"7.2\"/>\r\n  </clipPath>\r\n </defs>\r\n</svg>\r\n",
      "image/png": "[encoded data removed]"
     },
     "metadata": {}
    }
   ],
   "source": [
    "sns.lineplot(x=mapping2.keys(), y=mapping2.values())"
   ]
  },
  {
   "cell_type": "code",
   "execution_count": 19,
   "metadata": {},
   "outputs": [
    {
     "output_type": "execute_result",
     "data": {
      "text/plain": [
       "array([1, 6, 4, ..., 7, 9, 8])"
      ]
     },
     "metadata": {},
     "execution_count": 19
    }
   ],
   "source": [
    "kmeanModel = KMeans(\n",
    "    n_clusters=,\n",
    "    init='k-means++',\n",
    "    n_init=10,\n",
    "    max_iter=300,\n",
    "    tol=0.0001,\n",
    "    precompute_distances='deprecated',\n",
    "    verbose=0,\n",
    "    random_state=None,\n",
    "    copy_x=True,\n",
    "    n_jobs='deprecated',\n",
    "    algorithm='auto'\n",
    ")\n",
    "kmeanModel.fit(train_data)\n",
    "\n",
    "kmeanModel.labels_"
   ]
  },
  {
   "cell_type": "code",
   "execution_count": 26,
   "metadata": {},
   "outputs": [
    {
     "output_type": "execute_result",
     "data": {
      "text/plain": [
       "                                                heading  \\\n",
       "0     domestic abuse: swansea man jailed for murderi...   \n",
       "1     covid-19: how india failed to prevent a deadly...   \n",
       "2     northampton blaze 'cruel blow', say firm's owners   \n",
       "3     einstein handwritten letter with equation fetc...   \n",
       "4     florida high school alters 80 'immodest' yearb...   \n",
       "...                                                 ...   \n",
       "7895  after long wait, max group sells 13% stake in ...   \n",
       "7896  high court allows china's bytedance to operate...   \n",
       "7897  ajay tyagi: separation of cmd roles not aimed ...   \n",
       "7898  linkedin job titles:  now, you can call yourse...   \n",
       "7899  maharashtra covid guidelines:  maharashtra cur...   \n",
       "\n",
       "                                                content  heading_polarity  \\\n",
       "0     a man has been jailed for life for battering h...              0.00   \n",
       "1     in early march, india's health minister harsh ...             -0.25   \n",
       "2     two friends who spent 10 years building up the...             -0.60   \n",
       "3     a letter written by albert einstein containing...              0.00   \n",
       "4     a florida high school is facing a backlash for...              0.16   \n",
       "...                                                 ...               ...   \n",
       "7895  new delhi/mumbai: diversified max group has so...             -0.05   \n",
       "7896  mumbai: the bombay high court on tuesday permi...              0.16   \n",
       "7897  new delhi: capital markets regulator sebi chie...              0.00   \n",
       "7898  bengaluru: linkedin has introduced new job tit...              0.00   \n",
       "7899  new delhi: the fresh covid lockdown in maharas...              0.00   \n",
       "\n",
       "      content_polarity  number_of_words  number_of_sentences  \\\n",
       "0            -0.081640              719                   28   \n",
       "1             0.035661             1199                   63   \n",
       "2            -0.199242              306                   12   \n",
       "3             0.165000              236                   11   \n",
       "4             0.043386              665                   25   \n",
       "...                ...              ...                  ...   \n",
       "7895          0.115864              892                   32   \n",
       "7896          0.059250              384                   13   \n",
       "7897          0.185642              293                   11   \n",
       "7898          0.183394              393                   16   \n",
       "7899          0.051748              261                    9   \n",
       "\n",
       "      average_word_length  number_of_characters        asl       asw  \\\n",
       "0                4.742698                  4128  25.678571  1.539638   \n",
       "1                5.106756                  7321  19.031746  1.733945   \n",
       "2                5.032680                  1845  25.500000  1.604575   \n",
       "3                5.254237                  1475  21.454545  1.750000   \n",
       "4                5.001504                  3990  26.600000  1.578947   \n",
       "...                   ...                   ...        ...       ...   \n",
       "7895             4.794843                  5168  27.875000  1.630045   \n",
       "7896             5.054688                  2324  29.538462  1.750000   \n",
       "7897             5.283276                  1840  26.636364  1.870307   \n",
       "7898             5.035623                  2371  24.562500  1.727735   \n",
       "7899             4.931034                  1547  29.000000  1.685824   \n",
       "\n",
       "      flesch_ease_test_score  flesch_kincaid_grade_score    id  cluster_id  \n",
       "0                  50.517842                   12.592376     0           1  \n",
       "1                  40.826035                   12.292931     1           6  \n",
       "2                  45.205441                   13.288987     2           4  \n",
       "3                  37.008636                   13.427273     3           3  \n",
       "4                  46.257053                   13.415579     4           1  \n",
       "...                      ...                         ...   ...         ...  \n",
       "7895               40.640081                   14.515779  7895           5  \n",
       "7896               28.803462                   16.580000  7896           5  \n",
       "7897               21.571105                   16.867806  7897           7  \n",
       "7898               35.737650                   14.376652  7898           9  \n",
       "7899               34.779310                   15.612720  7899           8  \n",
       "\n",
       "[7900 rows x 14 columns]"
      ],
      "text/html": "<div>\n<style scoped>\n    .dataframe tbody tr th:only-of-type {\n        vertical-align: middle;\n    }\n\n    .dataframe tbody tr th {\n        vertical-align: top;\n    }\n\n    .dataframe thead th {\n        text-align: right;\n    }\n</style>\n<table border=\"1\" class=\"dataframe\">\n  <thead>\n    <tr style=\"text-align: right;\">\n      <th></th>\n      <th>heading</th>\n      <th>content</th>\n      <th>heading_polarity</th>\n      <th>content_polarity</th>\n      <th>number_of_words</th>\n      <th>number_of_sentences</th>\n      <th>average_word_length</th>\n      <th>number_of_characters</th>\n      <th>asl</th>\n      <th>asw</th>\n      <th>flesch_ease_test_score</th>\n      <th>flesch_kincaid_grade_score</th>\n      <th>id</th>\n      <th>cluster_id</th>\n    </tr>\n  </thead>\n  <tbody>\n    <tr>\n      <th>0</th>\n      <td>domestic abuse: swansea man jailed for murderi...</td>\n      <td>a man has been jailed for life for battering h...</td>\n      <td>0.00</td>\n      <td>-0.081640</td>\n      <td>719</td>\n      <td>28</td>\n      <td>4.742698</td>\n      <td>4128</td>\n      <td>25.678571</td>\n      <td>1.539638</td>\n      <td>50.517842</td>\n      <td>12.592376</td>\n      <td>0</td>\n      <td>1</td>\n    </tr>\n    <tr>\n      <th>1</th>\n      <td>covid-19: how india failed to prevent a deadly...</td>\n      <td>in early march, india's health minister harsh ...</td>\n      <td>-0.25</td>\n      <td>0.035661</td>\n      <td>1199</td>\n      <td>63</td>\n      <td>5.106756</td>\n      <td>7321</td>\n      <td>19.031746</td>\n      <td>1.733945</td>\n      <td>40.826035</td>\n      <td>12.292931</td>\n      <td>1</td>\n      <td>6</td>\n    </tr>\n    <tr>\n      <th>2</th>\n      <td>northampton blaze 'cruel blow', say firm's owners</td>\n      <td>two friends who spent 10 years building up the...</td>\n      <td>-0.60</td>\n      <td>-0.199242</td>\n      <td>306</td>\n      <td>12</td>\n      <td>5.032680</td>\n      <td>1845</td>\n      <td>25.500000</td>\n      <td>1.604575</td>\n      <td>45.205441</td>\n      <td>13.288987</td>\n      <td>2</td>\n      <td>4</td>\n    </tr>\n    <tr>\n      <th>3</th>\n      <td>einstein handwritten letter with equation fetc...</td>\n      <td>a letter written by albert einstein containing...</td>\n      <td>0.00</td>\n      <td>0.165000</td>\n      <td>236</td>\n      <td>11</td>\n      <td>5.254237</td>\n      <td>1475</td>\n      <td>21.454545</td>\n      <td>1.750000</td>\n      <td>37.008636</td>\n      <td>13.427273</td>\n      <td>3</td>\n      <td>3</td>\n    </tr>\n    <tr>\n      <th>4</th>\n      <td>florida high school alters 80 'immodest' yearb...</td>\n      <td>a florida high school is facing a backlash for...</td>\n      <td>0.16</td>\n      <td>0.043386</td>\n      <td>665</td>\n      <td>25</td>\n      <td>5.001504</td>\n      <td>3990</td>\n      <td>26.600000</td>\n      <td>1.578947</td>\n      <td>46.257053</td>\n      <td>13.415579</td>\n      <td>4</td>\n      <td>1</td>\n    </tr>\n    <tr>\n      <th>...</th>\n      <td>...</td>\n      <td>...</td>\n      <td>...</td>\n      <td>...</td>\n      <td>...</td>\n      <td>...</td>\n      <td>...</td>\n      <td>...</td>\n      <td>...</td>\n      <td>...</td>\n      <td>...</td>\n      <td>...</td>\n      <td>...</td>\n      <td>...</td>\n    </tr>\n    <tr>\n      <th>7895</th>\n      <td>after long wait, max group sells 13% stake in ...</td>\n      <td>new delhi/mumbai: diversified max group has so...</td>\n      <td>-0.05</td>\n      <td>0.115864</td>\n      <td>892</td>\n      <td>32</td>\n      <td>4.794843</td>\n      <td>5168</td>\n      <td>27.875000</td>\n      <td>1.630045</td>\n      <td>40.640081</td>\n      <td>14.515779</td>\n      <td>7895</td>\n      <td>5</td>\n    </tr>\n    <tr>\n      <th>7896</th>\n      <td>high court allows china's bytedance to operate...</td>\n      <td>mumbai: the bombay high court on tuesday permi...</td>\n      <td>0.16</td>\n      <td>0.059250</td>\n      <td>384</td>\n      <td>13</td>\n      <td>5.054688</td>\n      <td>2324</td>\n      <td>29.538462</td>\n      <td>1.750000</td>\n      <td>28.803462</td>\n      <td>16.580000</td>\n      <td>7896</td>\n      <td>5</td>\n    </tr>\n    <tr>\n      <th>7897</th>\n      <td>ajay tyagi: separation of cmd roles not aimed ...</td>\n      <td>new delhi: capital markets regulator sebi chie...</td>\n      <td>0.00</td>\n      <td>0.185642</td>\n      <td>293</td>\n      <td>11</td>\n      <td>5.283276</td>\n      <td>1840</td>\n      <td>26.636364</td>\n      <td>1.870307</td>\n      <td>21.571105</td>\n      <td>16.867806</td>\n      <td>7897</td>\n      <td>7</td>\n    </tr>\n    <tr>\n      <th>7898</th>\n      <td>linkedin job titles:  now, you can call yourse...</td>\n      <td>bengaluru: linkedin has introduced new job tit...</td>\n      <td>0.00</td>\n      <td>0.183394</td>\n      <td>393</td>\n      <td>16</td>\n      <td>5.035623</td>\n      <td>2371</td>\n      <td>24.562500</td>\n      <td>1.727735</td>\n      <td>35.737650</td>\n      <td>14.376652</td>\n      <td>7898</td>\n      <td>9</td>\n    </tr>\n    <tr>\n      <th>7899</th>\n      <td>maharashtra covid guidelines:  maharashtra cur...</td>\n      <td>new delhi: the fresh covid lockdown in maharas...</td>\n      <td>0.00</td>\n      <td>0.051748</td>\n      <td>261</td>\n      <td>9</td>\n      <td>4.931034</td>\n      <td>1547</td>\n      <td>29.000000</td>\n      <td>1.685824</td>\n      <td>34.779310</td>\n      <td>15.612720</td>\n      <td>7899</td>\n      <td>8</td>\n    </tr>\n  </tbody>\n</table>\n<p>7900 rows × 14 columns</p>\n</div>"
     },
     "metadata": {},
     "execution_count": 26
    }
   ],
   "source": [
    "data = pd.read_csv(\"../data/bbc_toi_yahoo_stats_feats.csv\")\n",
    "data.loc[:, \"id\"] = range(0, len(data))\n",
    "data.loc[:, \"cluster_id\"] = kmeanModel.labels_\n",
    "data"
   ]
  },
  {
   "cell_type": "code",
   "execution_count": 27,
   "metadata": {},
   "outputs": [],
   "source": [
    "data.to_csv(\"../data/common/bbc_toi_yahoo_news_clustered.csv\", index=False)"
   ]
  }
 ]
}