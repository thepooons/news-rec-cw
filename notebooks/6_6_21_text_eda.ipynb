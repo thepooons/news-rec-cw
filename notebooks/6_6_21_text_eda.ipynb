{
 "metadata": {
  "language_info": {
   "codemirror_mode": {
    "name": "ipython",
    "version": 3
   },
   "file_extension": ".py",
   "mimetype": "text/x-python",
   "name": "python",
   "nbconvert_exporter": "python",
   "pygments_lexer": "ipython3",
   "version": "3.9.5"
  },
  "orig_nbformat": 2,
  "kernelspec": {
   "name": "python395jvsc74a57bd0dbaa56355543e5e694c750fbaa3f1bda27eea84b84693d9eb9d2f61641d8d05a",
   "display_name": "Python 3.9.5 64-bit ('news_env': conda)"
  }
 },
 "nbformat": 4,
 "nbformat_minor": 2,
 "cells": [
  {
   "source": [
    "# motive: Analyse the scraped news data  "
   ],
   "cell_type": "markdown",
   "metadata": {}
  },
  {
   "cell_type": "code",
   "execution_count": 271,
   "metadata": {},
   "outputs": [],
   "source": [
    "import pandas as pd \n",
    "import seaborn as sns \n",
    "import matplotlib.pyplot as plt \n",
    "import re\n",
    "import html\n",
    "import unicodedata \n",
    "plt.style.use(\"dark_background\")"
   ]
  },
  {
   "cell_type": "code",
   "execution_count": 272,
   "metadata": {},
   "outputs": [
    {
     "output_type": "execute_result",
     "data": {
      "text/plain": [
       "                                                 url  \\\n",
       "0         https://www.bbc.com/news/uk-wales-57146299   \n",
       "1  https://www.bbc.com/news/world-asia-india-5677...   \n",
       "2  https://www.bbc.com/news/uk-england-northampto...   \n",
       "3  https://www.bbc.com/news/world-us-canada-57209148   \n",
       "4  https://www.bbc.com/news/world-us-canada-57232694   \n",
       "\n",
       "                                               title  \\\n",
       "0  Domestic abuse: Swansea man jailed for murderi...   \n",
       "1  Covid-19: How India failed to prevent a deadly...   \n",
       "2  Northampton blaze 'cruel blow', say firm's owners   \n",
       "3  Einstein handwritten letter with equation fetc...   \n",
       "4  Florida high school alters 80 'immodest' yearb...   \n",
       "\n",
       "                                            raw_text  \\\n",
       "0  A man has been jailed for life for battering h...   \n",
       "1  In early March, India's health minister Harsh ...   \n",
       "2  Two friends who spent 10 years building up the...   \n",
       "3  A letter written by Albert Einstein containing...   \n",
       "4  A Florida high school is facing a backlash for...   \n",
       "\n",
       "                          author          publish_datetime  \n",
       "0          Rhys WilliamsBBC News  2021-05-17T16:29:13.000Z  \n",
       "1  tik BiswasIndia correspondent  2021-04-18T23:01:17.000Z  \n",
       "2                            bbc  2021-05-02T12:13:52.000Z  \n",
       "3                            bbc  2021-05-22T03:55:50.000Z  \n",
       "4                            bbc  2021-05-24T20:04:32.000Z  "
      ],
      "text/html": "<div>\n<style scoped>\n    .dataframe tbody tr th:only-of-type {\n        vertical-align: middle;\n    }\n\n    .dataframe tbody tr th {\n        vertical-align: top;\n    }\n\n    .dataframe thead th {\n        text-align: right;\n    }\n</style>\n<table border=\"1\" class=\"dataframe\">\n  <thead>\n    <tr style=\"text-align: right;\">\n      <th></th>\n      <th>url</th>\n      <th>title</th>\n      <th>raw_text</th>\n      <th>author</th>\n      <th>publish_datetime</th>\n    </tr>\n  </thead>\n  <tbody>\n    <tr>\n      <th>0</th>\n      <td>https://www.bbc.com/news/uk-wales-57146299</td>\n      <td>Domestic abuse: Swansea man jailed for murderi...</td>\n      <td>A man has been jailed for life for battering h...</td>\n      <td>Rhys WilliamsBBC News</td>\n      <td>2021-05-17T16:29:13.000Z</td>\n    </tr>\n    <tr>\n      <th>1</th>\n      <td>https://www.bbc.com/news/world-asia-india-5677...</td>\n      <td>Covid-19: How India failed to prevent a deadly...</td>\n      <td>In early March, India's health minister Harsh ...</td>\n      <td>tik BiswasIndia correspondent</td>\n      <td>2021-04-18T23:01:17.000Z</td>\n    </tr>\n    <tr>\n      <th>2</th>\n      <td>https://www.bbc.com/news/uk-england-northampto...</td>\n      <td>Northampton blaze 'cruel blow', say firm's owners</td>\n      <td>Two friends who spent 10 years building up the...</td>\n      <td>bbc</td>\n      <td>2021-05-02T12:13:52.000Z</td>\n    </tr>\n    <tr>\n      <th>3</th>\n      <td>https://www.bbc.com/news/world-us-canada-57209148</td>\n      <td>Einstein handwritten letter with equation fetc...</td>\n      <td>A letter written by Albert Einstein containing...</td>\n      <td>bbc</td>\n      <td>2021-05-22T03:55:50.000Z</td>\n    </tr>\n    <tr>\n      <th>4</th>\n      <td>https://www.bbc.com/news/world-us-canada-57232694</td>\n      <td>Florida high school alters 80 'immodest' yearb...</td>\n      <td>A Florida high school is facing a backlash for...</td>\n      <td>bbc</td>\n      <td>2021-05-24T20:04:32.000Z</td>\n    </tr>\n  </tbody>\n</table>\n</div>"
     },
     "metadata": {},
     "execution_count": 272
    }
   ],
   "source": [
    "data = pd.read_csv(r\"../data/BBCNewsScraper_at_2021-06-06_cached.csv\")\n",
    "data.head()"
   ]
  },
  {
   "source": [
    "## preprocess the text data"
   ],
   "cell_type": "markdown",
   "metadata": {}
  },
  {
   "cell_type": "code",
   "execution_count": 277,
   "metadata": {},
   "outputs": [
    {
     "output_type": "execute_result",
     "data": {
      "text/plain": [
       "'A Florida high school is facing a backlash for altering the yearbook photos of 80 female students to add clothing to their chests and shoulders. The school district told local media the changes were made to ensure the photos met the dress code, which says girls\\' shirts must be \"modest\". But critics pointed to yearbook photos of male students left unedited despite violating the same standards.  The digital alterations were made without permission, the students say. Bartram Trail High School\\'s yearbook co-ordinator - a female teacher - made the decision to edit the photos after determining they had violated the dress code, the St Johns County school district said. A disclaimer on Bartram Trail\\'s website warns students that their yearbook photos may be digitally edited to be consistent with the dress code.  But some students have called the alterations distressing and accused the school of sexism. \"The double standard in the yearbook is more so that they looked at our body and thought just a little bit of skin showing was sexual,\" Bartram Trail student Riley O\\'Keefe, 15, told CBS affiliate WJAX News. \"But then they looked at the boys, for the swim team photos and other sports photos and thought that was fine, and that\\'s really upsetting and uncomfortable.\" In a statement to WJAX, the district said the school\\'s previous policy was to remove all photos that violated the dress code, and this year\\'s edits were to make sure all students were included. Following the criticism, Bartram Trail, a government-run high school near Jacksonville with about 2,500 students, has said they will issue refunds for the $100 (£70) yearbook to parents upset by the changes.  The district\\'s dress code for the 2020-2021 school year says that girls\\' tops and shirts \"must cover the entire shoulder\" and must be \"modest and not revealing or distracting\". \"Excessive make-up\" is not permitted and all students are prohibited from donning \"extreme hairstyles\".  Enforcement of the dress code differs between schools, according to the district.  How breaking dress codes pays offWhy do workplace dress codes persist?The end of high heel dress codes in BC?  Bartram Trail\\'s application of these rules stirred local controversy earlier this year when 31 students received dress code violations in a single day. Several of the female students - around 15 and 16 years old - said at the time they were asked to unzip their sweaters and jackets in front of teachers and other students to reveal tank tops and bras underneath.  In response, Riley created an online petition asking for changes to the dress code which, she says, \"is clearly based on the sexualisation of young women\". With the code making national headlines again, the petition now has more than 5,000 signatures.  US dress codes have been criticised in recent years, with some saying they are applied in ways that shame young women and girls about their bodies.  A 2018 study in Washington, DC, by the National Women\\'s Law Center found that black girls and students with curvier bodies were disproportionately targeted.  Riley\\'s mother, Stephanie Fabre, told the BBC the incident \"drew attention to something that wasn\\'t a problem to begin with\". \"Nobody would have looked at that yearbook and looked at these pictures and thought anything of them other than they were beautiful ninth graders,\" she says. \"Some of these edits have drawn mass bullying and emotional stress on some of these girls, because their pictures were so poorly photoshopped that they\\'re being used as memes now and circulating on Snapchat, and that\\'s horrible.\" Ms Fabre added that some families are demanding an apology from the school, changes to the dress code and a reissue of the yearbooks with the original photos. But not all parents are against the rules. Another Bartram mother, Rachel D\\'aquin, told WJAX that she approved of the edits. \"If parents aren\\'t teaching at home how daughters should dress and dress decently, then the school has to parent.\" '"
      ]
     },
     "metadata": {},
     "execution_count": 277
    }
   ],
   "source": [
    "data.loc[4, \"raw_text\"]"
   ]
  },
  {
   "cell_type": "code",
   "execution_count": null,
   "metadata": {},
   "outputs": [],
   "source": []
  }
 ]
}