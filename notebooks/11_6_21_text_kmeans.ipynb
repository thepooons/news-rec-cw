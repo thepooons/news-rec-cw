{
 "metadata": {
  "language_info": {
   "codemirror_mode": {
    "name": "ipython",
    "version": 3
   },
   "file_extension": ".py",
   "mimetype": "text/x-python",
   "name": "python",
   "nbconvert_exporter": "python",
   "pygments_lexer": "ipython3",
   "version": "3.9.5"
  },
  "orig_nbformat": 2,
  "kernelspec": {
   "name": "python3",
   "display_name": "Python 3.9.5 64-bit ('news_env': conda)"
  },
  "interpreter": {
   "hash": "dbaa56355543e5e694c750fbaa3f1bda27eea84b84693d9eb9d2f61641d8d05a"
  }
 },
 "nbformat": 4,
 "nbformat_minor": 2,
 "cells": [
  {
   "source": [
    "# motive: implement kmeans for clustering similar article together"
   ],
   "cell_type": "markdown",
   "metadata": {}
  },
  {
   "cell_type": "code",
   "execution_count": 2,
   "metadata": {},
   "outputs": [],
   "source": [
    "import pandas as pd \n",
    "import numpy as np \n",
    "from  sklearn.cluster import KMeans\n",
    "from sklearn import metrics\n",
    "from scipy.spatial.distance import cdist\n",
    "from sklearn.model_selection import train_test_split\n",
    "from tqdm import tqdm\n",
    "import matplotlib.pyplot as plt \n",
    "import seaborn as sns\n",
    "plt.style.use(\"fivethirtyeight\")"
   ]
  },
  {
   "cell_type": "code",
   "execution_count": 10,
   "metadata": {},
   "outputs": [
    {
     "output_type": "stream",
     "name": "stdout",
     "text": [
      "(7900, 600)\n"
     ]
    },
    {
     "output_type": "execute_result",
     "data": {
      "text/plain": [
       "   heading_0  heading_1  heading_2  heading_3  heading_4  heading_5  \\\n",
       "0  -0.181138   0.105518  -0.001613   0.042302   0.188017  -0.251344   \n",
       "1  -0.082980   0.207037  -0.051993   0.086196   0.017779  -0.175637   \n",
       "2  -0.104821   0.254117  -0.077556  -0.087762   0.200255  -0.112232   \n",
       "3  -0.141514   0.261024  -0.117814   0.009161  -0.153140   0.129478   \n",
       "\n",
       "   heading_6  heading_7  heading_8  heading_9  ...  content_290  content_291  \\\n",
       "0   0.138633  -0.105746  -0.026714   2.062196  ...    -0.070241     0.014146   \n",
       "1  -0.048886  -0.011423   0.031361   1.806003  ...    -0.146531     0.036746   \n",
       "2   0.238573  -0.008179  -0.110082   1.852883  ...    -0.221741     0.024740   \n",
       "3  -0.094760  -0.259848   0.247964   0.821680  ...    -0.163250     0.015745   \n",
       "\n",
       "   content_292  content_293  content_294  content_295  content_296  \\\n",
       "0     0.052320    -0.029596     0.028182    -0.016302    -0.026987   \n",
       "1     0.053139    -0.041750    -0.033510     0.003745    -0.059683   \n",
       "2     0.069605    -0.000706    -0.019521    -0.031620    -0.040203   \n",
       "3     0.095984    -0.022673     0.035397    -0.047304    -0.022237   \n",
       "\n",
       "   content_297  content_298  content_299  \n",
       "0     0.030948    -0.028944    -0.010630  \n",
       "1    -0.005218    -0.032703     0.045910  \n",
       "2    -0.011670    -0.036697     0.043376  \n",
       "3    -0.022254     0.023935     0.082706  \n",
       "\n",
       "[4 rows x 600 columns]"
      ],
      "text/html": "<div>\n<style scoped>\n    .dataframe tbody tr th:only-of-type {\n        vertical-align: middle;\n    }\n\n    .dataframe tbody tr th {\n        vertical-align: top;\n    }\n\n    .dataframe thead th {\n        text-align: right;\n    }\n</style>\n<table border=\"1\" class=\"dataframe\">\n  <thead>\n    <tr style=\"text-align: right;\">\n      <th></th>\n      <th>heading_0</th>\n      <th>heading_1</th>\n      <th>heading_2</th>\n      <th>heading_3</th>\n      <th>heading_4</th>\n      <th>heading_5</th>\n      <th>heading_6</th>\n      <th>heading_7</th>\n      <th>heading_8</th>\n      <th>heading_9</th>\n      <th>...</th>\n      <th>content_290</th>\n      <th>content_291</th>\n      <th>content_292</th>\n      <th>content_293</th>\n      <th>content_294</th>\n      <th>content_295</th>\n      <th>content_296</th>\n      <th>content_297</th>\n      <th>content_298</th>\n      <th>content_299</th>\n    </tr>\n  </thead>\n  <tbody>\n    <tr>\n      <th>0</th>\n      <td>-0.181138</td>\n      <td>0.105518</td>\n      <td>-0.001613</td>\n      <td>0.042302</td>\n      <td>0.188017</td>\n      <td>-0.251344</td>\n      <td>0.138633</td>\n      <td>-0.105746</td>\n      <td>-0.026714</td>\n      <td>2.062196</td>\n      <td>...</td>\n      <td>-0.070241</td>\n      <td>0.014146</td>\n      <td>0.052320</td>\n      <td>-0.029596</td>\n      <td>0.028182</td>\n      <td>-0.016302</td>\n      <td>-0.026987</td>\n      <td>0.030948</td>\n      <td>-0.028944</td>\n      <td>-0.010630</td>\n    </tr>\n    <tr>\n      <th>1</th>\n      <td>-0.082980</td>\n      <td>0.207037</td>\n      <td>-0.051993</td>\n      <td>0.086196</td>\n      <td>0.017779</td>\n      <td>-0.175637</td>\n      <td>-0.048886</td>\n      <td>-0.011423</td>\n      <td>0.031361</td>\n      <td>1.806003</td>\n      <td>...</td>\n      <td>-0.146531</td>\n      <td>0.036746</td>\n      <td>0.053139</td>\n      <td>-0.041750</td>\n      <td>-0.033510</td>\n      <td>0.003745</td>\n      <td>-0.059683</td>\n      <td>-0.005218</td>\n      <td>-0.032703</td>\n      <td>0.045910</td>\n    </tr>\n    <tr>\n      <th>2</th>\n      <td>-0.104821</td>\n      <td>0.254117</td>\n      <td>-0.077556</td>\n      <td>-0.087762</td>\n      <td>0.200255</td>\n      <td>-0.112232</td>\n      <td>0.238573</td>\n      <td>-0.008179</td>\n      <td>-0.110082</td>\n      <td>1.852883</td>\n      <td>...</td>\n      <td>-0.221741</td>\n      <td>0.024740</td>\n      <td>0.069605</td>\n      <td>-0.000706</td>\n      <td>-0.019521</td>\n      <td>-0.031620</td>\n      <td>-0.040203</td>\n      <td>-0.011670</td>\n      <td>-0.036697</td>\n      <td>0.043376</td>\n    </tr>\n    <tr>\n      <th>3</th>\n      <td>-0.141514</td>\n      <td>0.261024</td>\n      <td>-0.117814</td>\n      <td>0.009161</td>\n      <td>-0.153140</td>\n      <td>0.129478</td>\n      <td>-0.094760</td>\n      <td>-0.259848</td>\n      <td>0.247964</td>\n      <td>0.821680</td>\n      <td>...</td>\n      <td>-0.163250</td>\n      <td>0.015745</td>\n      <td>0.095984</td>\n      <td>-0.022673</td>\n      <td>0.035397</td>\n      <td>-0.047304</td>\n      <td>-0.022237</td>\n      <td>-0.022254</td>\n      <td>0.023935</td>\n      <td>0.082706</td>\n    </tr>\n  </tbody>\n</table>\n<p>4 rows × 600 columns</p>\n</div>"
     },
     "metadata": {},
     "execution_count": 10
    }
   ],
   "source": [
    "vector_data = pd.read_csv('../data/vectorized/bbc_toi_yahoo_article_vectors_raw_vectors.csv')\n",
    "# vector_data = vector_data.loc[:, [f\"content_{i}\" for i in range(300)]]\n",
    "\n",
    "print(vector_data.shape)\n",
    "\n",
    "vector_data.loc[:3]"
   ]
  },
  {
   "cell_type": "code",
   "execution_count": 11,
   "metadata": {},
   "outputs": [],
   "source": [
    "import numpy as np \n",
    "import pandas as pd \n",
    "from sklearn.feature_extraction.text import TfidfVectorizer\n",
    "\n",
    "from sklearn.metrics.pairwise import cosine_similarity\n",
    "\n",
    "from tqdm import tqdm\n",
    "tqdm.pandas()"
   ]
  },
  {
   "cell_type": "code",
   "execution_count": 12,
   "metadata": {},
   "outputs": [
    {
     "output_type": "execute_result",
     "data": {
      "text/plain": [
       "                                             heading  \\\n",
       "0  domestic abuse: swansea man jailed for murderi...   \n",
       "1  covid-19: how india failed to prevent a deadly...   \n",
       "2  northampton blaze 'cruel blow', say firm's owners   \n",
       "\n",
       "                                             content  \n",
       "0  a man has been jailed for life for battering h...  \n",
       "1  in early march, india's health minister harsh ...  \n",
       "2  two friends who spent 10 years building up the...  "
      ],
      "text/html": "<div>\n<style scoped>\n    .dataframe tbody tr th:only-of-type {\n        vertical-align: middle;\n    }\n\n    .dataframe tbody tr th {\n        vertical-align: top;\n    }\n\n    .dataframe thead th {\n        text-align: right;\n    }\n</style>\n<table border=\"1\" class=\"dataframe\">\n  <thead>\n    <tr style=\"text-align: right;\">\n      <th></th>\n      <th>heading</th>\n      <th>content</th>\n    </tr>\n  </thead>\n  <tbody>\n    <tr>\n      <th>0</th>\n      <td>domestic abuse: swansea man jailed for murderi...</td>\n      <td>a man has been jailed for life for battering h...</td>\n    </tr>\n    <tr>\n      <th>1</th>\n      <td>covid-19: how india failed to prevent a deadly...</td>\n      <td>in early march, india's health minister harsh ...</td>\n    </tr>\n    <tr>\n      <th>2</th>\n      <td>northampton blaze 'cruel blow', say firm's owners</td>\n      <td>two friends who spent 10 years building up the...</td>\n    </tr>\n  </tbody>\n</table>\n</div>"
     },
     "metadata": {},
     "execution_count": 12
    }
   ],
   "source": [
    "data = pd.read_csv(\"../data/bbc_toi_yahoo_stats_feats.csv\")\n",
    "data = data.loc[:, [\"heading\", \"content\"]]\n",
    "data.head(3)"
   ]
  },
  {
   "cell_type": "code",
   "execution_count": 13,
   "metadata": {},
   "outputs": [
    {
     "output_type": "stream",
     "name": "stderr",
     "text": [
      "100%|██████████| 10/10 [00:53<00:00,  5.36s/it]\n"
     ]
    }
   ],
   "source": [
    "train_data = vector_data\n",
    "distortions = []\n",
    "inertias = []\n",
    "mapping1 = {}\n",
    "mapping2 = {}\n",
    "K = range(1, 11)\n",
    "for k in tqdm(K):\n",
    "    # Building and fitting the model\n",
    "    kmeanModel = KMeans(\n",
    "        n_clusters=k,\n",
    "        init='k-means++',\n",
    "        n_init=10,\n",
    "        max_iter=300,\n",
    "        tol=0.0001,\n",
    "        precompute_distances='deprecated',\n",
    "        verbose=0,\n",
    "        random_state=None,\n",
    "        copy_x=True,\n",
    "        n_jobs='deprecated',\n",
    "        algorithm='auto'\n",
    "    )\n",
    "    kmeanModel.fit(train_data)\n",
    "\n",
    "    distortions.append(sum(np.min(cdist(train_data, kmeanModel.cluster_centers_,\n",
    "                                        'euclidean'), axis=1)) / train_data.shape[0])\n",
    "    inertias.append(kmeanModel.inertia_)\n",
    "\n",
    "    mapping1[k] = sum(np.min(cdist(train_data, kmeanModel.cluster_centers_,\n",
    "                                    'euclidean'), axis=1)) / train_data.shape[0]\n",
    "    mapping2[k] = kmeanModel.inertia_"
   ]
  },
  {
   "cell_type": "code",
   "execution_count": 14,
   "metadata": {},
   "outputs": [
    {
     "output_type": "execute_result",
     "data": {
      "text/plain": [
       "{1: 32797.52032338319,\n",
       " 2: 30737.837706075494,\n",
       " 3: 29659.125687508156,\n",
       " 4: 28963.873370402205,\n",
       " 5: 28503.25986378592,\n",
       " 6: 28101.85352965838,\n",
       " 7: 27738.01615106823,\n",
       " 8: 27432.827224675097,\n",
       " 9: 27166.788676953518,\n",
       " 10: 26953.19616780499}"
      ]
     },
     "metadata": {},
     "execution_count": 14
    }
   ],
   "source": [
    "mapping2"
   ]
  },
  {
   "cell_type": "code",
   "execution_count": 15,
   "metadata": {},
   "outputs": [
    {
     "output_type": "execute_result",
     "data": {
      "text/plain": [
       "<AxesSubplot:>"
      ]
     },
     "metadata": {},
     "execution_count": 15
    },
    {
     "output_type": "display_data",
     "data": {
      "text/plain": "<Figure size 432x288 with 1 Axes>",
      "image/svg+xml": "<?xml version=\"1.0\" encoding=\"utf-8\" standalone=\"no\"?>\r\n<!DOCTYPE svg PUBLIC \"-//W3C//DTD SVG 1.1//EN\"\r\n  \"http://www.w3.org/Graphics/SVG/1.1/DTD/svg11.dtd\">\r\n<!-- Created with matplotlib (https://matplotlib.org/) -->\r\n<svg height=\"266.792016pt\" version=\"1.1\" viewBox=\"0 0 438.2775 266.792016\" width=\"438.2775pt\" xmlns=\"http://www.w3.org/2000/svg\" xmlns:xlink=\"http://www.w3.org/1999/xlink\">\r\n <metadata>\r\n  <rdf:RDF xmlns:cc=\"http://creativecommons.org/ns#\" xmlns:dc=\"http://purl.org/dc/elements/1.1/\" xmlns:rdf=\"http://www.w3.org/1999/02/22-rdf-syntax-ns#\">\r\n   <cc:Work>\r\n    <dc:type rdf:resource=\"http://purl.org/dc/dcmitype/StillImage\"/>\r\n    <dc:date>2021-06-12T16:48:43.918224</dc:date>\r\n    <dc:format>image/svg+xml</dc:format>\r\n    <dc:creator>\r\n     <cc:Agent>\r\n      <dc:title>Matplotlib v3.3.4, https://matplotlib.org/</dc:title>\r\n     </cc:Agent>\r\n    </dc:creator>\r\n   </cc:Work>\r\n  </rdf:RDF>\r\n </metadata>\r\n <defs>\r\n  <style type=\"text/css\">*{stroke-linecap:butt;stroke-linejoin:round;}</style>\r\n </defs>\r\n <g id=\"figure_1\">\r\n  <g id=\"patch_1\">\r\n   <path d=\"M 0 266.792016 \r\nL 438.2775 266.792016 \r\nL 438.2775 0 \r\nL 0 0 \r\nz\r\n\" style=\"fill:#f0f0f0;\"/>\r\n  </g>\r\n  <g id=\"axes_1\">\r\n   <g id=\"patch_2\">\r\n    <path d=\"M 55.2375 242.542641 \r\nL 431.0775 242.542641 \r\nL 431.0775 9.262641 \r\nL 55.2375 9.262641 \r\nz\r\n\" style=\"fill:#f0f0f0;\"/>\r\n   </g>\r\n   <g id=\"matplotlib.axis_1\">\r\n    <g id=\"xtick_1\">\r\n     <g id=\"line2d_1\">\r\n      <path clip-path=\"url(#pf36e8826f4)\" d=\"M 110.284773 242.542641 \r\nL 110.284773 9.262641 \r\n\" style=\"fill:none;stroke:#cbcbcb;\"/>\r\n     </g>\r\n     <g id=\"line2d_2\"/>\r\n     <g id=\"text_1\">\r\n      <!-- 2 -->\r\n      <g transform=\"translate(105.831023 256.680453)scale(0.14 -0.14)\">\r\n       <defs>\r\n        <path d=\"M 19.1875 8.296875 \r\nL 53.609375 8.296875 \r\nL 53.609375 0 \r\nL 7.328125 0 \r\nL 7.328125 8.296875 \r\nQ 12.9375 14.109375 22.625 23.890625 \r\nQ 32.328125 33.6875 34.8125 36.53125 \r\nQ 39.546875 41.84375 41.421875 45.53125 \r\nQ 43.3125 49.21875 43.3125 52.78125 \r\nQ 43.3125 58.59375 39.234375 62.25 \r\nQ 35.15625 65.921875 28.609375 65.921875 \r\nQ 23.96875 65.921875 18.8125 64.3125 \r\nQ 13.671875 62.703125 7.8125 59.421875 \r\nL 7.8125 69.390625 \r\nQ 13.765625 71.78125 18.9375 73 \r\nQ 24.125 74.21875 28.421875 74.21875 \r\nQ 39.75 74.21875 46.484375 68.546875 \r\nQ 53.21875 62.890625 53.21875 53.421875 \r\nQ 53.21875 48.921875 51.53125 44.890625 \r\nQ 49.859375 40.875 45.40625 35.40625 \r\nQ 44.1875 33.984375 37.640625 27.21875 \r\nQ 31.109375 20.453125 19.1875 8.296875 \r\nz\r\n\" id=\"DejaVuSans-50\"/>\r\n       </defs>\r\n       <use xlink:href=\"#DejaVuSans-50\"/>\r\n      </g>\r\n     </g>\r\n    </g>\r\n    <g id=\"xtick_2\">\r\n     <g id=\"line2d_3\">\r\n      <path clip-path=\"url(#pf36e8826f4)\" d=\"M 186.212045 242.542641 \r\nL 186.212045 9.262641 \r\n\" style=\"fill:none;stroke:#cbcbcb;\"/>\r\n     </g>\r\n     <g id=\"line2d_4\"/>\r\n     <g id=\"text_2\">\r\n      <!-- 4 -->\r\n      <g transform=\"translate(181.758295 256.680453)scale(0.14 -0.14)\">\r\n       <defs>\r\n        <path d=\"M 37.796875 64.3125 \r\nL 12.890625 25.390625 \r\nL 37.796875 25.390625 \r\nz\r\nM 35.203125 72.90625 \r\nL 47.609375 72.90625 \r\nL 47.609375 25.390625 \r\nL 58.015625 25.390625 \r\nL 58.015625 17.1875 \r\nL 47.609375 17.1875 \r\nL 47.609375 0 \r\nL 37.796875 0 \r\nL 37.796875 17.1875 \r\nL 4.890625 17.1875 \r\nL 4.890625 26.703125 \r\nz\r\n\" id=\"DejaVuSans-52\"/>\r\n       </defs>\r\n       <use xlink:href=\"#DejaVuSans-52\"/>\r\n      </g>\r\n     </g>\r\n    </g>\r\n    <g id=\"xtick_3\">\r\n     <g id=\"line2d_5\">\r\n      <path clip-path=\"url(#pf36e8826f4)\" d=\"M 262.139318 242.542641 \r\nL 262.139318 9.262641 \r\n\" style=\"fill:none;stroke:#cbcbcb;\"/>\r\n     </g>\r\n     <g id=\"line2d_6\"/>\r\n     <g id=\"text_3\">\r\n      <!-- 6 -->\r\n      <g transform=\"translate(257.685568 256.680453)scale(0.14 -0.14)\">\r\n       <defs>\r\n        <path d=\"M 33.015625 40.375 \r\nQ 26.375 40.375 22.484375 35.828125 \r\nQ 18.609375 31.296875 18.609375 23.390625 \r\nQ 18.609375 15.53125 22.484375 10.953125 \r\nQ 26.375 6.390625 33.015625 6.390625 \r\nQ 39.65625 6.390625 43.53125 10.953125 \r\nQ 47.40625 15.53125 47.40625 23.390625 \r\nQ 47.40625 31.296875 43.53125 35.828125 \r\nQ 39.65625 40.375 33.015625 40.375 \r\nz\r\nM 52.59375 71.296875 \r\nL 52.59375 62.3125 \r\nQ 48.875 64.0625 45.09375 64.984375 \r\nQ 41.3125 65.921875 37.59375 65.921875 \r\nQ 27.828125 65.921875 22.671875 59.328125 \r\nQ 17.53125 52.734375 16.796875 39.40625 \r\nQ 19.671875 43.65625 24.015625 45.921875 \r\nQ 28.375 48.1875 33.59375 48.1875 \r\nQ 44.578125 48.1875 50.953125 41.515625 \r\nQ 57.328125 34.859375 57.328125 23.390625 \r\nQ 57.328125 12.15625 50.6875 5.359375 \r\nQ 44.046875 -1.421875 33.015625 -1.421875 \r\nQ 20.359375 -1.421875 13.671875 8.265625 \r\nQ 6.984375 17.96875 6.984375 36.375 \r\nQ 6.984375 53.65625 15.1875 63.9375 \r\nQ 23.390625 74.21875 37.203125 74.21875 \r\nQ 40.921875 74.21875 44.703125 73.484375 \r\nQ 48.484375 72.75 52.59375 71.296875 \r\nz\r\n\" id=\"DejaVuSans-54\"/>\r\n       </defs>\r\n       <use xlink:href=\"#DejaVuSans-54\"/>\r\n      </g>\r\n     </g>\r\n    </g>\r\n    <g id=\"xtick_4\">\r\n     <g id=\"line2d_7\">\r\n      <path clip-path=\"url(#pf36e8826f4)\" d=\"M 338.066591 242.542641 \r\nL 338.066591 9.262641 \r\n\" style=\"fill:none;stroke:#cbcbcb;\"/>\r\n     </g>\r\n     <g id=\"line2d_8\"/>\r\n     <g id=\"text_4\">\r\n      <!-- 8 -->\r\n      <g transform=\"translate(333.612841 256.680453)scale(0.14 -0.14)\">\r\n       <defs>\r\n        <path d=\"M 31.78125 34.625 \r\nQ 24.75 34.625 20.71875 30.859375 \r\nQ 16.703125 27.09375 16.703125 20.515625 \r\nQ 16.703125 13.921875 20.71875 10.15625 \r\nQ 24.75 6.390625 31.78125 6.390625 \r\nQ 38.8125 6.390625 42.859375 10.171875 \r\nQ 46.921875 13.96875 46.921875 20.515625 \r\nQ 46.921875 27.09375 42.890625 30.859375 \r\nQ 38.875 34.625 31.78125 34.625 \r\nz\r\nM 21.921875 38.8125 \r\nQ 15.578125 40.375 12.03125 44.71875 \r\nQ 8.5 49.078125 8.5 55.328125 \r\nQ 8.5 64.0625 14.71875 69.140625 \r\nQ 20.953125 74.21875 31.78125 74.21875 \r\nQ 42.671875 74.21875 48.875 69.140625 \r\nQ 55.078125 64.0625 55.078125 55.328125 \r\nQ 55.078125 49.078125 51.53125 44.71875 \r\nQ 48 40.375 41.703125 38.8125 \r\nQ 48.828125 37.15625 52.796875 32.3125 \r\nQ 56.78125 27.484375 56.78125 20.515625 \r\nQ 56.78125 9.90625 50.3125 4.234375 \r\nQ 43.84375 -1.421875 31.78125 -1.421875 \r\nQ 19.734375 -1.421875 13.25 4.234375 \r\nQ 6.78125 9.90625 6.78125 20.515625 \r\nQ 6.78125 27.484375 10.78125 32.3125 \r\nQ 14.796875 37.15625 21.921875 38.8125 \r\nz\r\nM 18.3125 54.390625 \r\nQ 18.3125 48.734375 21.84375 45.5625 \r\nQ 25.390625 42.390625 31.78125 42.390625 \r\nQ 38.140625 42.390625 41.71875 45.5625 \r\nQ 45.3125 48.734375 45.3125 54.390625 \r\nQ 45.3125 60.0625 41.71875 63.234375 \r\nQ 38.140625 66.40625 31.78125 66.40625 \r\nQ 25.390625 66.40625 21.84375 63.234375 \r\nQ 18.3125 60.0625 18.3125 54.390625 \r\nz\r\n\" id=\"DejaVuSans-56\"/>\r\n       </defs>\r\n       <use xlink:href=\"#DejaVuSans-56\"/>\r\n      </g>\r\n     </g>\r\n    </g>\r\n    <g id=\"xtick_5\">\r\n     <g id=\"line2d_9\">\r\n      <path clip-path=\"url(#pf36e8826f4)\" d=\"M 413.993864 242.542641 \r\nL 413.993864 9.262641 \r\n\" style=\"fill:none;stroke:#cbcbcb;\"/>\r\n     </g>\r\n     <g id=\"line2d_10\"/>\r\n     <g id=\"text_5\">\r\n      <!-- 10 -->\r\n      <g transform=\"translate(405.086364 256.680453)scale(0.14 -0.14)\">\r\n       <defs>\r\n        <path d=\"M 12.40625 8.296875 \r\nL 28.515625 8.296875 \r\nL 28.515625 63.921875 \r\nL 10.984375 60.40625 \r\nL 10.984375 69.390625 \r\nL 28.421875 72.90625 \r\nL 38.28125 72.90625 \r\nL 38.28125 8.296875 \r\nL 54.390625 8.296875 \r\nL 54.390625 0 \r\nL 12.40625 0 \r\nz\r\n\" id=\"DejaVuSans-49\"/>\r\n        <path d=\"M 31.78125 66.40625 \r\nQ 24.171875 66.40625 20.328125 58.90625 \r\nQ 16.5 51.421875 16.5 36.375 \r\nQ 16.5 21.390625 20.328125 13.890625 \r\nQ 24.171875 6.390625 31.78125 6.390625 \r\nQ 39.453125 6.390625 43.28125 13.890625 \r\nQ 47.125 21.390625 47.125 36.375 \r\nQ 47.125 51.421875 43.28125 58.90625 \r\nQ 39.453125 66.40625 31.78125 66.40625 \r\nz\r\nM 31.78125 74.21875 \r\nQ 44.046875 74.21875 50.515625 64.515625 \r\nQ 56.984375 54.828125 56.984375 36.375 \r\nQ 56.984375 17.96875 50.515625 8.265625 \r\nQ 44.046875 -1.421875 31.78125 -1.421875 \r\nQ 19.53125 -1.421875 13.0625 8.265625 \r\nQ 6.59375 17.96875 6.59375 36.375 \r\nQ 6.59375 54.828125 13.0625 64.515625 \r\nQ 19.53125 74.21875 31.78125 74.21875 \r\nz\r\n\" id=\"DejaVuSans-48\"/>\r\n       </defs>\r\n       <use xlink:href=\"#DejaVuSans-49\"/>\r\n       <use x=\"63.623047\" xlink:href=\"#DejaVuSans-48\"/>\r\n      </g>\r\n     </g>\r\n    </g>\r\n   </g>\r\n   <g id=\"matplotlib.axis_2\">\r\n    <g id=\"ytick_1\">\r\n     <g id=\"line2d_11\">\r\n      <path clip-path=\"url(#pf36e8826f4)\" d=\"M 55.2375 230.240636 \r\nL 431.0775 230.240636 \r\n\" style=\"fill:none;stroke:#cbcbcb;\"/>\r\n     </g>\r\n     <g id=\"line2d_12\"/>\r\n     <g id=\"text_6\">\r\n      <!-- 27000 -->\r\n      <g transform=\"translate(7.2 235.559542)scale(0.14 -0.14)\">\r\n       <defs>\r\n        <path d=\"M 8.203125 72.90625 \r\nL 55.078125 72.90625 \r\nL 55.078125 68.703125 \r\nL 28.609375 0 \r\nL 18.3125 0 \r\nL 43.21875 64.59375 \r\nL 8.203125 64.59375 \r\nz\r\n\" id=\"DejaVuSans-55\"/>\r\n       </defs>\r\n       <use xlink:href=\"#DejaVuSans-50\"/>\r\n       <use x=\"63.623047\" xlink:href=\"#DejaVuSans-55\"/>\r\n       <use x=\"127.246094\" xlink:href=\"#DejaVuSans-48\"/>\r\n       <use x=\"190.869141\" xlink:href=\"#DejaVuSans-48\"/>\r\n       <use x=\"254.492188\" xlink:href=\"#DejaVuSans-48\"/>\r\n      </g>\r\n     </g>\r\n    </g>\r\n    <g id=\"ytick_2\">\r\n     <g id=\"line2d_13\">\r\n      <path clip-path=\"url(#pf36e8826f4)\" d=\"M 55.2375 193.953681 \r\nL 431.0775 193.953681 \r\n\" style=\"fill:none;stroke:#cbcbcb;\"/>\r\n     </g>\r\n     <g id=\"line2d_14\"/>\r\n     <g id=\"text_7\">\r\n      <!-- 28000 -->\r\n      <g transform=\"translate(7.2 199.272587)scale(0.14 -0.14)\">\r\n       <use xlink:href=\"#DejaVuSans-50\"/>\r\n       <use x=\"63.623047\" xlink:href=\"#DejaVuSans-56\"/>\r\n       <use x=\"127.246094\" xlink:href=\"#DejaVuSans-48\"/>\r\n       <use x=\"190.869141\" xlink:href=\"#DejaVuSans-48\"/>\r\n       <use x=\"254.492188\" xlink:href=\"#DejaVuSans-48\"/>\r\n      </g>\r\n     </g>\r\n    </g>\r\n    <g id=\"ytick_3\">\r\n     <g id=\"line2d_15\">\r\n      <path clip-path=\"url(#pf36e8826f4)\" d=\"M 55.2375 157.666726 \r\nL 431.0775 157.666726 \r\n\" style=\"fill:none;stroke:#cbcbcb;\"/>\r\n     </g>\r\n     <g id=\"line2d_16\"/>\r\n     <g id=\"text_8\">\r\n      <!-- 29000 -->\r\n      <g transform=\"translate(7.2 162.985632)scale(0.14 -0.14)\">\r\n       <defs>\r\n        <path d=\"M 10.984375 1.515625 \r\nL 10.984375 10.5 \r\nQ 14.703125 8.734375 18.5 7.8125 \r\nQ 22.3125 6.890625 25.984375 6.890625 \r\nQ 35.75 6.890625 40.890625 13.453125 \r\nQ 46.046875 20.015625 46.78125 33.40625 \r\nQ 43.953125 29.203125 39.59375 26.953125 \r\nQ 35.25 24.703125 29.984375 24.703125 \r\nQ 19.046875 24.703125 12.671875 31.3125 \r\nQ 6.296875 37.9375 6.296875 49.421875 \r\nQ 6.296875 60.640625 12.9375 67.421875 \r\nQ 19.578125 74.21875 30.609375 74.21875 \r\nQ 43.265625 74.21875 49.921875 64.515625 \r\nQ 56.59375 54.828125 56.59375 36.375 \r\nQ 56.59375 19.140625 48.40625 8.859375 \r\nQ 40.234375 -1.421875 26.421875 -1.421875 \r\nQ 22.703125 -1.421875 18.890625 -0.6875 \r\nQ 15.09375 0.046875 10.984375 1.515625 \r\nz\r\nM 30.609375 32.421875 \r\nQ 37.25 32.421875 41.125 36.953125 \r\nQ 45.015625 41.5 45.015625 49.421875 \r\nQ 45.015625 57.28125 41.125 61.84375 \r\nQ 37.25 66.40625 30.609375 66.40625 \r\nQ 23.96875 66.40625 20.09375 61.84375 \r\nQ 16.21875 57.28125 16.21875 49.421875 \r\nQ 16.21875 41.5 20.09375 36.953125 \r\nQ 23.96875 32.421875 30.609375 32.421875 \r\nz\r\n\" id=\"DejaVuSans-57\"/>\r\n       </defs>\r\n       <use xlink:href=\"#DejaVuSans-50\"/>\r\n       <use x=\"63.623047\" xlink:href=\"#DejaVuSans-57\"/>\r\n       <use x=\"127.246094\" xlink:href=\"#DejaVuSans-48\"/>\r\n       <use x=\"190.869141\" xlink:href=\"#DejaVuSans-48\"/>\r\n       <use x=\"254.492188\" xlink:href=\"#DejaVuSans-48\"/>\r\n      </g>\r\n     </g>\r\n    </g>\r\n    <g id=\"ytick_4\">\r\n     <g id=\"line2d_17\">\r\n      <path clip-path=\"url(#pf36e8826f4)\" d=\"M 55.2375 121.379771 \r\nL 431.0775 121.379771 \r\n\" style=\"fill:none;stroke:#cbcbcb;\"/>\r\n     </g>\r\n     <g id=\"line2d_18\"/>\r\n     <g id=\"text_9\">\r\n      <!-- 30000 -->\r\n      <g transform=\"translate(7.2 126.698677)scale(0.14 -0.14)\">\r\n       <defs>\r\n        <path d=\"M 40.578125 39.3125 \r\nQ 47.65625 37.796875 51.625 33 \r\nQ 55.609375 28.21875 55.609375 21.1875 \r\nQ 55.609375 10.40625 48.1875 4.484375 \r\nQ 40.765625 -1.421875 27.09375 -1.421875 \r\nQ 22.515625 -1.421875 17.65625 -0.515625 \r\nQ 12.796875 0.390625 7.625 2.203125 \r\nL 7.625 11.71875 \r\nQ 11.71875 9.328125 16.59375 8.109375 \r\nQ 21.484375 6.890625 26.8125 6.890625 \r\nQ 36.078125 6.890625 40.9375 10.546875 \r\nQ 45.796875 14.203125 45.796875 21.1875 \r\nQ 45.796875 27.640625 41.28125 31.265625 \r\nQ 36.765625 34.90625 28.71875 34.90625 \r\nL 20.21875 34.90625 \r\nL 20.21875 43.015625 \r\nL 29.109375 43.015625 \r\nQ 36.375 43.015625 40.234375 45.921875 \r\nQ 44.09375 48.828125 44.09375 54.296875 \r\nQ 44.09375 59.90625 40.109375 62.90625 \r\nQ 36.140625 65.921875 28.71875 65.921875 \r\nQ 24.65625 65.921875 20.015625 65.03125 \r\nQ 15.375 64.15625 9.8125 62.3125 \r\nL 9.8125 71.09375 \r\nQ 15.4375 72.65625 20.34375 73.4375 \r\nQ 25.25 74.21875 29.59375 74.21875 \r\nQ 40.828125 74.21875 47.359375 69.109375 \r\nQ 53.90625 64.015625 53.90625 55.328125 \r\nQ 53.90625 49.265625 50.4375 45.09375 \r\nQ 46.96875 40.921875 40.578125 39.3125 \r\nz\r\n\" id=\"DejaVuSans-51\"/>\r\n       </defs>\r\n       <use xlink:href=\"#DejaVuSans-51\"/>\r\n       <use x=\"63.623047\" xlink:href=\"#DejaVuSans-48\"/>\r\n       <use x=\"127.246094\" xlink:href=\"#DejaVuSans-48\"/>\r\n       <use x=\"190.869141\" xlink:href=\"#DejaVuSans-48\"/>\r\n       <use x=\"254.492188\" xlink:href=\"#DejaVuSans-48\"/>\r\n      </g>\r\n     </g>\r\n    </g>\r\n    <g id=\"ytick_5\">\r\n     <g id=\"line2d_19\">\r\n      <path clip-path=\"url(#pf36e8826f4)\" d=\"M 55.2375 85.092816 \r\nL 431.0775 85.092816 \r\n\" style=\"fill:none;stroke:#cbcbcb;\"/>\r\n     </g>\r\n     <g id=\"line2d_20\"/>\r\n     <g id=\"text_10\">\r\n      <!-- 31000 -->\r\n      <g transform=\"translate(7.2 90.411722)scale(0.14 -0.14)\">\r\n       <use xlink:href=\"#DejaVuSans-51\"/>\r\n       <use x=\"63.623047\" xlink:href=\"#DejaVuSans-49\"/>\r\n       <use x=\"127.246094\" xlink:href=\"#DejaVuSans-48\"/>\r\n       <use x=\"190.869141\" xlink:href=\"#DejaVuSans-48\"/>\r\n       <use x=\"254.492188\" xlink:href=\"#DejaVuSans-48\"/>\r\n      </g>\r\n     </g>\r\n    </g>\r\n    <g id=\"ytick_6\">\r\n     <g id=\"line2d_21\">\r\n      <path clip-path=\"url(#pf36e8826f4)\" d=\"M 55.2375 48.805861 \r\nL 431.0775 48.805861 \r\n\" style=\"fill:none;stroke:#cbcbcb;\"/>\r\n     </g>\r\n     <g id=\"line2d_22\"/>\r\n     <g id=\"text_11\">\r\n      <!-- 32000 -->\r\n      <g transform=\"translate(7.2 54.124767)scale(0.14 -0.14)\">\r\n       <use xlink:href=\"#DejaVuSans-51\"/>\r\n       <use x=\"63.623047\" xlink:href=\"#DejaVuSans-50\"/>\r\n       <use x=\"127.246094\" xlink:href=\"#DejaVuSans-48\"/>\r\n       <use x=\"190.869141\" xlink:href=\"#DejaVuSans-48\"/>\r\n       <use x=\"254.492188\" xlink:href=\"#DejaVuSans-48\"/>\r\n      </g>\r\n     </g>\r\n    </g>\r\n    <g id=\"ytick_7\">\r\n     <g id=\"line2d_23\">\r\n      <path clip-path=\"url(#pf36e8826f4)\" d=\"M 55.2375 12.518906 \r\nL 431.0775 12.518906 \r\n\" style=\"fill:none;stroke:#cbcbcb;\"/>\r\n     </g>\r\n     <g id=\"line2d_24\"/>\r\n     <g id=\"text_12\">\r\n      <!-- 33000 -->\r\n      <g transform=\"translate(7.2 17.837813)scale(0.14 -0.14)\">\r\n       <use xlink:href=\"#DejaVuSans-51\"/>\r\n       <use x=\"63.623047\" xlink:href=\"#DejaVuSans-51\"/>\r\n       <use x=\"127.246094\" xlink:href=\"#DejaVuSans-48\"/>\r\n       <use x=\"190.869141\" xlink:href=\"#DejaVuSans-48\"/>\r\n       <use x=\"254.492188\" xlink:href=\"#DejaVuSans-48\"/>\r\n      </g>\r\n     </g>\r\n    </g>\r\n   </g>\r\n   <g id=\"line2d_25\">\r\n    <path clip-path=\"url(#pf36e8826f4)\" d=\"M 72.321136 19.866277 \r\nL 110.284773 94.605887 \r\nL 148.248409 133.749062 \r\nL 186.212045 158.977651 \r\nL 224.175682 175.691913 \r\nL 262.139318 190.257726 \r\nL 300.102955 203.460277 \r\nL 338.066591 214.534654 \r\nL 376.030227 224.188383 \r\nL 413.993864 231.939004 \r\n\" style=\"fill:none;stroke:#008fd5;stroke-width:4;\"/>\r\n   </g>\r\n   <g id=\"patch_3\">\r\n    <path d=\"M 55.2375 242.542641 \r\nL 55.2375 9.262641 \r\n\" style=\"fill:none;stroke:#f0f0f0;stroke-linecap:square;stroke-linejoin:miter;stroke-width:3;\"/>\r\n   </g>\r\n   <g id=\"patch_4\">\r\n    <path d=\"M 431.0775 242.542641 \r\nL 431.0775 9.262641 \r\n\" style=\"fill:none;stroke:#f0f0f0;stroke-linecap:square;stroke-linejoin:miter;stroke-width:3;\"/>\r\n   </g>\r\n   <g id=\"patch_5\">\r\n    <path d=\"M 55.2375 242.542641 \r\nL 431.0775 242.542641 \r\n\" style=\"fill:none;stroke:#f0f0f0;stroke-linecap:square;stroke-linejoin:miter;stroke-width:3;\"/>\r\n   </g>\r\n   <g id=\"patch_6\">\r\n    <path d=\"M 55.2375 9.262641 \r\nL 431.0775 9.262641 \r\n\" style=\"fill:none;stroke:#f0f0f0;stroke-linecap:square;stroke-linejoin:miter;stroke-width:3;\"/>\r\n   </g>\r\n  </g>\r\n </g>\r\n <defs>\r\n  <clipPath id=\"pf36e8826f4\">\r\n   <rect height=\"233.28\" width=\"375.84\" x=\"55.2375\" y=\"9.262641\"/>\r\n  </clipPath>\r\n </defs>\r\n</svg>\r\n",
      "image/png": "[encoded data removed]"
     },
     "metadata": {}
    }
   ],
   "source": [
    "sns.lineplot(x=mapping2.keys(), y=mapping2.values())"
   ]
  },
  {
   "cell_type": "code",
   "execution_count": 19,
   "metadata": {},
   "outputs": [
    {
     "output_type": "execute_result",
     "data": {
      "text/plain": [
       "                                                heading  \\\n",
       "3     einstein handwritten letter with equation fetc...   \n",
       "5     oxford university received £112m from fossil f...   \n",
       "16    covid-19: number in work in ni remains below p...   \n",
       "30        singapore and hong kong to open travel bubble   \n",
       "82    deliveroo targets valuation of up to £8.8bn in...   \n",
       "...                                                 ...   \n",
       "7894  companies garner rs 18.56 lakh crore via bse p...   \n",
       "7895  after long wait, max group sells 13% stake in ...   \n",
       "7896  high court allows china's bytedance to operate...   \n",
       "7897  ajay tyagi: separation of cmd roles not aimed ...   \n",
       "7899  maharashtra covid guidelines:  maharashtra cur...   \n",
       "\n",
       "                                                content  cluster_id  \n",
       "3     a letter written by albert einstein containing...           2  \n",
       "5     oxford university has received more than £112m...           2  \n",
       "16    the number of people in work in northern irela...           2  \n",
       "30    singapore and hong kong have agreed to start q...           2  \n",
       "82    deliveroo is seeking a valuation of between £7...           2  \n",
       "...                                                 ...         ...  \n",
       "7894  new delhi: indian corporates raised over rs 18...           2  \n",
       "7895  new delhi/mumbai: diversified max group has so...           2  \n",
       "7896  mumbai: the bombay high court on tuesday permi...           2  \n",
       "7897  new delhi: capital markets regulator sebi chie...           2  \n",
       "7899  new delhi: the fresh covid lockdown in maharas...           2  \n",
       "\n",
       "[2403 rows x 3 columns]"
      ],
      "text/html": "<div>\n<style scoped>\n    .dataframe tbody tr th:only-of-type {\n        vertical-align: middle;\n    }\n\n    .dataframe tbody tr th {\n        vertical-align: top;\n    }\n\n    .dataframe thead th {\n        text-align: right;\n    }\n</style>\n<table border=\"1\" class=\"dataframe\">\n  <thead>\n    <tr style=\"text-align: right;\">\n      <th></th>\n      <th>heading</th>\n      <th>content</th>\n      <th>cluster_id</th>\n    </tr>\n  </thead>\n  <tbody>\n    <tr>\n      <th>3</th>\n      <td>einstein handwritten letter with equation fetc...</td>\n      <td>a letter written by albert einstein containing...</td>\n      <td>2</td>\n    </tr>\n    <tr>\n      <th>5</th>\n      <td>oxford university received £112m from fossil f...</td>\n      <td>oxford university has received more than £112m...</td>\n      <td>2</td>\n    </tr>\n    <tr>\n      <th>16</th>\n      <td>covid-19: number in work in ni remains below p...</td>\n      <td>the number of people in work in northern irela...</td>\n      <td>2</td>\n    </tr>\n    <tr>\n      <th>30</th>\n      <td>singapore and hong kong to open travel bubble</td>\n      <td>singapore and hong kong have agreed to start q...</td>\n      <td>2</td>\n    </tr>\n    <tr>\n      <th>82</th>\n      <td>deliveroo targets valuation of up to £8.8bn in...</td>\n      <td>deliveroo is seeking a valuation of between £7...</td>\n      <td>2</td>\n    </tr>\n    <tr>\n      <th>...</th>\n      <td>...</td>\n      <td>...</td>\n      <td>...</td>\n    </tr>\n    <tr>\n      <th>7894</th>\n      <td>companies garner rs 18.56 lakh crore via bse p...</td>\n      <td>new delhi: indian corporates raised over rs 18...</td>\n      <td>2</td>\n    </tr>\n    <tr>\n      <th>7895</th>\n      <td>after long wait, max group sells 13% stake in ...</td>\n      <td>new delhi/mumbai: diversified max group has so...</td>\n      <td>2</td>\n    </tr>\n    <tr>\n      <th>7896</th>\n      <td>high court allows china's bytedance to operate...</td>\n      <td>mumbai: the bombay high court on tuesday permi...</td>\n      <td>2</td>\n    </tr>\n    <tr>\n      <th>7897</th>\n      <td>ajay tyagi: separation of cmd roles not aimed ...</td>\n      <td>new delhi: capital markets regulator sebi chie...</td>\n      <td>2</td>\n    </tr>\n    <tr>\n      <th>7899</th>\n      <td>maharashtra covid guidelines:  maharashtra cur...</td>\n      <td>new delhi: the fresh covid lockdown in maharas...</td>\n      <td>2</td>\n    </tr>\n  </tbody>\n</table>\n<p>2403 rows × 3 columns</p>\n</div>"
     },
     "metadata": {},
     "execution_count": 19
    }
   ],
   "source": [
    "kmeanModel = KMeans(\n",
    "    n_clusters=5,\n",
    "    init='k-means++',\n",
    "    n_init=10,\n",
    "    max_iter=1000,\n",
    "    tol=0.0001,\n",
    "    precompute_distances='deprecated',\n",
    "    verbose=0,\n",
    "    random_state=None,\n",
    "    copy_x=True,\n",
    "    n_jobs='deprecated',\n",
    "    algorithm='auto'\n",
    ")\n",
    "kmeanModel.fit(vector_data)\n",
    "data.loc[:, \"cluster_id\"] = kmeanModel.labels_"
   ]
  },
  {
   "cell_type": "code",
   "execution_count": 28,
   "metadata": {},
   "outputs": [
    {
     "output_type": "execute_result",
     "data": {
      "text/plain": [
       "                                                heading  \\\n",
       "3     einstein handwritten letter with equation fetc...   \n",
       "5     oxford university received £112m from fossil f...   \n",
       "16    covid-19: number in work in ni remains below p...   \n",
       "30        singapore and hong kong to open travel bubble   \n",
       "82    deliveroo targets valuation of up to £8.8bn in...   \n",
       "101    hsbc forecasts brighter outlook as profits surge   \n",
       "156        scottish unemployment rate remains unchanged   \n",
       "183   india covid: government says new variant linke...   \n",
       "199   east street: £10m transformation plan for bris...   \n",
       "206   budweiser's £117m investment sees new jobs in ...   \n",
       "259   china overtakes germany as uk’s top import market   \n",
       "271   euromillions: uk ticket-holder claims £111m ja...   \n",
       "279     retail sales stage partial recovery in february   \n",
       "280    women retirees win £2.7bn for underpaid pensions   \n",
       "311   philippines: giant clam shells worth $25m seiz...   \n",
       "316   covid-19: department of health records 39 new ...   \n",
       "319       £300m investment to fuel electric car take-up   \n",
       "320   £1bn uk-india trade deals will create 6,000 uk...   \n",
       "342   china census: data shows slowest population gr...   \n",
       "353      jd logistics shares deliver in hong kong debut   \n",
       "391     covid infections rise by two-thirds in uk - ons   \n",
       "397   engineering group weir secures £36m ukraine order   \n",
       "420   queensland offers cash bonus to attract touris...   \n",
       "428   ocado in self-driving vans push with £10m stak...   \n",
       "440   uae to test cloud-busting drones to boost rain...   \n",
       "442   manx utilities reviews cut in green electricit...   \n",
       "458        airbus plans increase in a220 jet production   \n",
       "481    citigroup to exit consumer banking in 13 markets   \n",
       "534   renewables met 97% of scotland's electricity d...   \n",
       "536     hong kong sets $1.3m parking space price record   \n",
       "542   toshiba president steps down amid $20bn buyout...   \n",
       "553   covid-19: bedford sees cases rise by 59% in a ...   \n",
       "582   india covid: why indian bosses overseas are se...   \n",
       "606   coronavirus: ireland reveals post-covid recove...   \n",
       "614   covid in scotland: dundee cultural recovery fu...   \n",
       "650   china rebounds with economic growth target abo...   \n",
       "663     covid causes £250k drop in air ambulance income   \n",
       "673   covid-19: india arrivals begin uk hotel quaran...   \n",
       "694    biden expands us investment ban on chinese firms   \n",
       "704   tissue production factory to create 229 jobs i...   \n",
       "739   provident plan to cap doorstep lending compens...   \n",
       "745           condor ferries reduces services to france   \n",
       "782   budget 2021: rishi sunak insists covid-recover...   \n",
       "813     xiaomi to invest $10bn in electric vehicle race   \n",
       "843   covid in scotland: oil and gas sector in econo...   \n",
       "866   covid: delhi announces lockdown as india's cas...   \n",
       "967   janet yellen pledges greater us international ...   \n",
       "968   carrefour in kenya: the true price of the disc...   \n",
       "991        tech firm igale creating 100 jobs in belfast   \n",
       "1060  colonial pipeline boss confirms $4.4m ransom p...   \n",
       "\n",
       "                                                content  cluster_id  \n",
       "3     a letter written by albert einstein containing...           2  \n",
       "5     oxford university has received more than £112m...           2  \n",
       "16    the number of people in work in northern irela...           2  \n",
       "30    singapore and hong kong have agreed to start q...           2  \n",
       "82    deliveroo is seeking a valuation of between £7...           2  \n",
       "101   hsbc has reported stronger than expected profi...           2  \n",
       "156   scotland's unemployment rate from december 202...           2  \n",
       "183   india has said a new variant of the coronaviru...           2  \n",
       "199   a £10 million plan to revitalise a major shopp...           2  \n",
       "206   budweiser is investing £117m at its breweries ...           2  \n",
       "259   china has overtaken germany to become the uk's...           2  \n",
       "271   a uk ticket-holder has come forward to claim f...           2  \n",
       "279   retail sales rose 2.1% in february, recovering...           2  \n",
       "280   about 200,000 women could be in line for payou...           2  \n",
       "311   around 200 tonnes of illegally harvested giant...           2  \n",
       "316   bbc news ni outlines the latest data on corona...           2  \n",
       "319   the uk's energy regulator has approved plans t...           2  \n",
       "320   the prime minister has announced new trade and...           2  \n",
       "342   china's population grew at its slowest pace in...           2  \n",
       "353   shares in the logistics arm of chinese online ...           2  \n",
       "391   the number of people infected with coronavirus...           2  \n",
       "397   scottish engineering firm weir group has won a...           2  \n",
       "420   all those who have dreamed of ditching their r...           2  \n",
       "428   online grocery retailer ocado has unveiled a m...           2  \n",
       "440   drones that fly into clouds, giving them an el...           2  \n",
       "442   a cut in the amount paid to customers who gene...           2  \n",
       "458   airbus has said it envisages producing 14 of i...           2  \n",
       "481   citigroup is closing its consumer banking oper...           2  \n",
       "534   scotland has narrowly missed a target to gener...           2  \n",
       "536   a parking space has reportedly sold for a reco...           2  \n",
       "542   toshiba's chief executive resigned on wednesda...           2  \n",
       "553   an area which has been hit by a coronavirus va...           2  \n",
       "582   singapore based start-up consultant saurya vel...           2  \n",
       "606   the republic of ireland's government has unvei...           2  \n",
       "614   five of dundee's biggest cultural organisation...           2  \n",
       "650   china is aiming for an economic growth rate ab...           2  \n",
       "663   great western air ambulance charity (gwaac) is...           2  \n",
       "673   the first people to arrive in the uk from indi...           2  \n",
       "694   us president joe biden is set to ban americans...           2  \n",
       "704   a european tissue manufacturer will create 229...           2  \n",
       "739   doorstep lender provident financial wants to l...           2  \n",
       "745   condor ferries has reduced its services to fra...           2  \n",
       "782   chancellor rishi sunak has rejected claims his...           2  \n",
       "813   chinese phone maker xiaomi is wading into elec...           2  \n",
       "843   the uk oil and gas sector is in \"economic turm...           2  \n",
       "866   india's capital, delhi, has announced a week-l...           2  \n",
       "967   us treasury secretary janet yellen has signall...           2  \n",
       "968   from detergent to sausages, tissue paper and e...           2  \n",
       "991   a london-based technology firm is creating 100...           2  \n",
       "1060  colonial pipeline has confirmed it paid a $4.4...           2  "
      ],
      "text/html": "<div>\n<style scoped>\n    .dataframe tbody tr th:only-of-type {\n        vertical-align: middle;\n    }\n\n    .dataframe tbody tr th {\n        vertical-align: top;\n    }\n\n    .dataframe thead th {\n        text-align: right;\n    }\n</style>\n<table border=\"1\" class=\"dataframe\">\n  <thead>\n    <tr style=\"text-align: right;\">\n      <th></th>\n      <th>heading</th>\n      <th>content</th>\n      <th>cluster_id</th>\n    </tr>\n  </thead>\n  <tbody>\n    <tr>\n      <th>3</th>\n      <td>einstein handwritten letter with equation fetc...</td>\n      <td>a letter written by albert einstein containing...</td>\n      <td>2</td>\n    </tr>\n    <tr>\n      <th>5</th>\n      <td>oxford university received £112m from fossil f...</td>\n      <td>oxford university has received more than £112m...</td>\n      <td>2</td>\n    </tr>\n    <tr>\n      <th>16</th>\n      <td>covid-19: number in work in ni remains below p...</td>\n      <td>the number of people in work in northern irela...</td>\n      <td>2</td>\n    </tr>\n    <tr>\n      <th>30</th>\n      <td>singapore and hong kong to open travel bubble</td>\n      <td>singapore and hong kong have agreed to start q...</td>\n      <td>2</td>\n    </tr>\n    <tr>\n      <th>82</th>\n      <td>deliveroo targets valuation of up to £8.8bn in...</td>\n      <td>deliveroo is seeking a valuation of between £7...</td>\n      <td>2</td>\n    </tr>\n    <tr>\n      <th>101</th>\n      <td>hsbc forecasts brighter outlook as profits surge</td>\n      <td>hsbc has reported stronger than expected profi...</td>\n      <td>2</td>\n    </tr>\n    <tr>\n      <th>156</th>\n      <td>scottish unemployment rate remains unchanged</td>\n      <td>scotland's unemployment rate from december 202...</td>\n      <td>2</td>\n    </tr>\n    <tr>\n      <th>183</th>\n      <td>india covid: government says new variant linke...</td>\n      <td>india has said a new variant of the coronaviru...</td>\n      <td>2</td>\n    </tr>\n    <tr>\n      <th>199</th>\n      <td>east street: £10m transformation plan for bris...</td>\n      <td>a £10 million plan to revitalise a major shopp...</td>\n      <td>2</td>\n    </tr>\n    <tr>\n      <th>206</th>\n      <td>budweiser's £117m investment sees new jobs in ...</td>\n      <td>budweiser is investing £117m at its breweries ...</td>\n      <td>2</td>\n    </tr>\n    <tr>\n      <th>259</th>\n      <td>china overtakes germany as uk’s top import market</td>\n      <td>china has overtaken germany to become the uk's...</td>\n      <td>2</td>\n    </tr>\n    <tr>\n      <th>271</th>\n      <td>euromillions: uk ticket-holder claims £111m ja...</td>\n      <td>a uk ticket-holder has come forward to claim f...</td>\n      <td>2</td>\n    </tr>\n    <tr>\n      <th>279</th>\n      <td>retail sales stage partial recovery in february</td>\n      <td>retail sales rose 2.1% in february, recovering...</td>\n      <td>2</td>\n    </tr>\n    <tr>\n      <th>280</th>\n      <td>women retirees win £2.7bn for underpaid pensions</td>\n      <td>about 200,000 women could be in line for payou...</td>\n      <td>2</td>\n    </tr>\n    <tr>\n      <th>311</th>\n      <td>philippines: giant clam shells worth $25m seiz...</td>\n      <td>around 200 tonnes of illegally harvested giant...</td>\n      <td>2</td>\n    </tr>\n    <tr>\n      <th>316</th>\n      <td>covid-19: department of health records 39 new ...</td>\n      <td>bbc news ni outlines the latest data on corona...</td>\n      <td>2</td>\n    </tr>\n    <tr>\n      <th>319</th>\n      <td>£300m investment to fuel electric car take-up</td>\n      <td>the uk's energy regulator has approved plans t...</td>\n      <td>2</td>\n    </tr>\n    <tr>\n      <th>320</th>\n      <td>£1bn uk-india trade deals will create 6,000 uk...</td>\n      <td>the prime minister has announced new trade and...</td>\n      <td>2</td>\n    </tr>\n    <tr>\n      <th>342</th>\n      <td>china census: data shows slowest population gr...</td>\n      <td>china's population grew at its slowest pace in...</td>\n      <td>2</td>\n    </tr>\n    <tr>\n      <th>353</th>\n      <td>jd logistics shares deliver in hong kong debut</td>\n      <td>shares in the logistics arm of chinese online ...</td>\n      <td>2</td>\n    </tr>\n    <tr>\n      <th>391</th>\n      <td>covid infections rise by two-thirds in uk - ons</td>\n      <td>the number of people infected with coronavirus...</td>\n      <td>2</td>\n    </tr>\n    <tr>\n      <th>397</th>\n      <td>engineering group weir secures £36m ukraine order</td>\n      <td>scottish engineering firm weir group has won a...</td>\n      <td>2</td>\n    </tr>\n    <tr>\n      <th>420</th>\n      <td>queensland offers cash bonus to attract touris...</td>\n      <td>all those who have dreamed of ditching their r...</td>\n      <td>2</td>\n    </tr>\n    <tr>\n      <th>428</th>\n      <td>ocado in self-driving vans push with £10m stak...</td>\n      <td>online grocery retailer ocado has unveiled a m...</td>\n      <td>2</td>\n    </tr>\n    <tr>\n      <th>440</th>\n      <td>uae to test cloud-busting drones to boost rain...</td>\n      <td>drones that fly into clouds, giving them an el...</td>\n      <td>2</td>\n    </tr>\n    <tr>\n      <th>442</th>\n      <td>manx utilities reviews cut in green electricit...</td>\n      <td>a cut in the amount paid to customers who gene...</td>\n      <td>2</td>\n    </tr>\n    <tr>\n      <th>458</th>\n      <td>airbus plans increase in a220 jet production</td>\n      <td>airbus has said it envisages producing 14 of i...</td>\n      <td>2</td>\n    </tr>\n    <tr>\n      <th>481</th>\n      <td>citigroup to exit consumer banking in 13 markets</td>\n      <td>citigroup is closing its consumer banking oper...</td>\n      <td>2</td>\n    </tr>\n    <tr>\n      <th>534</th>\n      <td>renewables met 97% of scotland's electricity d...</td>\n      <td>scotland has narrowly missed a target to gener...</td>\n      <td>2</td>\n    </tr>\n    <tr>\n      <th>536</th>\n      <td>hong kong sets $1.3m parking space price record</td>\n      <td>a parking space has reportedly sold for a reco...</td>\n      <td>2</td>\n    </tr>\n    <tr>\n      <th>542</th>\n      <td>toshiba president steps down amid $20bn buyout...</td>\n      <td>toshiba's chief executive resigned on wednesda...</td>\n      <td>2</td>\n    </tr>\n    <tr>\n      <th>553</th>\n      <td>covid-19: bedford sees cases rise by 59% in a ...</td>\n      <td>an area which has been hit by a coronavirus va...</td>\n      <td>2</td>\n    </tr>\n    <tr>\n      <th>582</th>\n      <td>india covid: why indian bosses overseas are se...</td>\n      <td>singapore based start-up consultant saurya vel...</td>\n      <td>2</td>\n    </tr>\n    <tr>\n      <th>606</th>\n      <td>coronavirus: ireland reveals post-covid recove...</td>\n      <td>the republic of ireland's government has unvei...</td>\n      <td>2</td>\n    </tr>\n    <tr>\n      <th>614</th>\n      <td>covid in scotland: dundee cultural recovery fu...</td>\n      <td>five of dundee's biggest cultural organisation...</td>\n      <td>2</td>\n    </tr>\n    <tr>\n      <th>650</th>\n      <td>china rebounds with economic growth target abo...</td>\n      <td>china is aiming for an economic growth rate ab...</td>\n      <td>2</td>\n    </tr>\n    <tr>\n      <th>663</th>\n      <td>covid causes £250k drop in air ambulance income</td>\n      <td>great western air ambulance charity (gwaac) is...</td>\n      <td>2</td>\n    </tr>\n    <tr>\n      <th>673</th>\n      <td>covid-19: india arrivals begin uk hotel quaran...</td>\n      <td>the first people to arrive in the uk from indi...</td>\n      <td>2</td>\n    </tr>\n    <tr>\n      <th>694</th>\n      <td>biden expands us investment ban on chinese firms</td>\n      <td>us president joe biden is set to ban americans...</td>\n      <td>2</td>\n    </tr>\n    <tr>\n      <th>704</th>\n      <td>tissue production factory to create 229 jobs i...</td>\n      <td>a european tissue manufacturer will create 229...</td>\n      <td>2</td>\n    </tr>\n    <tr>\n      <th>739</th>\n      <td>provident plan to cap doorstep lending compens...</td>\n      <td>doorstep lender provident financial wants to l...</td>\n      <td>2</td>\n    </tr>\n    <tr>\n      <th>745</th>\n      <td>condor ferries reduces services to france</td>\n      <td>condor ferries has reduced its services to fra...</td>\n      <td>2</td>\n    </tr>\n    <tr>\n      <th>782</th>\n      <td>budget 2021: rishi sunak insists covid-recover...</td>\n      <td>chancellor rishi sunak has rejected claims his...</td>\n      <td>2</td>\n    </tr>\n    <tr>\n      <th>813</th>\n      <td>xiaomi to invest $10bn in electric vehicle race</td>\n      <td>chinese phone maker xiaomi is wading into elec...</td>\n      <td>2</td>\n    </tr>\n    <tr>\n      <th>843</th>\n      <td>covid in scotland: oil and gas sector in econo...</td>\n      <td>the uk oil and gas sector is in \"economic turm...</td>\n      <td>2</td>\n    </tr>\n    <tr>\n      <th>866</th>\n      <td>covid: delhi announces lockdown as india's cas...</td>\n      <td>india's capital, delhi, has announced a week-l...</td>\n      <td>2</td>\n    </tr>\n    <tr>\n      <th>967</th>\n      <td>janet yellen pledges greater us international ...</td>\n      <td>us treasury secretary janet yellen has signall...</td>\n      <td>2</td>\n    </tr>\n    <tr>\n      <th>968</th>\n      <td>carrefour in kenya: the true price of the disc...</td>\n      <td>from detergent to sausages, tissue paper and e...</td>\n      <td>2</td>\n    </tr>\n    <tr>\n      <th>991</th>\n      <td>tech firm igale creating 100 jobs in belfast</td>\n      <td>a london-based technology firm is creating 100...</td>\n      <td>2</td>\n    </tr>\n    <tr>\n      <th>1060</th>\n      <td>colonial pipeline boss confirms $4.4m ransom p...</td>\n      <td>colonial pipeline has confirmed it paid a $4.4...</td>\n      <td>2</td>\n    </tr>\n  </tbody>\n</table>\n</div>"
     },
     "metadata": {},
     "execution_count": 28
    }
   ],
   "source": [
    "data.loc[data.loc[:, \"cluster_id\"] == 2][:50]"
   ]
  },
  {
   "cell_type": "code",
   "execution_count": null,
   "metadata": {},
   "outputs": [],
   "source": []
  }
 ]
}