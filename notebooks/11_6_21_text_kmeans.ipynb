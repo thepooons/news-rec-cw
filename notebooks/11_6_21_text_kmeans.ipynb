{
 "metadata": {
  "language_info": {
   "codemirror_mode": {
    "name": "ipython",
    "version": 3
   },
   "file_extension": ".py",
   "mimetype": "text/x-python",
   "name": "python",
   "nbconvert_exporter": "python",
   "pygments_lexer": "ipython3",
   "version": "3.9.5"
  },
  "orig_nbformat": 2,
  "kernelspec": {
   "name": "python395jvsc74a57bd0dbaa56355543e5e694c750fbaa3f1bda27eea84b84693d9eb9d2f61641d8d05a",
   "display_name": "Python 3.9.5 64-bit ('news_env': conda)"
  }
 },
 "nbformat": 4,
 "nbformat_minor": 2,
 "cells": [
  {
   "source": [
    "# motive: implement kmeans for clustering similar article together"
   ],
   "cell_type": "markdown",
   "metadata": {}
  },
  {
   "cell_type": "code",
   "execution_count": 30,
   "metadata": {},
   "outputs": [],
   "source": [
    "import pandas as pd \n",
    "import numpy as np \n",
    "from  sklearn.cluster import KMeans\n",
    "from sklearn import metrics\n",
    "from scipy.spatial.distance import cdist\n",
    "from sklearn.model_selection import train_test_split\n",
    "\n",
    "import matplotlib.pyplot as plt \n",
    "plt.style.use(\"fivethirtyeight\")"
   ]
  },
  {
   "cell_type": "code",
   "execution_count": 19,
   "metadata": {},
   "outputs": [
    {
     "output_type": "stream",
     "name": "stdout",
     "text": [
      "(7900, 600)\n"
     ]
    },
    {
     "output_type": "execute_result",
     "data": {
      "text/plain": [
       "   heading_0  heading_1  heading_2  heading_3  heading_4  heading_5  \\\n",
       "0  -0.546659  -0.261546  -0.348887  -0.238572   0.458753  -0.179026   \n",
       "1  -0.374014   0.079800  -0.307247  -0.388248   0.658381  -0.388981   \n",
       "2   0.182761  -0.229877  -0.521939   0.445496   0.392754  -0.374589   \n",
       "3  -0.148774   0.765963  -0.061879   0.101832   0.199750   0.392823   \n",
       "\n",
       "   heading_6  heading_7  heading_8  heading_9  ...  content_290  content_291  \\\n",
       "0   0.239807   0.192216  -0.173710   0.316083  ...    -0.114826     0.193850   \n",
       "1   0.700401   0.058361   0.230552  -0.509046  ...    -0.068768    -0.062376   \n",
       "2   0.183456   0.574266   0.218962  -0.057935  ...    -0.082321     0.121098   \n",
       "3  -0.272694  -0.073629   0.138436  -0.154620  ...    -0.152583    -0.247430   \n",
       "\n",
       "   content_292  content_293  content_294  content_295  content_296  \\\n",
       "0     0.022486     0.117654     0.031892    -0.145199     0.073625   \n",
       "1     0.025082    -0.042379    -0.101772     0.114503     0.123833   \n",
       "2     0.011565    -0.157940     0.014343    -0.037302     0.032055   \n",
       "3     0.172976     0.074123     0.046913    -0.140058     0.092900   \n",
       "\n",
       "   content_297  content_298  content_299  \n",
       "0     0.077310     0.024157     0.009043  \n",
       "1     0.048265     0.000809    -0.040062  \n",
       "2     0.066054    -0.068794     0.051896  \n",
       "3     0.050058    -0.136006    -0.101694  \n",
       "\n",
       "[4 rows x 600 columns]"
      ],
      "text/html": "<div>\n<style scoped>\n    .dataframe tbody tr th:only-of-type {\n        vertical-align: middle;\n    }\n\n    .dataframe tbody tr th {\n        vertical-align: top;\n    }\n\n    .dataframe thead th {\n        text-align: right;\n    }\n</style>\n<table border=\"1\" class=\"dataframe\">\n  <thead>\n    <tr style=\"text-align: right;\">\n      <th></th>\n      <th>heading_0</th>\n      <th>heading_1</th>\n      <th>heading_2</th>\n      <th>heading_3</th>\n      <th>heading_4</th>\n      <th>heading_5</th>\n      <th>heading_6</th>\n      <th>heading_7</th>\n      <th>heading_8</th>\n      <th>heading_9</th>\n      <th>...</th>\n      <th>content_290</th>\n      <th>content_291</th>\n      <th>content_292</th>\n      <th>content_293</th>\n      <th>content_294</th>\n      <th>content_295</th>\n      <th>content_296</th>\n      <th>content_297</th>\n      <th>content_298</th>\n      <th>content_299</th>\n    </tr>\n  </thead>\n  <tbody>\n    <tr>\n      <th>0</th>\n      <td>-0.546659</td>\n      <td>-0.261546</td>\n      <td>-0.348887</td>\n      <td>-0.238572</td>\n      <td>0.458753</td>\n      <td>-0.179026</td>\n      <td>0.239807</td>\n      <td>0.192216</td>\n      <td>-0.173710</td>\n      <td>0.316083</td>\n      <td>...</td>\n      <td>-0.114826</td>\n      <td>0.193850</td>\n      <td>0.022486</td>\n      <td>0.117654</td>\n      <td>0.031892</td>\n      <td>-0.145199</td>\n      <td>0.073625</td>\n      <td>0.077310</td>\n      <td>0.024157</td>\n      <td>0.009043</td>\n    </tr>\n    <tr>\n      <th>1</th>\n      <td>-0.374014</td>\n      <td>0.079800</td>\n      <td>-0.307247</td>\n      <td>-0.388248</td>\n      <td>0.658381</td>\n      <td>-0.388981</td>\n      <td>0.700401</td>\n      <td>0.058361</td>\n      <td>0.230552</td>\n      <td>-0.509046</td>\n      <td>...</td>\n      <td>-0.068768</td>\n      <td>-0.062376</td>\n      <td>0.025082</td>\n      <td>-0.042379</td>\n      <td>-0.101772</td>\n      <td>0.114503</td>\n      <td>0.123833</td>\n      <td>0.048265</td>\n      <td>0.000809</td>\n      <td>-0.040062</td>\n    </tr>\n    <tr>\n      <th>2</th>\n      <td>0.182761</td>\n      <td>-0.229877</td>\n      <td>-0.521939</td>\n      <td>0.445496</td>\n      <td>0.392754</td>\n      <td>-0.374589</td>\n      <td>0.183456</td>\n      <td>0.574266</td>\n      <td>0.218962</td>\n      <td>-0.057935</td>\n      <td>...</td>\n      <td>-0.082321</td>\n      <td>0.121098</td>\n      <td>0.011565</td>\n      <td>-0.157940</td>\n      <td>0.014343</td>\n      <td>-0.037302</td>\n      <td>0.032055</td>\n      <td>0.066054</td>\n      <td>-0.068794</td>\n      <td>0.051896</td>\n    </tr>\n    <tr>\n      <th>3</th>\n      <td>-0.148774</td>\n      <td>0.765963</td>\n      <td>-0.061879</td>\n      <td>0.101832</td>\n      <td>0.199750</td>\n      <td>0.392823</td>\n      <td>-0.272694</td>\n      <td>-0.073629</td>\n      <td>0.138436</td>\n      <td>-0.154620</td>\n      <td>...</td>\n      <td>-0.152583</td>\n      <td>-0.247430</td>\n      <td>0.172976</td>\n      <td>0.074123</td>\n      <td>0.046913</td>\n      <td>-0.140058</td>\n      <td>0.092900</td>\n      <td>0.050058</td>\n      <td>-0.136006</td>\n      <td>-0.101694</td>\n    </tr>\n  </tbody>\n</table>\n<p>4 rows × 600 columns</p>\n</div>"
     },
     "metadata": {},
     "execution_count": 19
    }
   ],
   "source": [
    "vector_data = pd.read_csv('../data/vectorized/vectorized_spacy.csv')\n",
    "print(vector_data.shape)\n",
    "vector_data.loc[:3]"
   ]
  },
  {
   "cell_type": "code",
   "execution_count": 20,
   "metadata": {},
   "outputs": [
    {
     "output_type": "stream",
     "name": "stdout",
     "text": [
      "(7900, 12)\n"
     ]
    },
    {
     "output_type": "execute_result",
     "data": {
      "text/plain": [
       "                                             heading  \\\n",
       "0  domestic abuse: swansea man jailed for murderi...   \n",
       "1  covid-19: how india failed to prevent a deadly...   \n",
       "2  northampton blaze 'cruel blow', say firm's owners   \n",
       "3  einstein handwritten letter with equation fetc...   \n",
       "\n",
       "                                             content  heading_polarity  \\\n",
       "0  a man has been jailed for life for battering h...              0.00   \n",
       "1  in early march, india's health minister harsh ...             -0.25   \n",
       "2  two friends who spent 10 years building up the...             -0.60   \n",
       "3  a letter written by albert einstein containing...              0.00   \n",
       "\n",
       "   content_polarity  number_of_words  number_of_sentences  \\\n",
       "0         -0.081640              719                   28   \n",
       "1          0.035661             1199                   63   \n",
       "2         -0.199242              306                   12   \n",
       "3          0.165000              236                   11   \n",
       "\n",
       "   average_word_length  number_of_characters        asl       asw  \\\n",
       "0             4.742698                  4128  25.678571  1.539638   \n",
       "1             5.106756                  7321  19.031746  1.733945   \n",
       "2             5.032680                  1845  25.500000  1.604575   \n",
       "3             5.254237                  1475  21.454545  1.750000   \n",
       "\n",
       "   flesch_ease_test_score  flesch_kincaid_grade_score  \n",
       "0               50.517842                   12.592376  \n",
       "1               40.826035                   12.292931  \n",
       "2               45.205441                   13.288987  \n",
       "3               37.008636                   13.427273  "
      ],
      "text/html": "<div>\n<style scoped>\n    .dataframe tbody tr th:only-of-type {\n        vertical-align: middle;\n    }\n\n    .dataframe tbody tr th {\n        vertical-align: top;\n    }\n\n    .dataframe thead th {\n        text-align: right;\n    }\n</style>\n<table border=\"1\" class=\"dataframe\">\n  <thead>\n    <tr style=\"text-align: right;\">\n      <th></th>\n      <th>heading</th>\n      <th>content</th>\n      <th>heading_polarity</th>\n      <th>content_polarity</th>\n      <th>number_of_words</th>\n      <th>number_of_sentences</th>\n      <th>average_word_length</th>\n      <th>number_of_characters</th>\n      <th>asl</th>\n      <th>asw</th>\n      <th>flesch_ease_test_score</th>\n      <th>flesch_kincaid_grade_score</th>\n    </tr>\n  </thead>\n  <tbody>\n    <tr>\n      <th>0</th>\n      <td>domestic abuse: swansea man jailed for murderi...</td>\n      <td>a man has been jailed for life for battering h...</td>\n      <td>0.00</td>\n      <td>-0.081640</td>\n      <td>719</td>\n      <td>28</td>\n      <td>4.742698</td>\n      <td>4128</td>\n      <td>25.678571</td>\n      <td>1.539638</td>\n      <td>50.517842</td>\n      <td>12.592376</td>\n    </tr>\n    <tr>\n      <th>1</th>\n      <td>covid-19: how india failed to prevent a deadly...</td>\n      <td>in early march, india's health minister harsh ...</td>\n      <td>-0.25</td>\n      <td>0.035661</td>\n      <td>1199</td>\n      <td>63</td>\n      <td>5.106756</td>\n      <td>7321</td>\n      <td>19.031746</td>\n      <td>1.733945</td>\n      <td>40.826035</td>\n      <td>12.292931</td>\n    </tr>\n    <tr>\n      <th>2</th>\n      <td>northampton blaze 'cruel blow', say firm's owners</td>\n      <td>two friends who spent 10 years building up the...</td>\n      <td>-0.60</td>\n      <td>-0.199242</td>\n      <td>306</td>\n      <td>12</td>\n      <td>5.032680</td>\n      <td>1845</td>\n      <td>25.500000</td>\n      <td>1.604575</td>\n      <td>45.205441</td>\n      <td>13.288987</td>\n    </tr>\n    <tr>\n      <th>3</th>\n      <td>einstein handwritten letter with equation fetc...</td>\n      <td>a letter written by albert einstein containing...</td>\n      <td>0.00</td>\n      <td>0.165000</td>\n      <td>236</td>\n      <td>11</td>\n      <td>5.254237</td>\n      <td>1475</td>\n      <td>21.454545</td>\n      <td>1.750000</td>\n      <td>37.008636</td>\n      <td>13.427273</td>\n    </tr>\n  </tbody>\n</table>\n</div>"
     },
     "metadata": {},
     "execution_count": 20
    }
   ],
   "source": [
    "data = pd.read_csv(\"../data/bbc_toi_yahoo_stats_feats.csv\")\n",
    "print(data.shape)\n",
    "data.loc[:3]"
   ]
  },
  {
   "cell_type": "code",
   "execution_count": 29,
   "metadata": {},
   "outputs": [],
   "source": [
    "train_data, test_data = train_test_split(vector_data, test_size=0.2)\n",
    "distortions = []\n",
    "inertias = []\n",
    "mapping1 = {}\n",
    "mapping2 = {}\n",
    "K = [5, 20, 100, 200]\n",
    "for k in K:\n",
    "    # Building and fitting the model\n",
    "    kmeanModel = KMeans(\n",
    "        n_clusters=k,\n",
    "        init='k-means++',\n",
    "        n_init=10,\n",
    "        max_iter=300,\n",
    "        tol=0.0001,\n",
    "        precompute_distances='deprecated',\n",
    "        verbose=0,\n",
    "        random_state=None,\n",
    "        copy_x=True,\n",
    "        n_jobs='deprecated',\n",
    "        algorithm='auto'\n",
    "    )\n",
    "    kmeanModel.fit(train_data)\n",
    "\n",
    "    distortions.append(sum(np.min(cdist(train_data, kmeanModel.cluster_centers_,\n",
    "                                        'euclidean'), axis=1)) / train_data.shape[0])\n",
    "    inertias.append(kmeanModel.inertia_)\n",
    "\n",
    "    mapping1[k] = sum(np.min(cdist(train_data, kmeanModel.cluster_centers_,\n",
    "                                    'euclidean'), axis=1)) / train_data.shape[0]\n",
    "    mapping2[k] = kmeanModel.inertia_"
   ]
  },
  {
   "cell_type": "code",
   "execution_count": 32,
   "metadata": {},
   "outputs": [
    {
     "output_type": "execute_result",
     "data": {
      "text/plain": [
       "{1: 217821.7535513517,\n",
       " 2: 208778.5351434833,\n",
       " 3: 205728.48737083125,\n",
       " 4: 203693.89573828256,\n",
       " 5: 201870.63462188494,\n",
       " 6: 200593.45489939494,\n",
       " 7: 199661.3516303964,\n",
       " 8: 198689.16353815186,\n",
       " 9: 198098.28329165245}"
      ]
     },
     "metadata": {},
     "execution_count": 32
    }
   ],
   "source": [
    "mapping2"
   ]
  },
  {
   "cell_type": "code",
   "execution_count": 22,
   "metadata": {},
   "outputs": [],
   "source": [
    "data.loc[:, \"cluster_id\"] = km.labels_\r\n",
    "data.loc[data.loc[:, \"cluster_id\"] == 5]"
   ]
  }
 ]
}