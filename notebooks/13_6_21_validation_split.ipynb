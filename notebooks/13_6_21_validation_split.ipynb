{
 "metadata": {
  "language_info": {
   "codemirror_mode": {
    "name": "ipython",
    "version": 3
   },
   "file_extension": ".py",
   "mimetype": "text/x-python",
   "name": "python",
   "nbconvert_exporter": "python",
   "pygments_lexer": "ipython3",
   "version": "3.9.5"
  },
  "orig_nbformat": 4,
  "kernelspec": {
   "name": "python3",
   "display_name": "Python 3.9.5 64-bit ('news_env': conda)"
  },
  "interpreter": {
   "hash": "dbaa56355543e5e694c750fbaa3f1bda27eea84b84693d9eb9d2f61641d8d05a"
  }
 },
 "nbformat": 4,
 "nbformat_minor": 2,
 "cells": [
  {
   "source": [
    "# motive: make data preprocessing class to split clickstream data into train, test data"
   ],
   "cell_type": "markdown",
   "metadata": {}
  },
  {
   "cell_type": "code",
   "execution_count": 1,
   "metadata": {},
   "outputs": [],
   "source": [
    "import pandas as pd \n",
    "import numpy as np "
   ]
  },
  {
   "cell_type": "code",
   "execution_count": 2,
   "metadata": {},
   "outputs": [],
   "source": [
    "class ValidationSplit(object):\n",
    "    \"\"\"validation split class\"\"\"\n",
    "    def __init__(self, clickstream_data_path):\n",
    "        self.data = pd.read_csv(clickstream_data_path)\n",
    "\n",
    "    def train_test_split(self, test_fraction):\n",
    "        \"\"\"does:\n",
    "            1. split the data into train and test data\n",
    "            2. return train and test data\n",
    "        \"\"\"\n",
    "        train_data = pd.DataFrame(columns=self.data.columns)\n",
    "        test_data  = pd.DataFrame(columns=self.data.columns)\n",
    "\n",
    "        for user_data in self.data.groupby(\"user_id\"):\n",
    "            num_sessions = len(user_data[1].groupby(\"session_id\"))\n",
    "            train_test_split_index = int(num_sessions * (1 - test_fraction)) # 🧠\n",
    "            for session_data in user_data[1].groupby(\"session_id\"):\n",
    "                session_id = session_data[0]\n",
    "                if session_id < train_test_split_index:\n",
    "                    train_data = pd.concat([train_data, session_data[1]], axis=0)\n",
    "                else:\n",
    "                    test_data = pd.concat([test_data, session_data[1]], axis=0)\n",
    "        return train_data, test_data"
   ]
  },
  {
   "cell_type": "code",
   "execution_count": 3,
   "metadata": {},
   "outputs": [
    {
     "output_type": "stream",
     "name": "stdout",
     "text": [
      "Wall time: 41.2 s\n"
     ]
    }
   ],
   "source": [
    "%%time\n",
    "dp = ValidationSplit(\n",
    "    clickstream_data_path=\"../data/ClickDataPhaseI.csv\"\n",
    ")\n",
    "train_data, test_data = dp.train_test_split(test_fraction=0.2)"
   ]
  },
  {
   "cell_type": "code",
   "execution_count": 4,
   "metadata": {},
   "outputs": [
    {
     "output_type": "stream",
     "name": "stdout",
     "text": [
      "(66020, 6)\n(34220, 6)\n"
     ]
    }
   ],
   "source": [
    "print(train_data.shape)\n",
    "print(test_data.shape)"
   ]
  },
  {
   "cell_type": "code",
   "execution_count": 5,
   "metadata": {},
   "outputs": [],
   "source": [
    "train_data.to_csv(\"../data/generated/train_clickstream.csv\", index=False)\n",
    "test_data.to_csv(\"../data/generated/test_clickstream.csv\", index=False)"
   ]
  },
  {
   "cell_type": "code",
   "execution_count": 6,
   "metadata": {},
   "outputs": [
    {
     "output_type": "execute_result",
     "data": {
      "text/plain": [
       "       user_id session_id article_id article_rank click time_spent\n",
       "50           1          6       5814            1     0          0\n",
       "51           1          6       4007            2     1        151\n",
       "52           1          6       5216            3     1        107\n",
       "53           1          6       3097            4     0          0\n",
       "54           1          6       4351            5     0          0\n",
       "...        ...        ...        ...          ...   ...        ...\n",
       "100235    1000         10       3933            6     0          0\n",
       "100236    1000         10       7167            7     0          0\n",
       "100237    1000         10       5846            8     0          0\n",
       "100238    1000         10       5275            9     0          0\n",
       "100239    1000         10       4556           10     0          0\n",
       "\n",
       "[34220 rows x 6 columns]"
      ],
      "text/html": "<div>\n<style scoped>\n    .dataframe tbody tr th:only-of-type {\n        vertical-align: middle;\n    }\n\n    .dataframe tbody tr th {\n        vertical-align: top;\n    }\n\n    .dataframe thead th {\n        text-align: right;\n    }\n</style>\n<table border=\"1\" class=\"dataframe\">\n  <thead>\n    <tr style=\"text-align: right;\">\n      <th></th>\n      <th>user_id</th>\n      <th>session_id</th>\n      <th>article_id</th>\n      <th>article_rank</th>\n      <th>click</th>\n      <th>time_spent</th>\n    </tr>\n  </thead>\n  <tbody>\n    <tr>\n      <th>50</th>\n      <td>1</td>\n      <td>6</td>\n      <td>5814</td>\n      <td>1</td>\n      <td>0</td>\n      <td>0</td>\n    </tr>\n    <tr>\n      <th>51</th>\n      <td>1</td>\n      <td>6</td>\n      <td>4007</td>\n      <td>2</td>\n      <td>1</td>\n      <td>151</td>\n    </tr>\n    <tr>\n      <th>52</th>\n      <td>1</td>\n      <td>6</td>\n      <td>5216</td>\n      <td>3</td>\n      <td>1</td>\n      <td>107</td>\n    </tr>\n    <tr>\n      <th>53</th>\n      <td>1</td>\n      <td>6</td>\n      <td>3097</td>\n      <td>4</td>\n      <td>0</td>\n      <td>0</td>\n    </tr>\n    <tr>\n      <th>54</th>\n      <td>1</td>\n      <td>6</td>\n      <td>4351</td>\n      <td>5</td>\n      <td>0</td>\n      <td>0</td>\n    </tr>\n    <tr>\n      <th>...</th>\n      <td>...</td>\n      <td>...</td>\n      <td>...</td>\n      <td>...</td>\n      <td>...</td>\n      <td>...</td>\n    </tr>\n    <tr>\n      <th>100235</th>\n      <td>1000</td>\n      <td>10</td>\n      <td>3933</td>\n      <td>6</td>\n      <td>0</td>\n      <td>0</td>\n    </tr>\n    <tr>\n      <th>100236</th>\n      <td>1000</td>\n      <td>10</td>\n      <td>7167</td>\n      <td>7</td>\n      <td>0</td>\n      <td>0</td>\n    </tr>\n    <tr>\n      <th>100237</th>\n      <td>1000</td>\n      <td>10</td>\n      <td>5846</td>\n      <td>8</td>\n      <td>0</td>\n      <td>0</td>\n    </tr>\n    <tr>\n      <th>100238</th>\n      <td>1000</td>\n      <td>10</td>\n      <td>5275</td>\n      <td>9</td>\n      <td>0</td>\n      <td>0</td>\n    </tr>\n    <tr>\n      <th>100239</th>\n      <td>1000</td>\n      <td>10</td>\n      <td>4556</td>\n      <td>10</td>\n      <td>0</td>\n      <td>0</td>\n    </tr>\n  </tbody>\n</table>\n<p>34220 rows × 6 columns</p>\n</div>"
     },
     "metadata": {},
     "execution_count": 6
    }
   ],
   "source": [
    "test_data"
   ]
  }
 ]
}