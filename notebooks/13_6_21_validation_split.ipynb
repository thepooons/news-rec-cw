{
 "metadata": {
  "language_info": {
   "codemirror_mode": {
    "name": "ipython",
    "version": 3
   },
   "file_extension": ".py",
   "mimetype": "text/x-python",
   "name": "python",
   "nbconvert_exporter": "python",
   "pygments_lexer": "ipython3",
   "version": "3.9.5"
  },
  "orig_nbformat": 4,
  "kernelspec": {
   "name": "python3",
   "display_name": "Python 3.9.5 64-bit ('news_env': conda)"
  },
  "interpreter": {
   "hash": "dbaa56355543e5e694c750fbaa3f1bda27eea84b84693d9eb9d2f61641d8d05a"
  }
 },
 "nbformat": 4,
 "nbformat_minor": 2,
 "cells": [
  {
   "source": [
    "# motive: make data preprocessing class to split clickstream data into train, test data"
   ],
   "cell_type": "markdown",
   "metadata": {}
  },
  {
   "cell_type": "code",
   "execution_count": 1,
   "metadata": {},
   "outputs": [],
   "source": [
    "import pandas as pd \n",
    "import numpy as np "
   ]
  },
  {
   "cell_type": "code",
   "execution_count": 2,
   "metadata": {},
   "outputs": [],
   "source": [
    "class ValidationSplit(object):\n",
    "    \"\"\"validation split class\"\"\"\n",
    "    def __init__(self, clickstream_data_path):\n",
    "        self.data = pd.read_csv(clickstream_data_path)\n",
    "\n",
    "    def train_test_split(self, test_fraction):\n",
    "        \"\"\"does:\n",
    "            1. split the data into train and test data\n",
    "            2. return train and test data\n",
    "        \"\"\"\n",
    "        train_data = pd.DataFrame(columns=self.data.columns)\n",
    "        test_data  = pd.DataFrame(columns=self.data.columns)\n",
    "\n",
    "        for user_data in self.data.groupby(\"user_id\"):\n",
    "            num_sessions = len(user_data[1].groupby(\"session_id\"))\n",
    "            train_test_split_index = int(num_sessions * (1 - test_fraction)) # 🧠\n",
    "            for session_data in user_data[1].groupby(\"session_id\"):\n",
    "                session_id = session_data[0]\n",
    "                if session_id < train_test_split_index:\n",
    "                    train_data = pd.concat([train_data, session_data[1]], axis=0)\n",
    "                else:\n",
    "                    test_data = pd.concat([test_data, session_data[1]], axis=0)\n",
    "        return train_data, test_data"
   ]
  },
  {
   "cell_type": "code",
   "execution_count": 3,
   "metadata": {},
   "outputs": [
    {
     "output_type": "stream",
     "name": "stdout",
     "text": [
      "Wall time: 32.8 s\n"
     ]
    }
   ],
   "source": [
    "%%time\n",
    "dp = ValidationSplit(\n",
    "    clickstream_data_path=\"../data/ClickDataPhaseI.csv\"\n",
    ")\n",
    "train_data, test_data = dp.train_test_split(test_fraction=0.2)"
   ]
  },
  {
   "cell_type": "code",
   "execution_count": 4,
   "metadata": {},
   "outputs": [
    {
     "output_type": "stream",
     "name": "stdout",
     "text": [
      "(66020, 6)\n(34220, 6)\n"
     ]
    }
   ],
   "source": [
    "print(train_data.shape)\n",
    "print(test_data.shape)"
   ]
  }
 ]
}