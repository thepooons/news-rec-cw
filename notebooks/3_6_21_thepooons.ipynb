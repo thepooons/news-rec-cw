{
 "metadata": {
  "language_info": {
   "codemirror_mode": {
    "name": "ipython",
    "version": 3
   },
   "file_extension": ".py",
   "mimetype": "text/x-python",
   "name": "python",
   "nbconvert_exporter": "python",
   "pygments_lexer": "ipython3",
   "version": "3.9.5"
  },
  "orig_nbformat": 2,
  "kernelspec": {
   "name": "python395jvsc74a57bd0dbaa56355543e5e694c750fbaa3f1bda27eea84b84693d9eb9d2f61641d8d05a",
   "display_name": "Python 3.9.5 64-bit ('news_env': conda)"
  }
 },
 "nbformat": 4,
 "nbformat_minor": 2,
 "cells": [
  {
   "source": [
    "# motive: scrap data from curated list of news websites\n",
    "- curated list of websites:\n",
    "    - "
   ],
   "cell_type": "markdown",
   "metadata": {}
  },
  {
   "cell_type": "code",
   "execution_count": 83,
   "metadata": {},
   "outputs": [],
   "source": [
    "import pandas as pd\n",
    "import numpy as np\n",
    "from selenium import webdriver\n",
    "from bs4 import BeautifulSoup\n",
    "import datetime"
   ]
  },
  {
   "source": [
    "## steps for navigating, and scraping data\n",
    "1. find webpage with links to articles or article previews\n",
    "2. add all the article links found on the page to a `article_hrefs_this_page` list\n",
    "3. for each link in `article_hrefs_this_page`:\n",
    "    * scrap:\n",
    "        - title  \n",
    "        - URL  \n",
    "        - author  \n",
    "        - raw_text  \n",
    "        - publish_date  \n",
    "        - images  \n",
    "        - tags"
   ],
   "cell_type": "markdown",
   "metadata": {}
  },
  {
   "cell_type": "code",
   "execution_count": 71,
   "metadata": {},
   "outputs": [],
   "source": [
    "def pprint(html):\n",
    "    bs = BeautifulSoup(html)\n",
    "    print(bs.prettify())"
   ]
  },
  {
   "cell_type": "code",
   "execution_count": 72,
   "metadata": {},
   "outputs": [],
   "source": [
    "def make_disallowed(disallow_string, homepage):\n",
    "    disallowed_hrefs = [homepage + str(href[len(\"disallow: \"): ]) for href in disallow_string.strip().split('\\n')]\n",
    "    return disallowed_hrefs"
   ]
  },
  {
   "cell_type": "code",
   "execution_count": 73,
   "metadata": {},
   "outputs": [
    {
     "output_type": "stream",
     "name": "stdout",
     "text": [
      "['https://www.bbc.com/bitesize/search$', 'https://www.bbc.com/bitesize/search/', 'https://www.bbc.com/bitesize/search?']\n"
     ]
    }
   ],
   "source": [
    "bbc_disallow_string = \"\"\"\n",
    "Disallow: /bitesize/search$\n",
    "Disallow: /bitesize/search/\n",
    "Disallow: /bitesize/search?\n",
    "Disallow: /cbbc/search/\n",
    "Disallow: /cbbc/search$\n",
    "Disallow: /cbbc/search?\n",
    "Disallow: /cbeebies/search/\n",
    "Disallow: /cbeebies/search$\n",
    "Disallow: /cbeebies/search?\n",
    "Disallow: /chwilio/\n",
    "Disallow: /chwilio$\n",
    "Disallow: /chwilio?\n",
    "Disallow: /education/blocks$\n",
    "Disallow: /education/blocks/\n",
    "Disallow: /newsround\n",
    "Disallow: /search/\n",
    "Disallow: /search$\n",
    "Disallow: /search?\n",
    "Disallow: /sport/videos/*\n",
    "Disallow: /food/favourites\n",
    "Disallow: /food/search*?*\n",
    "Disallow: /food/recipes/search*?*\n",
    "Disallow: /education/my$\n",
    "Disallow: /education/my/\n",
    "Disallow: /bitesize/my$\n",
    "Disallow: /bitesize/my/\n",
    "Disallow: /food/recipes/*/shopping-list\n",
    "Disallow: /food/menus/*/shopping-list\n",
    "Disallow: /news/0\n",
    "Disallow: /ugc$\n",
    "Disallow: /ugc/\n",
    "Disallow: /ugcsupport$\n",
    "Disallow: /ugcsupport/\n",
    "Disallow: /userinfo/\n",
    "Disallow: /userinfo\n",
    "Disallow: /u5llnop$\n",
    "Disallow: /u5llnop/\n",
    "Disallow: /sounds/search$\n",
    "Disallow: /sounds/search/\n",
    "Disallow: /sounds/search?\n",
    "Disallow: /ws/includes\n",
    "Disallow: /radio/imda\n",
    "\"\"\"\n",
    "bbc_disallowed = make_disallowed(disallow_string=bbc_disallow_string, homepage=\"https://www.bbc.com\")\n",
    "print(bbc_disallowed[:3])"
   ]
  },
  {
   "cell_type": "code",
   "execution_count": 74,
   "metadata": {},
   "outputs": [
    {
     "output_type": "stream",
     "name": "stdout",
     "text": [
      "scraping from: Home - BBC News\n",
      "https://www.bbc.com/news\n",
      "https://www.bbc.com/news/coronavirus\n",
      "https://www.bbc.com/news/av/10462520\n",
      "https://www.bbc.com/news/world\n",
      "https://www.bbc.com/news/world/asia\n",
      "https://www.bbc.com/news/uk\n",
      "https://www.bbc.com/news/business\n",
      "https://www.bbc.com/news/technology\n",
      "https://www.bbc.com/news/science_and_environment\n",
      "https://www.bbc.com/news/stories\n",
      "https://www.bbc.com/news/entertainment_and_arts\n",
      "https://www.bbc.com/news/health\n"
     ]
    }
   ],
   "source": [
    "path_to_webdriver = \"../chromedriver.exe\"\n",
    "driver = webdriver.Chrome(path_to_webdriver)\n",
    "homepage = \"https://www.bbc.com/news\"\n",
    "driver.get(homepage)\n",
    "print(f\"scraping from: {driver.title}\")\n",
    "\n",
    "# 0. find the categories in the navigation bar\n",
    "nav_bar = driver.find_element_by_xpath(\"//ul[@class='gs-o-list-ui--top-no-border nw-c-nav__wide-sections']\")\n",
    "preview_hrefs_this_page = nav_bar.find_elements_by_class_name(\"nw-o-link\")\n",
    "preview_hrefs = [tag.get_attribute(\"href\") for tag in preview_hrefs_this_page]\n",
    "for href in preview_hrefs:\n",
    "    if href not in bbc_disallowed:\n",
    "        print(href)"
   ]
  },
  {
   "cell_type": "code",
   "execution_count": 75,
   "metadata": {},
   "outputs": [
    {
     "output_type": "stream",
     "name": "stdout",
     "text": [
      "['https://www.bbc.com/news/world-asia-china-57314397', 'https://www.bbc.com/news/world-australia-57353654']\n",
      "['https://www.bbc.com/news/health-57358446', 'https://www.bbc.com/news/uk-57353048']\n"
     ]
    }
   ],
   "source": [
    "# scraping for one link only but loop this 👇\n",
    "# 1. find webpage with links to articles or article previews\n",
    "for preview_href in preview_hrefs[4:6]:\n",
    "    page_w_hrefs = preview_href\n",
    "    driver.get(page_w_hrefs)\n",
    "\n",
    "    href_elements = driver.find_elements_by_xpath(\"//a[@class='gs-c-promo-heading gs-o-faux-block-link__overlay-link gel-pica-bold nw-o-link-split__anchor']\")\n",
    "\n",
    "    # 2. add all the article links found on the page to a `article_hrefs_this_page` list\n",
    "    article_hrefs = [tag.get_attribute(\"href\") for tag in href_elements]\n",
    "    print(article_hrefs[:2])"
   ]
  },
  {
   "cell_type": "code",
   "execution_count": 90,
   "metadata": {},
   "outputs": [
    {
     "output_type": "stream",
     "name": "stdout",
     "text": [
      "------------\n",
      "url: https://www.bbc.com/news/health-57358446\n",
      "title: UK approves Pfizer jab for 12 to 15-year-olds\n",
      "publish_datetime: 2021-06-04T12:09:08.000Z\n",
      "raw_text: The UK regulator has approved the use of\n",
      "------------\n",
      "url: https://www.bbc.com/news/uk-57353048\n",
      "title: Covid-19: Portugal queries amber status as UK tightens rules\n",
      "publish_datetime: 2021-06-04T12:13:12.000Z\n",
      "raw_text: Portugal has questioned the UK's decisio\n"
     ]
    }
   ],
   "source": [
    "# 3. for each link in `article_hrefs_this_page`:\n",
    "    # * scrap:\n",
    "        # - title  \n",
    "        # - URL  \n",
    "        # - author  \n",
    "        # - raw_text  \n",
    "        # - publish_date  \n",
    "        # - images  \n",
    "        # - tags\n",
    "news_data = pd.DataFrame(columns=[\"url\", \"title\", \"raw_text\", \"publish_datetime\"])\n",
    "for article_url in article_hrefs[:2]:\n",
    "    driver.get(article_url)\n",
    "    title_element = driver.find_element_by_xpath(\"//h1[@class='ssrcss-1pl2zfy-StyledHeading e1fj1fc10']\")\n",
    "    title = title_element.text\n",
    "    raw_text_elements = driver.find_elements_by_xpath(\"//div[@class='ssrcss-18snukc-RichTextContainer e5tfeyi1']\")\n",
    "    raw_text = \"\"\n",
    "    for raw_text_element in raw_text_elements:\n",
    "        raw_text += (\" \" + raw_text_element.text)\n",
    "    raw_text = raw_text.strip()\n",
    "    datetime_element = driver.find_element_by_xpath(\"//time[@data-testid='timestamp']\")\n",
    "    publish_datetime = str(datetime_element.get_attribute(\"datetime\"))\n",
    "\n",
    "    this_article_data = pd.DataFrame(data={\n",
    "        \"url\": [article_url],\n",
    "        \"title\": [title],\n",
    "        \"raw_text\": [raw_text],\n",
    "        \"publish_datetime\": [publish_datetime], \n",
    "    })\n",
    "    news_data = news_data.append(this_article_data, ignore_index=True)\n",
    "\n",
    "    print(\"-\" * 12)\n",
    "    print(\"url:\", article_url)\n",
    "    print(\"title:\", title)\n",
    "    print(\"publish_datetime:\", publish_datetime)\n",
    "    print(\"raw_text:\", raw_text[:40])"
   ]
  },
  {
   "cell_type": "code",
   "execution_count": 91,
   "metadata": {},
   "outputs": [
    {
     "output_type": "execute_result",
     "data": {
      "text/plain": [
       "                                        url  \\\n",
       "0  https://www.bbc.com/news/health-57358446   \n",
       "1      https://www.bbc.com/news/uk-57353048   \n",
       "\n",
       "                                               title  \\\n",
       "0      UK approves Pfizer jab for 12 to 15-year-olds   \n",
       "1  Covid-19: Portugal queries amber status as UK ...   \n",
       "\n",
       "                                            raw_text          publish_datetime  \n",
       "0  The UK regulator has approved the use of the P...  2021-06-04T12:09:08.000Z  \n",
       "1  Portugal has questioned the UK's decision to r...  2021-06-04T12:13:12.000Z  "
      ],
      "text/html": "<div>\n<style scoped>\n    .dataframe tbody tr th:only-of-type {\n        vertical-align: middle;\n    }\n\n    .dataframe tbody tr th {\n        vertical-align: top;\n    }\n\n    .dataframe thead th {\n        text-align: right;\n    }\n</style>\n<table border=\"1\" class=\"dataframe\">\n  <thead>\n    <tr style=\"text-align: right;\">\n      <th></th>\n      <th>url</th>\n      <th>title</th>\n      <th>raw_text</th>\n      <th>publish_datetime</th>\n    </tr>\n  </thead>\n  <tbody>\n    <tr>\n      <th>0</th>\n      <td>https://www.bbc.com/news/health-57358446</td>\n      <td>UK approves Pfizer jab for 12 to 15-year-olds</td>\n      <td>The UK regulator has approved the use of the P...</td>\n      <td>2021-06-04T12:09:08.000Z</td>\n    </tr>\n    <tr>\n      <th>1</th>\n      <td>https://www.bbc.com/news/uk-57353048</td>\n      <td>Covid-19: Portugal queries amber status as UK ...</td>\n      <td>Portugal has questioned the UK's decision to r...</td>\n      <td>2021-06-04T12:13:12.000Z</td>\n    </tr>\n  </tbody>\n</table>\n</div>"
     },
     "metadata": {},
     "execution_count": 91
    }
   ],
   "source": [
    "news_data"
   ]
  },
  {
   "cell_type": "code",
   "execution_count": null,
   "metadata": {},
   "outputs": [],
   "source": []
  }
 ]
}