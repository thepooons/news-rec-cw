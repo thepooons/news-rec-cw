{
 "metadata": {
  "language_info": {
   "codemirror_mode": {
    "name": "ipython",
    "version": 3
   },
   "file_extension": ".py",
   "mimetype": "text/x-python",
   "name": "python",
   "nbconvert_exporter": "python",
   "pygments_lexer": "ipython3",
   "version": "3.9.5"
  },
  "orig_nbformat": 2,
  "kernelspec": {
   "name": "python395jvsc74a57bd0dbaa56355543e5e694c750fbaa3f1bda27eea84b84693d9eb9d2f61641d8d05a",
   "display_name": "Python 3.9.5 64-bit ('news_env': conda)"
  }
 },
 "nbformat": 4,
 "nbformat_minor": 2,
 "cells": [
  {
   "source": [
    "# motive: scrap data from curated list of news websites\n",
    "- curated list of websites:\n",
    "    - "
   ],
   "cell_type": "markdown",
   "metadata": {}
  },
  {
   "cell_type": "code",
   "execution_count": 36,
   "metadata": {},
   "outputs": [],
   "source": [
    "import pandas as pd\n",
    "import numpy as np\n",
    "from selenium import webdriver\n",
    "from bs4 import BeautifulSoup"
   ]
  },
  {
   "source": [
    "## steps for navigating, and scraping data\n",
    "1. find webpage with links to articles or article previews\n",
    "2. add all the article links found on the page to a `article_hrefs_this_page` list\n",
    "3. for each link in `article_hrefs_this_page`:\n",
    "    * scrap:\n",
    "        - title  \n",
    "        - URL  \n",
    "        - author  \n",
    "        - raw_text  \n",
    "        - publish_date  \n",
    "        - images  \n",
    "        - tags"
   ],
   "cell_type": "markdown",
   "metadata": {}
  },
  {
   "cell_type": "code",
   "execution_count": 37,
   "metadata": {},
   "outputs": [],
   "source": [
    "def pprint(html):\n",
    "    bs = BeautifulSoup(html)\n",
    "    print(bs.prettify())"
   ]
  },
  {
   "cell_type": "code",
   "execution_count": 38,
   "metadata": {},
   "outputs": [],
   "source": [
    "def make_disallowed(disallow_string, homepage):\n",
    "    disallowed_hrefs = [homepage + str(href[len(\"disallow: \"): ]) for href in disallow_string.strip().split('\\n')]\n",
    "    return disallowed_hrefs"
   ]
  },
  {
   "cell_type": "code",
   "execution_count": 39,
   "metadata": {},
   "outputs": [
    {
     "output_type": "stream",
     "name": "stdout",
     "text": [
      "['https://www.bbc.com/bitesize/search$', 'https://www.bbc.com/bitesize/search/', 'https://www.bbc.com/bitesize/search?']\n"
     ]
    }
   ],
   "source": [
    "bbc_disallow_string = \"\"\"\n",
    "Disallow: /bitesize/search$\n",
    "Disallow: /bitesize/search/\n",
    "Disallow: /bitesize/search?\n",
    "Disallow: /cbbc/search/\n",
    "Disallow: /cbbc/search$\n",
    "Disallow: /cbbc/search?\n",
    "Disallow: /cbeebies/search/\n",
    "Disallow: /cbeebies/search$\n",
    "Disallow: /cbeebies/search?\n",
    "Disallow: /chwilio/\n",
    "Disallow: /chwilio$\n",
    "Disallow: /chwilio?\n",
    "Disallow: /education/blocks$\n",
    "Disallow: /education/blocks/\n",
    "Disallow: /newsround\n",
    "Disallow: /search/\n",
    "Disallow: /search$\n",
    "Disallow: /search?\n",
    "Disallow: /sport/videos/*\n",
    "Disallow: /food/favourites\n",
    "Disallow: /food/search*?*\n",
    "Disallow: /food/recipes/search*?*\n",
    "Disallow: /education/my$\n",
    "Disallow: /education/my/\n",
    "Disallow: /bitesize/my$\n",
    "Disallow: /bitesize/my/\n",
    "Disallow: /food/recipes/*/shopping-list\n",
    "Disallow: /food/menus/*/shopping-list\n",
    "Disallow: /news/0\n",
    "Disallow: /ugc$\n",
    "Disallow: /ugc/\n",
    "Disallow: /ugcsupport$\n",
    "Disallow: /ugcsupport/\n",
    "Disallow: /userinfo/\n",
    "Disallow: /userinfo\n",
    "Disallow: /u5llnop$\n",
    "Disallow: /u5llnop/\n",
    "Disallow: /sounds/search$\n",
    "Disallow: /sounds/search/\n",
    "Disallow: /sounds/search?\n",
    "Disallow: /ws/includes\n",
    "Disallow: /radio/imda\n",
    "\"\"\"\n",
    "bbc_disallowed = make_disallowed(disallow_string=bbc_disallow_string, homepage=\"https://www.bbc.com\")\n",
    "print(bbc_disallowed[:3])"
   ]
  },
  {
   "cell_type": "code",
   "execution_count": 40,
   "metadata": {},
   "outputs": [
    {
     "output_type": "stream",
     "name": "stdout",
     "text": [
      "scraping from: Home - BBC News\n",
      "https://www.bbc.com/news\n",
      "https://www.bbc.com/news/coronavirus\n",
      "https://www.bbc.com/news/av/10462520\n",
      "https://www.bbc.com/news/world\n",
      "https://www.bbc.com/news/world/asia\n",
      "https://www.bbc.com/news/uk\n",
      "https://www.bbc.com/news/business\n",
      "https://www.bbc.com/news/technology\n",
      "https://www.bbc.com/news/science_and_environment\n",
      "https://www.bbc.com/news/stories\n",
      "https://www.bbc.com/news/entertainment_and_arts\n",
      "https://www.bbc.com/news/health\n"
     ]
    }
   ],
   "source": [
    "path_to_webdriver = \"../chromedriver.exe\"\n",
    "driver = webdriver.Chrome(path_to_webdriver)\n",
    "homepage = \"https://www.bbc.com/news\"\n",
    "driver.get(homepage)\n",
    "print(f\"scraping from: {driver.title}\")\n",
    "\n",
    "# 0. find the categories in the navigation bar\n",
    "nav_bar = driver.find_element_by_class_name(\"nw-c-nav__wide-sections\")\n",
    "preview_hrefs_this_page = nav_bar.find_elements_by_class_name(\"nw-o-link\")\n",
    "preview_hrefs = [tag.get_attribute(\"href\") for tag in preview_hrefs_this_page]\n",
    "for href in preview_hrefs:\n",
    "    if href not in bbc_disallowed:\n",
    "        print(href)"
   ]
  },
  {
   "cell_type": "code",
   "execution_count": 66,
   "metadata": {},
   "outputs": [
    {
     "output_type": "stream",
     "name": "stdout",
     "text": [
      "['https://www.bbc.com/news/world-asia-china-57314397', 'https://www.bbc.com/news/world-australia-57353654']\n",
      "['https://www.bbc.com/news/uk-57353048', 'https://www.bbc.com/news/uk-england-merseyside-57356486']\n"
     ]
    }
   ],
   "source": [
    "# scraping for one link only but loop this 👇\n",
    "# 1. find webpage with links to articles or article previews\n",
    "for preview_href in preview_hrefs[4:6]:\n",
    "    page_w_hrefs = preview_href\n",
    "    driver.get(page_w_hrefs)\n",
    "\n",
    "    href_elements = driver.find_elements_by_xpath(\"//a[@class='gs-c-promo-heading gs-o-faux-block-link__overlay-link gel-pica-bold nw-o-link-split__anchor']\")\n",
    "\n",
    "    # 2. add all the article links found on the page to a `article_hrefs_this_page` list\n",
    "    article_hrefs = [tag.get_attribute(\"href\") for tag in href_elements]\n",
    "    print(article_hrefs[:2])"
   ]
  },
  {
   "cell_type": "code",
   "execution_count": 67,
   "metadata": {},
   "outputs": [
    {
     "output_type": "stream",
     "name": "stdout",
     "text": [
      "Covid-19: Portugal queries amber status as UK tightens rules\n",
      " Portugal has questioned the UK's decision to remove it from the travel green list from Tuesday. The move to the amber list means UK tourists should not visit the country and returnees must isolate for 10 days. Transport Secretary Grant Shapps cited rising cases and a Covid mutation found in Portugal. But the travel firm Tui said 50% of passengers due to travel there in June are still planning to go. But Portugal said it could not understand the \"logic\" of the move. Cristovao Norte, Portuguese MP for the Algarve, said he was \"perplexed\" by the government's decision to remove the country from the green list. He told BBC Radio 4's Today programme that Portugal was \"not expecting the decision\", as beyond a spike in the capital, Lisbon, its transmission rate was \"more or less\" that of the UK's. \"We wear masks, we obey the rules, we maintain social distancing, vaccination is growing steadily. So I'm a little bit perplexed,\" he said. In the first review of England's traffic light list for international travel, no new destinations were added to the green list, where travellers must be tested but do not have to quarantine on their return. Seven countries - Afghanistan, Bahrain, Costa Rica, Egypt, Sri Lanka, Sudan, and Trinidad and Tobago - are being added to the red list. Holidaymakers should not travel to amber or red list countries, according to government guidance. Scotland, Wales and Northern Ireland have confirmed they will adopt the same changes, which come into effect at 04:00 BST on 8 June. The green list will reviewed again on 28 June. The travel industry has criticised the change, saying it will threaten jobs and consumer confidence - with the boss of Heathrow Airport warning the sector faces \"another lost summer\". Travel sector voices dismay over rule changes\n",
      "What are the rules for green, amber and red lists?\n",
      "More than half of UK adults fully vaccinated The UK government said the decision to move Portugal, including Madeira and the Azores, to the amber list followed increased concern about a mutation of the Delta variant, which was first identified in India. The Department for Transport said 68 cases of the Delta variant had been identified in Portugal, including cases with an additional, potentially detrimental mutation, being referred to as the Nepal mutation. Public Health England (PHE) told the BBC the mutation of the variant was present in multiple countries, including a small number of cases in the UK. It is investigating the mutation to better understand whether it could be more transmissible and less effectively tackled by vaccines. The number of positive Covid cases in Portugal has also nearly doubled since the last review, the department said, adding the situation \"has required swift action to protect the gains made with the [UK] vaccine rollout\". On 2 June, Portugal had 5.4 new cases per 100,000 people per day, which was only a little higher than the UK at 5.1 - but differences in the amount of testing being done make direct comparisons difficult. Communities Secretary Robert Jenrick said the government had chosen to adopt a \"cautious approach\" to protect the \"progress\" made against the virus in the UK. He told BBC Breakfast on Friday that while he appreciated it was \"difficult\" for people, the UK had \"made so much progress as a country\" as the result of the vaccine rollout, that ministers needed \"to adopt a cautious approach to protect the UK from infection from new variants\". He added that it was \"right to be careful\" while scientists investigated whether the new variant was more transmissible and how effective current vaccines were against it. At end of April, the transport secretary told Parliament the government was looking at producing a \"green watch list\" where it could indicate \"a couple of weeks in advance\" when it was studying a variant which could become a variant of concern - in order to give people time to return to the UK before rule changes. Mr Jenrick told BBC Radio 4's Today programme the \"watchlist system remains, if it's possible\" and that if ministers saw case and positivity rates increasing then \"one may be able to use that... to give people and the industry that forward guidance\". But he said the government might need to \"act more swiftly\" as new variants and mutations emerged. Ryanair chief executive Michael O'Leary said the decision to move Portugal to the amber list \"isn't based on any science or public health\" and accused the government of making up policy \"as they go along\". \"What we don't understand is why the UK, which has been so successful with vaccines, is expecting its vaccinated citizens travelling to Portugal coming back to quarantine,\" he told BBC Breakfast. Mr O'Leary said the decision was \"more mismanagement of the Covid recovery\" and had created \"unnecessary disruption and stress for hundreds of thousands of British families\". Tui said that while half of its passengers booked to go to Portugal in June were still planning to travel, the remaining 50% had amended their dates. The operator is not currently offering cancellations for trips while the Foreign Office is not advising against travel to Portugal. Tui said it had around 8,000 UK passengers in Portugal at the moment, but that this would reduce to 2,000 after Sunday as many returned at the end of half term. It said it was not planning to lay on additional flights to get passengers back before the new rules kicked in, but would upgrade the size of its planes. The change to Portugal's status means holidaymakers face a scramble for flights home before the new rules come into force. Simon Smith, from Stamford, in Lincolnshire, is currently on holiday in Portugal and trying to get back to the UK. He is worried he may not be able to get coronavirus tests in time to board his return flight on Saturday. He told the Today programme: \"It's been a bit of a scramble. We're trying to get some testing organised but the government released the information yesterday and it was a bank holiday in Portugal, which didn't help. \"We're being told by local doctors that it can be up to three or four days' waiting for tests so that we can fly… so it's a bit of a nightmare.\" On the decision to amend the green list, Mr Shapps said the government \"simply don't want to take the risk as we come up to June 21 and the review of the fourth stage of the unlock\". On that date, all legal restrictions on social contact in England are due to be lifted - but some scientists have said this should be delayed due to rising cases. A final decision will be made on whether to proceed with the easing of restrictions by 14 June. Can we get our money back if we can't go on holiday?\n",
      "'Let us go on holiday and live our lives' On Thursday, the UK reported 5,274 new cases - the highest figure since 26 March - and another 18 deaths within 28 days of a positive test. PHE believes the Delta variant is now dominant in the UK and that it may be linked to a higher risk of hospital admission. Prof Neil Ferguson, an expert on the spread of infectious diseases who sits on the government's New and Emerging Respiratory Virus Threats Advisory Group (Nervtag), said the current \"best estimate\" was that the Delta variant could be \"60% more transmissible\" than the previously dominant Kent variant known as Alpha. Asked about whether the ending of restrictions on 21 June needed to be delayed, he told the Today programme the data was \"pointing this week in a more negative direction than it was last week\", so it pointed \"towards the direction of being cautious\". Travel expert Simon Calder said people should not be under the \"misapprehension\" that just because a country was on the green list that travel would be as easy as simply showing your passport, and getting into the country. Speaking from Gibraltar, one of a small number of countries on the green list, he told BBC Breakfast that he has had to fill in forms and book Covid tests before he can board a return flight, making the process already \"formidably difficult\". Meanwhile, Tim Alderslade, chief executive of Airlines UK, told the BBC's World Tonight programme that there could be a return to the travel situation of last summer, \"with people just not wanting to book because of the risk\", and that the \"feeling within the sector is we are being potentially sacrificed in order to protect the domestic reopening on 21 June\". The Airline Operators Association said the industry would require substantial government support to protect jobs if there was to be \"another disastrous summer as a result of a continued overly-cautious approach\". And Labour said downgrading Portugal was \"not the answer\", calling for the amber list to be scrapped altogether and citing reports that more than 50,000 people were travelling to the UK every day. Kerry, a photographer from the Wirral, says her family - like many others - have had \"the year from hell\". Her partner has been shielding for over a year due to an auto-immune disease, Kerry has had to nurse her mother through Covid-19 and a stroke, and her 18-month old son has hardly known a world without a pandemic. She was just about to book a trip to Portugal when the rules changed. \"This holiday was everything for us - our first with our baby who has had no experiences in his first 18 months on this planet,\" she says. But others say they are likely to make the trip despite the list change. One man told the BBC: \"Unless they say, you must not go, you will be fined if you go, we might well still go and just have to bear the additional costs of an extra PCR test and the fact that we have to quarantine.\" Read more travellers' reactions HARMFUL STEREOTYPES: From Psycho to Skyfall, Inside Cinema looks at the camp villain trope\n",
      "THE PACT: What really happened that night? Are you in Portugal? Are you planning to travel there soon? Please share how this latest announcement will affect you. Email haveyoursay@bbc.co.uk. Please include a contact number if you are willing to speak to a BBC journalist. You can also get in touch in the following ways: WhatsApp: +44 7756 165803\n",
      "Tweet: @BBC_HaveYourSay\n",
      "Please read our terms & conditions and privacy policy If you are reading this page and can't see the form you will need to visit the mobile version of the BBC website to submit your question or comment or you can email us at HaveYourSay@bbc.co.uk. Please include your name, age and location with any submission.\n",
      "Hillsborough: Police forces agree cover-up compensation for victims\n",
      " Two police forces are to pay damages to more than 600 people over a cover-up which followed the Hillsborough disaster, lawyers have said. The South Yorkshire and West Midlands forces agreed the settlement earlier in 2021 following a civil claim. Nobody has ever been convicted over police actions following the tragedy, in which 96 Liverpool fans died at the 1989 FA Cup semi-final. Three men were acquitted of altering police statements in May. A spokesman for Saunders Law, the lead solicitors for the group litigation, said the claim was started in 2015 and agreed in April. But it could not be reported until the conclusion of the trial of former South Yorkshire Police Ch Supt Donald Denton, 83, retired Det Ch Insp Alan Foster, 74, and Peter Metcalf, 71, who acted as solicitor for the force. The three men, who denied perverting the course of justice, went on trial at Preston Crown Court in April but Mr Justice William Davis later ruled they had no case to answer. The Saunders Law spokesman said \"the settlement of these claims marks the end of an unparalleled and extraordinary fight for justice by the victims and their families\". The disaster at Sheffield Wednesday's stadium was investigated by West Midlands Police. Why not follow BBC North West on Facebook, Twitter and Instagram? You can also send story ideas to northwest.newsonline@bbc.co.uk\n"
     ]
    }
   ],
   "source": [
    "# 3. for each link in `article_hrefs_this_page`:\n",
    "    # * scrap:\n",
    "        # - title  \n",
    "        # - URL  \n",
    "        # - author  \n",
    "        # - raw_text  \n",
    "        # - publish_date  \n",
    "        # - images  \n",
    "        # - tags\n",
    "for article_url in article_hrefs[:2]:\n",
    "    driver.get(article_url)\n",
    "    title_element = driver.find_element_by_xpath(\"//h1[@class='ssrcss-1pl2zfy-StyledHeading e1fj1fc10']\")\n",
    "    title = title_element.get_attribute(\"innerHTML\")\n",
    "    raw_text_elements = driver.find_elements_by_xpath(\"//div[@class='ssrcss-18snukc-RichTextContainer e5tfeyi1']\")\n",
    "    raw_text = \"\"\n",
    "    for raw_text_element in raw_text_elements:\n",
    "        raw_text += (\" \" + raw_text_element.text)\n",
    "    print(title)\n",
    "    print(raw_text)"
   ]
  },
  {
   "cell_type": "code",
   "execution_count": null,
   "metadata": {},
   "outputs": [],
   "source": []
  }
 ]
}